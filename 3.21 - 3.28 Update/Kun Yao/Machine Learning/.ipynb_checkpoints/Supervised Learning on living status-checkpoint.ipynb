{
 "cells": [
  {
   "cell_type": "markdown",
   "id": "5aa2225f",
   "metadata": {},
   "source": [
    "## Machine Learning on predicting the survival status"
   ]
  },
  {
   "cell_type": "markdown",
   "id": "aeb39318",
   "metadata": {},
   "source": [
    "I selected some features as the independent varibles and select the 'Overall survival status' as the independent variable. I want to utilize the supervised learning model to predict whether the patient is alive or dead based on the features I select. Below is my analysis:"
   ]
  },
  {
   "cell_type": "markdown",
   "id": "6cf498f8",
   "metadata": {},
   "source": [
    "- **Dependent Varible:** Overall Survival Status\n",
    "- **Independent Varibles:** \n",
    "    - Sex \n",
    "    - Diagnosis Age\n",
    "    - Fraction Genome Altered\n",
    "    - Longest Dimension\n",
    "    - Smoking_year\n",
    "    - Mutation Count\n",
    "    - Shortest Dimension\n",
    "    - Person Cigarette Smoking History Pack Year Value\n",
    "    - Specimen Second Longest Dimension\n",
    "    - TMB (nonsynonymous)"
   ]
  },
  {
   "cell_type": "code",
   "execution_count": 1,
   "id": "282b849e",
   "metadata": {},
   "outputs": [],
   "source": [
    "import pandas as pd\n",
    "import numpy as np\n",
    "import matplotlib.pyplot as plt\n",
    "import seaborn as sns\n",
    "import warnings\n",
    "warnings.filterwarnings('ignore')"
   ]
  },
  {
   "cell_type": "code",
   "execution_count": 2,
   "id": "a06a40e3",
   "metadata": {},
   "outputs": [],
   "source": [
    "# Set up function parameters for different cross validation strategies\n",
    "from sklearn.model_selection import RepeatedKFold\n",
    "from sklearn.model_selection import StratifiedKFold\n",
    "from sklearn.model_selection import KFold\n",
    "from sklearn.model_selection import cross_val_score\n",
    "\n",
    "kfold = KFold(n_splits=5) # I use this in PART 1.\n",
    "skfold = StratifiedKFold(n_splits=5, shuffle=True) \n",
    "rkf = RepeatedKFold(n_splits=5, n_repeats=10, random_state=1)"
   ]
  },
  {
   "cell_type": "code",
   "execution_count": 3,
   "id": "66489b79",
   "metadata": {},
   "outputs": [],
   "source": [
    "data = pd.read_csv(\"Lung_new_data.csv\")"
   ]
  },
  {
   "cell_type": "code",
   "execution_count": 4,
   "id": "48cb907a",
   "metadata": {},
   "outputs": [
    {
     "name": "stdout",
     "output_type": "stream",
     "text": [
      "<class 'pandas.core.frame.DataFrame'>\n",
      "RangeIndex: 79 entries, 0 to 78\n",
      "Data columns (total 12 columns):\n",
      " #   Column                                            Non-Null Count  Dtype  \n",
      "---  ------                                            --------------  -----  \n",
      " 0   Unnamed: 0                                        79 non-null     int64  \n",
      " 1   Overall Survival Status                           79 non-null     int64  \n",
      " 2   Sex                                               79 non-null     int64  \n",
      " 3   Diagnosis Age                                     79 non-null     float64\n",
      " 4   Fraction Genome Altered                           79 non-null     float64\n",
      " 5   Longest Dimension                                 79 non-null     float64\n",
      " 6   Smoking_year                                      79 non-null     float64\n",
      " 7   Mutation Count                                    79 non-null     float64\n",
      " 8   Shortest Dimension                                79 non-null     float64\n",
      " 9   Person Cigarette Smoking History Pack Year Value  79 non-null     float64\n",
      " 10  Specimen Second Longest Dimension                 79 non-null     float64\n",
      " 11  TMB (nonsynonymous)                               79 non-null     float64\n",
      "dtypes: float64(9), int64(3)\n",
      "memory usage: 7.5 KB\n"
     ]
    }
   ],
   "source": [
    "data.info()"
   ]
  },
  {
   "cell_type": "code",
   "execution_count": 5,
   "id": "6f8fca47",
   "metadata": {},
   "outputs": [
    {
     "data": {
      "text/html": [
       "<div>\n",
       "<style scoped>\n",
       "    .dataframe tbody tr th:only-of-type {\n",
       "        vertical-align: middle;\n",
       "    }\n",
       "\n",
       "    .dataframe tbody tr th {\n",
       "        vertical-align: top;\n",
       "    }\n",
       "\n",
       "    .dataframe thead th {\n",
       "        text-align: right;\n",
       "    }\n",
       "</style>\n",
       "<table border=\"1\" class=\"dataframe\">\n",
       "  <thead>\n",
       "    <tr style=\"text-align: right;\">\n",
       "      <th></th>\n",
       "      <th>Unnamed: 0</th>\n",
       "      <th>Overall Survival Status</th>\n",
       "      <th>Sex</th>\n",
       "      <th>Diagnosis Age</th>\n",
       "      <th>Fraction Genome Altered</th>\n",
       "      <th>Longest Dimension</th>\n",
       "      <th>Smoking_year</th>\n",
       "      <th>Mutation Count</th>\n",
       "      <th>Shortest Dimension</th>\n",
       "      <th>Person Cigarette Smoking History Pack Year Value</th>\n",
       "      <th>Specimen Second Longest Dimension</th>\n",
       "      <th>TMB (nonsynonymous)</th>\n",
       "    </tr>\n",
       "  </thead>\n",
       "  <tbody>\n",
       "    <tr>\n",
       "      <th>0</th>\n",
       "      <td>5</td>\n",
       "      <td>0</td>\n",
       "      <td>1</td>\n",
       "      <td>66.0</td>\n",
       "      <td>0.0661</td>\n",
       "      <td>0.8</td>\n",
       "      <td>24.0</td>\n",
       "      <td>119.0</td>\n",
       "      <td>0.4</td>\n",
       "      <td>20.0</td>\n",
       "      <td>0.8</td>\n",
       "      <td>4.033333</td>\n",
       "    </tr>\n",
       "    <tr>\n",
       "      <th>1</th>\n",
       "      <td>7</td>\n",
       "      <td>0</td>\n",
       "      <td>0</td>\n",
       "      <td>58.0</td>\n",
       "      <td>0.3056</td>\n",
       "      <td>1.8</td>\n",
       "      <td>30.0</td>\n",
       "      <td>487.0</td>\n",
       "      <td>0.3</td>\n",
       "      <td>15.0</td>\n",
       "      <td>0.9</td>\n",
       "      <td>16.800000</td>\n",
       "    </tr>\n",
       "    <tr>\n",
       "      <th>2</th>\n",
       "      <td>9</td>\n",
       "      <td>1</td>\n",
       "      <td>1</td>\n",
       "      <td>76.0</td>\n",
       "      <td>0.2340</td>\n",
       "      <td>1.6</td>\n",
       "      <td>37.0</td>\n",
       "      <td>464.0</td>\n",
       "      <td>0.5</td>\n",
       "      <td>19.0</td>\n",
       "      <td>0.9</td>\n",
       "      <td>15.800000</td>\n",
       "    </tr>\n",
       "    <tr>\n",
       "      <th>3</th>\n",
       "      <td>14</td>\n",
       "      <td>0</td>\n",
       "      <td>0</td>\n",
       "      <td>74.0</td>\n",
       "      <td>0.3903</td>\n",
       "      <td>0.9</td>\n",
       "      <td>43.0</td>\n",
       "      <td>344.0</td>\n",
       "      <td>0.3</td>\n",
       "      <td>65.0</td>\n",
       "      <td>0.7</td>\n",
       "      <td>11.866667</td>\n",
       "    </tr>\n",
       "    <tr>\n",
       "      <th>4</th>\n",
       "      <td>15</td>\n",
       "      <td>0</td>\n",
       "      <td>1</td>\n",
       "      <td>62.0</td>\n",
       "      <td>0.3183</td>\n",
       "      <td>1.0</td>\n",
       "      <td>49.0</td>\n",
       "      <td>956.0</td>\n",
       "      <td>0.4</td>\n",
       "      <td>98.0</td>\n",
       "      <td>0.8</td>\n",
       "      <td>32.900000</td>\n",
       "    </tr>\n",
       "  </tbody>\n",
       "</table>\n",
       "</div>"
      ],
      "text/plain": [
       "   Unnamed: 0  Overall Survival Status  Sex  Diagnosis Age  \\\n",
       "0           5                        0    1           66.0   \n",
       "1           7                        0    0           58.0   \n",
       "2           9                        1    1           76.0   \n",
       "3          14                        0    0           74.0   \n",
       "4          15                        0    1           62.0   \n",
       "\n",
       "   Fraction Genome Altered  Longest Dimension  Smoking_year  Mutation Count  \\\n",
       "0                   0.0661                0.8          24.0           119.0   \n",
       "1                   0.3056                1.8          30.0           487.0   \n",
       "2                   0.2340                1.6          37.0           464.0   \n",
       "3                   0.3903                0.9          43.0           344.0   \n",
       "4                   0.3183                1.0          49.0           956.0   \n",
       "\n",
       "   Shortest Dimension  Person Cigarette Smoking History Pack Year Value  \\\n",
       "0                 0.4                                              20.0   \n",
       "1                 0.3                                              15.0   \n",
       "2                 0.5                                              19.0   \n",
       "3                 0.3                                              65.0   \n",
       "4                 0.4                                              98.0   \n",
       "\n",
       "   Specimen Second Longest Dimension  TMB (nonsynonymous)  \n",
       "0                                0.8             4.033333  \n",
       "1                                0.9            16.800000  \n",
       "2                                0.9            15.800000  \n",
       "3                                0.7            11.866667  \n",
       "4                                0.8            32.900000  "
      ]
     },
     "execution_count": 5,
     "metadata": {},
     "output_type": "execute_result"
    }
   ],
   "source": [
    "data.head()"
   ]
  },
  {
   "cell_type": "code",
   "execution_count": 6,
   "id": "2b4bd169",
   "metadata": {},
   "outputs": [],
   "source": [
    "X = data[['Diagnosis Age','Fraction Genome Altered', 'Longest Dimension', 'Smoking_year',\n",
    "               'Mutation Count', 'Shortest Dimension', 'Person Cigarette Smoking History Pack Year Value',\n",
    "               'Specimen Second Longest Dimension', 'TMB (nonsynonymous)']]\n",
    "y = data['Overall Survival Status']\n"
   ]
  },
  {
   "cell_type": "code",
   "execution_count": 7,
   "id": "bac88e18",
   "metadata": {},
   "outputs": [],
   "source": [
    "#Step 1: Split the data into training and testing set\n",
    "from sklearn.model_selection import train_test_split\n",
    "\n",
    "# randomly assign some data to the test-set and the rest to the training-set\n",
    "X_train, X_test, y_train, y_test = train_test_split(X, y, random_state = 42) "
   ]
  },
  {
   "cell_type": "code",
   "execution_count": 8,
   "id": "8c20530a",
   "metadata": {},
   "outputs": [
    {
     "name": "stdout",
     "output_type": "stream",
     "text": [
      "0.009961127308065754\n"
     ]
    }
   ],
   "source": [
    "#KNN Classifier\n",
    "from sklearn.model_selection import cross_val_score\n",
    "from sklearn.neighbors import KNeighborsRegressor\n",
    "\n",
    "knn = KNeighborsRegressor(n_neighbors = 14) \n",
    "knn.fit(X_train, y_train)\n",
    "print(knn.score(X_test, y_test))\n"
   ]
  },
  {
   "cell_type": "code",
   "execution_count": 9,
   "id": "edf4cc76",
   "metadata": {},
   "outputs": [
    {
     "name": "stdout",
     "output_type": "stream",
     "text": [
      "0.55\n"
     ]
    }
   ],
   "source": [
    "#Logistic Regression model\n",
    "\n",
    "import warnings\n",
    "warnings.filterwarnings(\"ignore\", category=FutureWarning) # I did this to remove all the warnings :)\n",
    "from sklearn.linear_model import LogisticRegression\n",
    "\n",
    "logreg = LogisticRegression()\n",
    "logreg.fit(X_train, y_train)\n",
    "print(logreg.score(X_test, y_test))\n"
   ]
  },
  {
   "cell_type": "code",
   "execution_count": 10,
   "id": "f2fc70fb",
   "metadata": {},
   "outputs": [
    {
     "name": "stdout",
     "output_type": "stream",
     "text": [
      "0.8\n"
     ]
    }
   ],
   "source": [
    "#Decision Tree Classifier\n",
    "from sklearn.tree import DecisionTreeClassifier\n",
    "\n",
    "tree_class = DecisionTreeClassifier(random_state=0)\n",
    "tree_class.fit(X_train, y_train)\n",
    "print(tree_class.score(X_test, y_test))\n"
   ]
  },
  {
   "cell_type": "code",
   "execution_count": 11,
   "id": "1835f2da",
   "metadata": {},
   "outputs": [
    {
     "name": "stdout",
     "output_type": "stream",
     "text": [
      "0.75\n"
     ]
    }
   ],
   "source": [
    "#Random forest classifier\n",
    "\n",
    "from sklearn.ensemble import RandomForestClassifier\n",
    "\n",
    "forest_classifier = RandomForestClassifier(random_state=0)\n",
    "forest_classifier.fit(X_train, y_train)\n",
    "print(forest_classifier.score(X_test, y_test))\n"
   ]
  },
  {
   "cell_type": "code",
   "execution_count": 12,
   "id": "8e948ea2",
   "metadata": {},
   "outputs": [
    {
     "name": "stdout",
     "output_type": "stream",
     "text": [
      "0.7\n"
     ]
    }
   ],
   "source": [
    "#SVM\n",
    "from sklearn import svm\n",
    "\n",
    "svc = svm.SVC()\n",
    "svc.fit(X_train, y_train)\n",
    "print(svc.score(X_test, y_test))\n"
   ]
  },
  {
   "cell_type": "markdown",
   "id": "7faa0ed5",
   "metadata": {},
   "source": [
    "### Decision Tree has the highest score on predicting whether the patient is alive or dead."
   ]
  }
 ],
 "metadata": {
  "kernelspec": {
   "display_name": "Python 3 (ipykernel)",
   "language": "python",
   "name": "python3"
  },
  "language_info": {
   "codemirror_mode": {
    "name": "ipython",
    "version": 3
   },
   "file_extension": ".py",
   "mimetype": "text/x-python",
   "name": "python",
   "nbconvert_exporter": "python",
   "pygments_lexer": "ipython3",
   "version": "3.9.7"
  }
 },
 "nbformat": 4,
 "nbformat_minor": 5
}
