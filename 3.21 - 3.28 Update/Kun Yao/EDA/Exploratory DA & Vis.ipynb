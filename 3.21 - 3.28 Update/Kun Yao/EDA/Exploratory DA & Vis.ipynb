{
 "cells": [
  {
   "cell_type": "markdown",
   "id": "68da198f",
   "metadata": {},
   "source": [
    "## Basic EDA"
   ]
  },
  {
   "cell_type": "code",
   "execution_count": 1,
   "id": "307aab31",
   "metadata": {},
   "outputs": [],
   "source": [
    "import pandas as pd\n",
    "import numpy as np\n",
    "import seaborn as sns\n",
    "import matplotlib.pyplot as plt\n",
    "import warnings\n",
    "warnings.filterwarnings('ignore')"
   ]
  },
  {
   "cell_type": "code",
   "execution_count": 2,
   "id": "32a7c377",
   "metadata": {},
   "outputs": [],
   "source": [
    "lung_ade = pd.read_csv(\"luad_tcga_clinical_data.tsv\", sep='\\t')"
   ]
  },
  {
   "cell_type": "code",
   "execution_count": 3,
   "id": "b6243ff9",
   "metadata": {},
   "outputs": [
    {
     "data": {
      "text/html": [
       "<div>\n",
       "<style scoped>\n",
       "    .dataframe tbody tr th:only-of-type {\n",
       "        vertical-align: middle;\n",
       "    }\n",
       "\n",
       "    .dataframe tbody tr th {\n",
       "        vertical-align: top;\n",
       "    }\n",
       "\n",
       "    .dataframe thead th {\n",
       "        text-align: right;\n",
       "    }\n",
       "</style>\n",
       "<table border=\"1\" class=\"dataframe\">\n",
       "  <thead>\n",
       "    <tr style=\"text-align: right;\">\n",
       "      <th></th>\n",
       "      <th>Diagnosis Age</th>\n",
       "      <th>Neoplasm Disease Stage American Joint Committee on Cancer Code.1</th>\n",
       "      <th>Neoplasm American Joint Committee on Cancer Clinical Distant Metastasis M Stage</th>\n",
       "      <th>American Joint Committee on Cancer Lymph Node Stage Code.1</th>\n",
       "      <th>American Joint Committee on Cancer Lymph Node Stage Code</th>\n",
       "      <th>ALK Translocation Variant</th>\n",
       "      <th>Carbon monoxide diffusion dlco</th>\n",
       "      <th>Days to Sample Collection.</th>\n",
       "      <th>Last Alive Less Initial Pathologic Diagnosis Date Calculated Day Value</th>\n",
       "      <th>days_to_patient_progression_free</th>\n",
       "      <th>...</th>\n",
       "      <th>Started Smoking Year</th>\n",
       "      <th>Stopped Smoking Year</th>\n",
       "      <th>Specimen Current Weight</th>\n",
       "      <th>Specimen Freezing Means</th>\n",
       "      <th>Specimen Second Longest Dimension</th>\n",
       "      <th>Stage Other</th>\n",
       "      <th>Time between clamping and freezing</th>\n",
       "      <th>Time between excision and freezing</th>\n",
       "      <th>TMB (nonsynonymous)</th>\n",
       "      <th>Patient Smoking History Category</th>\n",
       "    </tr>\n",
       "  </thead>\n",
       "  <tbody>\n",
       "    <tr>\n",
       "      <th>count</th>\n",
       "      <td>505.000000</td>\n",
       "      <td>0.0</td>\n",
       "      <td>0.0</td>\n",
       "      <td>0.0</td>\n",
       "      <td>0.0</td>\n",
       "      <td>0.0</td>\n",
       "      <td>200.000000</td>\n",
       "      <td>112.000000</td>\n",
       "      <td>505.0</td>\n",
       "      <td>0.0</td>\n",
       "      <td>...</td>\n",
       "      <td>279.000000</td>\n",
       "      <td>262.000000</td>\n",
       "      <td>0.0</td>\n",
       "      <td>0.0</td>\n",
       "      <td>408.000000</td>\n",
       "      <td>0.0</td>\n",
       "      <td>0.0</td>\n",
       "      <td>0.0</td>\n",
       "      <td>230.000000</td>\n",
       "      <td>510.000000</td>\n",
       "    </tr>\n",
       "    <tr>\n",
       "      <th>mean</th>\n",
       "      <td>65.338614</td>\n",
       "      <td>NaN</td>\n",
       "      <td>NaN</td>\n",
       "      <td>NaN</td>\n",
       "      <td>NaN</td>\n",
       "      <td>NaN</td>\n",
       "      <td>73.338400</td>\n",
       "      <td>1073.758929</td>\n",
       "      <td>0.0</td>\n",
       "      <td>NaN</td>\n",
       "      <td>...</td>\n",
       "      <td>1964.996416</td>\n",
       "      <td>1994.847328</td>\n",
       "      <td>NaN</td>\n",
       "      <td>NaN</td>\n",
       "      <td>0.764951</td>\n",
       "      <td>NaN</td>\n",
       "      <td>NaN</td>\n",
       "      <td>NaN</td>\n",
       "      <td>8.001739</td>\n",
       "      <td>2.813725</td>\n",
       "    </tr>\n",
       "    <tr>\n",
       "      <th>std</th>\n",
       "      <td>10.004275</td>\n",
       "      <td>NaN</td>\n",
       "      <td>NaN</td>\n",
       "      <td>NaN</td>\n",
       "      <td>NaN</td>\n",
       "      <td>NaN</td>\n",
       "      <td>22.728689</td>\n",
       "      <td>1439.793499</td>\n",
       "      <td>0.0</td>\n",
       "      <td>NaN</td>\n",
       "      <td>...</td>\n",
       "      <td>12.519768</td>\n",
       "      <td>13.608918</td>\n",
       "      <td>NaN</td>\n",
       "      <td>NaN</td>\n",
       "      <td>0.309429</td>\n",
       "      <td>NaN</td>\n",
       "      <td>NaN</td>\n",
       "      <td>NaN</td>\n",
       "      <td>8.072463</td>\n",
       "      <td>1.081460</td>\n",
       "    </tr>\n",
       "    <tr>\n",
       "      <th>min</th>\n",
       "      <td>33.000000</td>\n",
       "      <td>NaN</td>\n",
       "      <td>NaN</td>\n",
       "      <td>NaN</td>\n",
       "      <td>NaN</td>\n",
       "      <td>NaN</td>\n",
       "      <td>1.000000</td>\n",
       "      <td>8.000000</td>\n",
       "      <td>0.0</td>\n",
       "      <td>NaN</td>\n",
       "      <td>...</td>\n",
       "      <td>1930.000000</td>\n",
       "      <td>1948.000000</td>\n",
       "      <td>NaN</td>\n",
       "      <td>NaN</td>\n",
       "      <td>0.100000</td>\n",
       "      <td>NaN</td>\n",
       "      <td>NaN</td>\n",
       "      <td>NaN</td>\n",
       "      <td>0.433333</td>\n",
       "      <td>1.000000</td>\n",
       "    </tr>\n",
       "    <tr>\n",
       "      <th>25%</th>\n",
       "      <td>59.000000</td>\n",
       "      <td>NaN</td>\n",
       "      <td>NaN</td>\n",
       "      <td>NaN</td>\n",
       "      <td>NaN</td>\n",
       "      <td>NaN</td>\n",
       "      <td>57.000000</td>\n",
       "      <td>98.750000</td>\n",
       "      <td>0.0</td>\n",
       "      <td>NaN</td>\n",
       "      <td>...</td>\n",
       "      <td>1956.000000</td>\n",
       "      <td>1985.000000</td>\n",
       "      <td>NaN</td>\n",
       "      <td>NaN</td>\n",
       "      <td>0.600000</td>\n",
       "      <td>NaN</td>\n",
       "      <td>NaN</td>\n",
       "      <td>NaN</td>\n",
       "      <td>2.708333</td>\n",
       "      <td>2.000000</td>\n",
       "    </tr>\n",
       "    <tr>\n",
       "      <th>50%</th>\n",
       "      <td>66.000000</td>\n",
       "      <td>NaN</td>\n",
       "      <td>NaN</td>\n",
       "      <td>NaN</td>\n",
       "      <td>NaN</td>\n",
       "      <td>NaN</td>\n",
       "      <td>73.000000</td>\n",
       "      <td>222.500000</td>\n",
       "      <td>0.0</td>\n",
       "      <td>NaN</td>\n",
       "      <td>...</td>\n",
       "      <td>1965.000000</td>\n",
       "      <td>1997.500000</td>\n",
       "      <td>NaN</td>\n",
       "      <td>NaN</td>\n",
       "      <td>0.700000</td>\n",
       "      <td>NaN</td>\n",
       "      <td>NaN</td>\n",
       "      <td>NaN</td>\n",
       "      <td>5.333333</td>\n",
       "      <td>3.000000</td>\n",
       "    </tr>\n",
       "    <tr>\n",
       "      <th>75%</th>\n",
       "      <td>73.000000</td>\n",
       "      <td>NaN</td>\n",
       "      <td>NaN</td>\n",
       "      <td>NaN</td>\n",
       "      <td>NaN</td>\n",
       "      <td>NaN</td>\n",
       "      <td>87.250000</td>\n",
       "      <td>1788.250000</td>\n",
       "      <td>0.0</td>\n",
       "      <td>NaN</td>\n",
       "      <td>...</td>\n",
       "      <td>1972.000000</td>\n",
       "      <td>2007.000000</td>\n",
       "      <td>NaN</td>\n",
       "      <td>NaN</td>\n",
       "      <td>0.900000</td>\n",
       "      <td>NaN</td>\n",
       "      <td>NaN</td>\n",
       "      <td>NaN</td>\n",
       "      <td>9.808333</td>\n",
       "      <td>4.000000</td>\n",
       "    </tr>\n",
       "    <tr>\n",
       "      <th>max</th>\n",
       "      <td>88.000000</td>\n",
       "      <td>NaN</td>\n",
       "      <td>NaN</td>\n",
       "      <td>NaN</td>\n",
       "      <td>NaN</td>\n",
       "      <td>NaN</td>\n",
       "      <td>178.000000</td>\n",
       "      <td>6271.000000</td>\n",
       "      <td>0.0</td>\n",
       "      <td>NaN</td>\n",
       "      <td>...</td>\n",
       "      <td>1999.000000</td>\n",
       "      <td>2013.000000</td>\n",
       "      <td>NaN</td>\n",
       "      <td>NaN</td>\n",
       "      <td>2.000000</td>\n",
       "      <td>NaN</td>\n",
       "      <td>NaN</td>\n",
       "      <td>NaN</td>\n",
       "      <td>44.766667</td>\n",
       "      <td>5.000000</td>\n",
       "    </tr>\n",
       "  </tbody>\n",
       "</table>\n",
       "<p>8 rows × 52 columns</p>\n",
       "</div>"
      ],
      "text/plain": [
       "       Diagnosis Age  \\\n",
       "count     505.000000   \n",
       "mean       65.338614   \n",
       "std        10.004275   \n",
       "min        33.000000   \n",
       "25%        59.000000   \n",
       "50%        66.000000   \n",
       "75%        73.000000   \n",
       "max        88.000000   \n",
       "\n",
       "       Neoplasm Disease Stage American Joint Committee on Cancer Code.1  \\\n",
       "count                                                0.0                  \n",
       "mean                                                 NaN                  \n",
       "std                                                  NaN                  \n",
       "min                                                  NaN                  \n",
       "25%                                                  NaN                  \n",
       "50%                                                  NaN                  \n",
       "75%                                                  NaN                  \n",
       "max                                                  NaN                  \n",
       "\n",
       "       Neoplasm American Joint Committee on Cancer Clinical Distant Metastasis M Stage  \\\n",
       "count                                                0.0                                 \n",
       "mean                                                 NaN                                 \n",
       "std                                                  NaN                                 \n",
       "min                                                  NaN                                 \n",
       "25%                                                  NaN                                 \n",
       "50%                                                  NaN                                 \n",
       "75%                                                  NaN                                 \n",
       "max                                                  NaN                                 \n",
       "\n",
       "       American Joint Committee on Cancer Lymph Node Stage Code.1  \\\n",
       "count                                                0.0            \n",
       "mean                                                 NaN            \n",
       "std                                                  NaN            \n",
       "min                                                  NaN            \n",
       "25%                                                  NaN            \n",
       "50%                                                  NaN            \n",
       "75%                                                  NaN            \n",
       "max                                                  NaN            \n",
       "\n",
       "       American Joint Committee on Cancer Lymph Node Stage Code  \\\n",
       "count                                                0.0          \n",
       "mean                                                 NaN          \n",
       "std                                                  NaN          \n",
       "min                                                  NaN          \n",
       "25%                                                  NaN          \n",
       "50%                                                  NaN          \n",
       "75%                                                  NaN          \n",
       "max                                                  NaN          \n",
       "\n",
       "       ALK Translocation Variant  Carbon monoxide diffusion dlco  \\\n",
       "count                        0.0                      200.000000   \n",
       "mean                         NaN                       73.338400   \n",
       "std                          NaN                       22.728689   \n",
       "min                          NaN                        1.000000   \n",
       "25%                          NaN                       57.000000   \n",
       "50%                          NaN                       73.000000   \n",
       "75%                          NaN                       87.250000   \n",
       "max                          NaN                      178.000000   \n",
       "\n",
       "       Days to Sample Collection.  \\\n",
       "count                  112.000000   \n",
       "mean                  1073.758929   \n",
       "std                   1439.793499   \n",
       "min                      8.000000   \n",
       "25%                     98.750000   \n",
       "50%                    222.500000   \n",
       "75%                   1788.250000   \n",
       "max                   6271.000000   \n",
       "\n",
       "       Last Alive Less Initial Pathologic Diagnosis Date Calculated Day Value  \\\n",
       "count                                              505.0                        \n",
       "mean                                                 0.0                        \n",
       "std                                                  0.0                        \n",
       "min                                                  0.0                        \n",
       "25%                                                  0.0                        \n",
       "50%                                                  0.0                        \n",
       "75%                                                  0.0                        \n",
       "max                                                  0.0                        \n",
       "\n",
       "       days_to_patient_progression_free  ...  Started Smoking Year  \\\n",
       "count                               0.0  ...            279.000000   \n",
       "mean                                NaN  ...           1964.996416   \n",
       "std                                 NaN  ...             12.519768   \n",
       "min                                 NaN  ...           1930.000000   \n",
       "25%                                 NaN  ...           1956.000000   \n",
       "50%                                 NaN  ...           1965.000000   \n",
       "75%                                 NaN  ...           1972.000000   \n",
       "max                                 NaN  ...           1999.000000   \n",
       "\n",
       "       Stopped Smoking Year  Specimen Current Weight  Specimen Freezing Means  \\\n",
       "count            262.000000                      0.0                      0.0   \n",
       "mean            1994.847328                      NaN                      NaN   \n",
       "std               13.608918                      NaN                      NaN   \n",
       "min             1948.000000                      NaN                      NaN   \n",
       "25%             1985.000000                      NaN                      NaN   \n",
       "50%             1997.500000                      NaN                      NaN   \n",
       "75%             2007.000000                      NaN                      NaN   \n",
       "max             2013.000000                      NaN                      NaN   \n",
       "\n",
       "       Specimen Second Longest Dimension  Stage Other  \\\n",
       "count                         408.000000          0.0   \n",
       "mean                            0.764951          NaN   \n",
       "std                             0.309429          NaN   \n",
       "min                             0.100000          NaN   \n",
       "25%                             0.600000          NaN   \n",
       "50%                             0.700000          NaN   \n",
       "75%                             0.900000          NaN   \n",
       "max                             2.000000          NaN   \n",
       "\n",
       "       Time between clamping and freezing  Time between excision and freezing  \\\n",
       "count                                 0.0                                 0.0   \n",
       "mean                                  NaN                                 NaN   \n",
       "std                                   NaN                                 NaN   \n",
       "min                                   NaN                                 NaN   \n",
       "25%                                   NaN                                 NaN   \n",
       "50%                                   NaN                                 NaN   \n",
       "75%                                   NaN                                 NaN   \n",
       "max                                   NaN                                 NaN   \n",
       "\n",
       "       TMB (nonsynonymous)  Patient Smoking History Category  \n",
       "count           230.000000                        510.000000  \n",
       "mean              8.001739                          2.813725  \n",
       "std               8.072463                          1.081460  \n",
       "min               0.433333                          1.000000  \n",
       "25%               2.708333                          2.000000  \n",
       "50%               5.333333                          3.000000  \n",
       "75%               9.808333                          4.000000  \n",
       "max              44.766667                          5.000000  \n",
       "\n",
       "[8 rows x 52 columns]"
      ]
     },
     "execution_count": 3,
     "metadata": {},
     "output_type": "execute_result"
    }
   ],
   "source": [
    "lung_ade.describe()"
   ]
  },
  {
   "cell_type": "code",
   "execution_count": 4,
   "id": "e57b25af",
   "metadata": {},
   "outputs": [
    {
     "name": "stdout",
     "output_type": "stream",
     "text": [
      "<class 'pandas.core.frame.DataFrame'>\n",
      "RangeIndex: 586 entries, 0 to 585\n",
      "Columns: 109 entries, Study ID to Vial number\n",
      "dtypes: float64(50), int64(2), object(57)\n",
      "memory usage: 499.1+ KB\n"
     ]
    }
   ],
   "source": [
    "lung_ade.info()"
   ]
  },
  {
   "cell_type": "code",
   "execution_count": 5,
   "id": "8fbadf8d",
   "metadata": {},
   "outputs": [
    {
     "data": {
      "text/plain": [
       "Index(['Study ID', 'Patient ID', 'Sample ID', 'Diagnosis Age',\n",
       "       'Neoplasm Disease Stage American Joint Committee on Cancer Code.1',\n",
       "       'Neoplasm American Joint Committee on Cancer Clinical Distant Metastasis M Stage',\n",
       "       'American Joint Committee on Cancer Metastasis Stage Code',\n",
       "       'American Joint Committee on Cancer Lymph Node Stage Code.1',\n",
       "       'American Joint Committee on Cancer Lymph Node Stage Code',\n",
       "       'Neoplasm Disease Lymph Node Stage American Joint Committee on Cancer Code',\n",
       "       ...\n",
       "       'Adjuvant Postoperative Targeted Therapy Administered Indicator',\n",
       "       'Time between clamping and freezing',\n",
       "       'Time between excision and freezing', 'Tissue Source Site',\n",
       "       'TMB (nonsynonymous)', 'Patient Smoking History Category',\n",
       "       'Primary Therapy Outcome Success Type', 'Tumor Site',\n",
       "       'Person Neoplasm Status', 'Vial number'],\n",
       "      dtype='object', length=109)"
      ]
     },
     "execution_count": 5,
     "metadata": {},
     "output_type": "execute_result"
    }
   ],
   "source": [
    "lung_ade.columns"
   ]
  },
  {
   "cell_type": "code",
   "execution_count": 6,
   "id": "9208966f",
   "metadata": {},
   "outputs": [],
   "source": [
    "lung_ade1 = lung_ade.dropna(axis = 1,how='all')  "
   ]
  },
  {
   "cell_type": "code",
   "execution_count": 7,
   "id": "bea87e03",
   "metadata": {
    "scrolled": true
   },
   "outputs": [
    {
     "data": {
      "text/plain": [
       "Index(['Study ID', 'Patient ID', 'Sample ID', 'Diagnosis Age',\n",
       "       'American Joint Committee on Cancer Metastasis Stage Code',\n",
       "       'Neoplasm Disease Lymph Node Stage American Joint Committee on Cancer Code',\n",
       "       'Neoplasm Disease Stage American Joint Committee on Cancer Code',\n",
       "       'American Joint Committee on Cancer Publication Version Type',\n",
       "       'American Joint Committee on Cancer Tumor Stage Code',\n",
       "       'ALK Analysis Type', 'ALK Translocation Status', 'Cancer Type',\n",
       "       'Cancer Type Detailed', 'Carbon monoxide diffusion dlco',\n",
       "       'Days to Sample Collection.',\n",
       "       'Last Alive Less Initial Pathologic Diagnosis Date Calculated Day Value',\n",
       "       'Disease Free (Months)', 'Disease Free Status', 'Disease code',\n",
       "       'Performance Status', 'Ethnicity Category',\n",
       "       'Fev1 fvc ratio postbroncholiator', 'Fev1 fvc ratio prebroncholiator',\n",
       "       'Fev1 percent ref postbroncholiator',\n",
       "       'Fev1 percent ref prebroncholiator', 'Form completion date',\n",
       "       'Fraction Genome Altered', 'Neoplasm Histologic Type Name',\n",
       "       'Neoadjuvant Therapy Type Administered Prior To Resection Text',\n",
       "       'Prior Cancer Diagnosis Occurence', 'ICD-10 Classification',\n",
       "       'International Classification of Diseases for Oncology, Third Edition ICD-O-3 Histology Code',\n",
       "       'International Classification of Diseases for Oncology, Third Edition ICD-O-3 Site Code',\n",
       "       'Informed consent verified', 'Year Cancer Initial Diagnosis', 'Is FFPE',\n",
       "       'Karnofsky Performance Score', 'Kras gene analysis indicator',\n",
       "       'KRAS Mutation', 'Kras mutation identified type',\n",
       "       'Location lung parenchyma', 'Longest Dimension', 'Mutation Count',\n",
       "       'Mutation Status', 'Mutation Type',\n",
       "       'New Neoplasm Event Post Initial Therapy Indicator', 'Oct embedded',\n",
       "       'Oncotree Code', 'Overall Survival (Months)', 'Overall Survival Status',\n",
       "       'Other Patient ID', 'Other Sample ID', 'Pathology Report File Name',\n",
       "       'Pathology report uuid',\n",
       "       'Performance Status Assessment Timepoint Category',\n",
       "       'Primary Other Site of Disease Name', 'Patient Primary Tumor Site',\n",
       "       'Project code', 'Tissue Prospective Collection Indicator',\n",
       "       'Pulmonary function test indicator', 'Race Category',\n",
       "       'Did patient start adjuvant postoperative radiotherapy?',\n",
       "       'Surgical Margin Resection Status',\n",
       "       'Tissue Retrospective Collection Indicator',\n",
       "       'Number of Samples Per Patient', 'Sample Initial Weight', 'Sample Type',\n",
       "       'Sample type id', 'Sex', 'Shortest Dimension',\n",
       "       'Person Cigarette Smoking History Pack Year Value',\n",
       "       'Started Smoking Year', 'Stopped Smoking Year', 'Somatic Status',\n",
       "       'Specimen Second Longest Dimension',\n",
       "       'Adjuvant Postoperative Targeted Therapy Administered Indicator',\n",
       "       'Tissue Source Site', 'TMB (nonsynonymous)',\n",
       "       'Patient Smoking History Category',\n",
       "       'Primary Therapy Outcome Success Type', 'Tumor Site',\n",
       "       'Person Neoplasm Status', 'Vial number'],\n",
       "      dtype='object')"
      ]
     },
     "execution_count": 7,
     "metadata": {},
     "output_type": "execute_result"
    }
   ],
   "source": [
    "lung_ade1.columns"
   ]
  },
  {
   "cell_type": "code",
   "execution_count": 8,
   "id": "13e9d906",
   "metadata": {
    "scrolled": true
   },
   "outputs": [
    {
     "data": {
      "text/plain": [
       "<AxesSubplot:xlabel='Sex', ylabel='count'>"
      ]
     },
     "execution_count": 8,
     "metadata": {},
     "output_type": "execute_result"
    },
    {
     "data": {
      "image/png": "[encoded data removed]",
      "text/plain": [
       "<Figure size 432x288 with 1 Axes>"
      ]
     },
     "metadata": {
      "needs_background": "light"
     },
     "output_type": "display_data"
    }
   ],
   "source": [
    "sns.countplot(lung_ade1['Sex'])"
   ]
  },
  {
   "cell_type": "code",
   "execution_count": 9,
   "id": "bbe43b37",
   "metadata": {},
   "outputs": [
    {
     "data": {
      "text/plain": [
       "Female    280\n",
       "Male      244\n",
       "Name: Sex, dtype: int64"
      ]
     },
     "execution_count": 9,
     "metadata": {},
     "output_type": "execute_result"
    }
   ],
   "source": [
    "lung_ade1['Sex'].value_counts()"
   ]
  },
  {
   "cell_type": "code",
   "execution_count": 10,
   "id": "2a8d97d5",
   "metadata": {},
   "outputs": [
    {
     "data": {
      "text/plain": [
       "Sex     Patient Smoking History Category\n",
       "Female  4.0                                 101\n",
       "        3.0                                  63\n",
       "        1.0                                  55\n",
       "        2.0                                  53\n",
       "        5.0                                   1\n",
       "Male    3.0                                  74\n",
       "        4.0                                  70\n",
       "        2.0                                  69\n",
       "        1.0                                  21\n",
       "        5.0                                   3\n",
       "Name: Patient Smoking History Category, dtype: int64"
      ]
     },
     "execution_count": 10,
     "metadata": {},
     "output_type": "execute_result"
    }
   ],
   "source": [
    "lung_ade1.groupby('Sex')['Patient Smoking History Category'].value_counts()"
   ]
  },
  {
   "cell_type": "code",
   "execution_count": 11,
   "id": "f9f3ce6d",
   "metadata": {
    "scrolled": true
   },
   "outputs": [
    {
     "data": {
      "image/png": "[encoded data removed]",
      "text/plain": [
       "<Figure size 648x432 with 1 Axes>"
      ]
     },
     "metadata": {
      "needs_background": "light"
     },
     "output_type": "display_data"
    }
   ],
   "source": [
    "plt.figure(figsize=(9, 6))\n",
    "sns.countplot(lung_ade1[lung_ade1['Sex'] == 'Female']['Diagnosis Age'])\n",
    "plt.xlabel('Female')\n",
    "plt.xticks(rotation=90)\n",
    "plt.show()"
   ]
  },
  {
   "cell_type": "code",
   "execution_count": 12,
   "id": "1ad04c0b",
   "metadata": {},
   "outputs": [
    {
     "data": {
      "text/plain": [
       "0:LIVING      336\n",
       "1:DECEASED    188\n",
       "Name: Overall Survival Status, dtype: int64"
      ]
     },
     "execution_count": 12,
     "metadata": {},
     "output_type": "execute_result"
    }
   ],
   "source": [
    "lung_ade1['Overall Survival Status'].value_counts()"
   ]
  },
  {
   "cell_type": "code",
   "execution_count": 13,
   "id": "e8dca89d",
   "metadata": {
    "scrolled": true
   },
   "outputs": [
    {
     "data": {
      "text/plain": [
       "Sex     Overall Survival Status\n",
       "Female  0:LIVING                   182\n",
       "        1:DECEASED                  98\n",
       "Male    0:LIVING                   154\n",
       "        1:DECEASED                  90\n",
       "Name: Overall Survival Status, dtype: int64"
      ]
     },
     "execution_count": 13,
     "metadata": {},
     "output_type": "execute_result"
    }
   ],
   "source": [
    "lung_ade1.groupby('Sex')['Overall Survival Status'].value_counts()"
   ]
  },
  {
   "cell_type": "code",
   "execution_count": 14,
   "id": "6ecb15de",
   "metadata": {
    "scrolled": false
   },
   "outputs": [
    {
     "data": {
      "image/png": "[encoded data removed]",
      "text/plain": [
       "<Figure size 432x288 with 1 Axes>"
      ]
     },
     "metadata": {
      "needs_background": "light"
     },
     "output_type": "display_data"
    }
   ],
   "source": [
    "sns.countplot(lung_ade1['Overall Survival Status'])\n",
    "plt.show()"
   ]
  },
  {
   "cell_type": "code",
   "execution_count": 15,
   "id": "9419c8fa",
   "metadata": {
    "scrolled": true
   },
   "outputs": [
    {
     "data": {
      "text/plain": [
       "<AxesSubplot:xlabel='Diagnosis Age', ylabel='Overall Survival (Months)'>"
      ]
     },
     "execution_count": 15,
     "metadata": {},
     "output_type": "execute_result"
    },
    {
     "data": {
      "image/png": "[encoded data removed]",
      "text/plain": [
       "<Figure size 432x288 with 1 Axes>"
      ]
     },
     "metadata": {
      "needs_background": "light"
     },
     "output_type": "display_data"
    }
   ],
   "source": [
    "sns.lineplot(data = lung_ade1, x=\"Diagnosis Age\", y=\"Overall Survival (Months)\", hue=\"Sex\")"
   ]
  },
  {
   "cell_type": "code",
   "execution_count": 16,
   "id": "57aa5e92",
   "metadata": {},
   "outputs": [],
   "source": [
    "lung_ade1['Smoking_year'] = lung_ade1['Stopped Smoking Year'] - lung_ade1['Started Smoking Year']"
   ]
  },
  {
   "cell_type": "code",
   "execution_count": 17,
   "id": "da7be2fd",
   "metadata": {},
   "outputs": [],
   "source": [
    "from sklearn.model_selection import train_test_split\n",
    "from sklearn.neighbors import KNeighborsRegressor\n"
   ]
  },
  {
   "cell_type": "code",
   "execution_count": 23,
   "id": "f692017e",
   "metadata": {},
   "outputs": [],
   "source": [
    "new_data = lung_ade1[['Overall Survival Status', 'Sex', 'Diagnosis Age','Fraction Genome Altered', 'Longest Dimension', 'Smoking_year',\n",
    "               'Mutation Count', 'Shortest Dimension', 'Person Cigarette Smoking History Pack Year Value',\n",
    "               'Specimen Second Longest Dimension', 'TMB (nonsynonymous)']].dropna()\n",
    "\n"
   ]
  },
  {
   "cell_type": "code",
   "execution_count": 24,
   "id": "fca5fa94",
   "metadata": {
    "scrolled": true
   },
   "outputs": [
    {
     "data": {
      "text/html": [
       "<div>\n",
       "<style scoped>\n",
       "    .dataframe tbody tr th:only-of-type {\n",
       "        vertical-align: middle;\n",
       "    }\n",
       "\n",
       "    .dataframe tbody tr th {\n",
       "        vertical-align: top;\n",
       "    }\n",
       "\n",
       "    .dataframe thead th {\n",
       "        text-align: right;\n",
       "    }\n",
       "</style>\n",
       "<table border=\"1\" class=\"dataframe\">\n",
       "  <thead>\n",
       "    <tr style=\"text-align: right;\">\n",
       "      <th></th>\n",
       "      <th>Overall Survival Status</th>\n",
       "      <th>Sex</th>\n",
       "      <th>Diagnosis Age</th>\n",
       "      <th>Fraction Genome Altered</th>\n",
       "      <th>Longest Dimension</th>\n",
       "      <th>Smoking_year</th>\n",
       "      <th>Mutation Count</th>\n",
       "      <th>Shortest Dimension</th>\n",
       "      <th>Person Cigarette Smoking History Pack Year Value</th>\n",
       "      <th>Specimen Second Longest Dimension</th>\n",
       "      <th>TMB (nonsynonymous)</th>\n",
       "    </tr>\n",
       "  </thead>\n",
       "  <tbody>\n",
       "    <tr>\n",
       "      <th>5</th>\n",
       "      <td>0:LIVING</td>\n",
       "      <td>Male</td>\n",
       "      <td>66.0</td>\n",
       "      <td>0.0661</td>\n",
       "      <td>0.8</td>\n",
       "      <td>24.0</td>\n",
       "      <td>119.0</td>\n",
       "      <td>0.4</td>\n",
       "      <td>20.00</td>\n",
       "      <td>0.8</td>\n",
       "      <td>4.033333</td>\n",
       "    </tr>\n",
       "    <tr>\n",
       "      <th>7</th>\n",
       "      <td>0:LIVING</td>\n",
       "      <td>Female</td>\n",
       "      <td>58.0</td>\n",
       "      <td>0.3056</td>\n",
       "      <td>1.8</td>\n",
       "      <td>30.0</td>\n",
       "      <td>487.0</td>\n",
       "      <td>0.3</td>\n",
       "      <td>15.00</td>\n",
       "      <td>0.9</td>\n",
       "      <td>16.800000</td>\n",
       "    </tr>\n",
       "    <tr>\n",
       "      <th>9</th>\n",
       "      <td>1:DECEASED</td>\n",
       "      <td>Male</td>\n",
       "      <td>76.0</td>\n",
       "      <td>0.2340</td>\n",
       "      <td>1.6</td>\n",
       "      <td>37.0</td>\n",
       "      <td>464.0</td>\n",
       "      <td>0.5</td>\n",
       "      <td>19.00</td>\n",
       "      <td>0.9</td>\n",
       "      <td>15.800000</td>\n",
       "    </tr>\n",
       "    <tr>\n",
       "      <th>14</th>\n",
       "      <td>0:LIVING</td>\n",
       "      <td>Female</td>\n",
       "      <td>74.0</td>\n",
       "      <td>0.3903</td>\n",
       "      <td>0.9</td>\n",
       "      <td>43.0</td>\n",
       "      <td>344.0</td>\n",
       "      <td>0.3</td>\n",
       "      <td>65.00</td>\n",
       "      <td>0.7</td>\n",
       "      <td>11.866667</td>\n",
       "    </tr>\n",
       "    <tr>\n",
       "      <th>15</th>\n",
       "      <td>0:LIVING</td>\n",
       "      <td>Male</td>\n",
       "      <td>62.0</td>\n",
       "      <td>0.3183</td>\n",
       "      <td>1.0</td>\n",
       "      <td>49.0</td>\n",
       "      <td>956.0</td>\n",
       "      <td>0.4</td>\n",
       "      <td>98.00</td>\n",
       "      <td>0.8</td>\n",
       "      <td>32.900000</td>\n",
       "    </tr>\n",
       "    <tr>\n",
       "      <th>...</th>\n",
       "      <td>...</td>\n",
       "      <td>...</td>\n",
       "      <td>...</td>\n",
       "      <td>...</td>\n",
       "      <td>...</td>\n",
       "      <td>...</td>\n",
       "      <td>...</td>\n",
       "      <td>...</td>\n",
       "      <td>...</td>\n",
       "      <td>...</td>\n",
       "      <td>...</td>\n",
       "    </tr>\n",
       "    <tr>\n",
       "      <th>502</th>\n",
       "      <td>0:LIVING</td>\n",
       "      <td>Female</td>\n",
       "      <td>42.0</td>\n",
       "      <td>0.3733</td>\n",
       "      <td>1.3</td>\n",
       "      <td>2.0</td>\n",
       "      <td>150.0</td>\n",
       "      <td>0.3</td>\n",
       "      <td>0.15</td>\n",
       "      <td>0.7</td>\n",
       "      <td>5.066667</td>\n",
       "    </tr>\n",
       "    <tr>\n",
       "      <th>508</th>\n",
       "      <td>0:LIVING</td>\n",
       "      <td>Female</td>\n",
       "      <td>76.0</td>\n",
       "      <td>0.0936</td>\n",
       "      <td>1.2</td>\n",
       "      <td>20.0</td>\n",
       "      <td>233.0</td>\n",
       "      <td>0.6</td>\n",
       "      <td>25.00</td>\n",
       "      <td>0.6</td>\n",
       "      <td>7.966667</td>\n",
       "    </tr>\n",
       "    <tr>\n",
       "      <th>512</th>\n",
       "      <td>0:LIVING</td>\n",
       "      <td>Female</td>\n",
       "      <td>83.0</td>\n",
       "      <td>0.3163</td>\n",
       "      <td>1.7</td>\n",
       "      <td>38.0</td>\n",
       "      <td>387.0</td>\n",
       "      <td>0.6</td>\n",
       "      <td>30.00</td>\n",
       "      <td>1.0</td>\n",
       "      <td>13.333333</td>\n",
       "    </tr>\n",
       "    <tr>\n",
       "      <th>515</th>\n",
       "      <td>0:LIVING</td>\n",
       "      <td>Female</td>\n",
       "      <td>72.0</td>\n",
       "      <td>0.0268</td>\n",
       "      <td>1.3</td>\n",
       "      <td>25.0</td>\n",
       "      <td>81.0</td>\n",
       "      <td>0.2</td>\n",
       "      <td>22.50</td>\n",
       "      <td>1.0</td>\n",
       "      <td>2.700000</td>\n",
       "    </tr>\n",
       "    <tr>\n",
       "      <th>533</th>\n",
       "      <td>0:LIVING</td>\n",
       "      <td>Female</td>\n",
       "      <td>74.0</td>\n",
       "      <td>0.0061</td>\n",
       "      <td>1.2</td>\n",
       "      <td>52.0</td>\n",
       "      <td>399.0</td>\n",
       "      <td>0.7</td>\n",
       "      <td>52.00</td>\n",
       "      <td>0.7</td>\n",
       "      <td>14.000000</td>\n",
       "    </tr>\n",
       "  </tbody>\n",
       "</table>\n",
       "<p>79 rows × 11 columns</p>\n",
       "</div>"
      ],
      "text/plain": [
       "    Overall Survival Status     Sex  Diagnosis Age  Fraction Genome Altered  \\\n",
       "5                  0:LIVING    Male           66.0                   0.0661   \n",
       "7                  0:LIVING  Female           58.0                   0.3056   \n",
       "9                1:DECEASED    Male           76.0                   0.2340   \n",
       "14                 0:LIVING  Female           74.0                   0.3903   \n",
       "15                 0:LIVING    Male           62.0                   0.3183   \n",
       "..                      ...     ...            ...                      ...   \n",
       "502                0:LIVING  Female           42.0                   0.3733   \n",
       "508                0:LIVING  Female           76.0                   0.0936   \n",
       "512                0:LIVING  Female           83.0                   0.3163   \n",
       "515                0:LIVING  Female           72.0                   0.0268   \n",
       "533                0:LIVING  Female           74.0                   0.0061   \n",
       "\n",
       "     Longest Dimension  Smoking_year  Mutation Count  Shortest Dimension  \\\n",
       "5                  0.8          24.0           119.0                 0.4   \n",
       "7                  1.8          30.0           487.0                 0.3   \n",
       "9                  1.6          37.0           464.0                 0.5   \n",
       "14                 0.9          43.0           344.0                 0.3   \n",
       "15                 1.0          49.0           956.0                 0.4   \n",
       "..                 ...           ...             ...                 ...   \n",
       "502                1.3           2.0           150.0                 0.3   \n",
       "508                1.2          20.0           233.0                 0.6   \n",
       "512                1.7          38.0           387.0                 0.6   \n",
       "515                1.3          25.0            81.0                 0.2   \n",
       "533                1.2          52.0           399.0                 0.7   \n",
       "\n",
       "     Person Cigarette Smoking History Pack Year Value  \\\n",
       "5                                               20.00   \n",
       "7                                               15.00   \n",
       "9                                               19.00   \n",
       "14                                              65.00   \n",
       "15                                              98.00   \n",
       "..                                                ...   \n",
       "502                                              0.15   \n",
       "508                                             25.00   \n",
       "512                                             30.00   \n",
       "515                                             22.50   \n",
       "533                                             52.00   \n",
       "\n",
       "     Specimen Second Longest Dimension  TMB (nonsynonymous)  \n",
       "5                                  0.8             4.033333  \n",
       "7                                  0.9            16.800000  \n",
       "9                                  0.9            15.800000  \n",
       "14                                 0.7            11.866667  \n",
       "15                                 0.8            32.900000  \n",
       "..                                 ...                  ...  \n",
       "502                                0.7             5.066667  \n",
       "508                                0.6             7.966667  \n",
       "512                                1.0            13.333333  \n",
       "515                                1.0             2.700000  \n",
       "533                                0.7            14.000000  \n",
       "\n",
       "[79 rows x 11 columns]"
      ]
     },
     "execution_count": 24,
     "metadata": {},
     "output_type": "execute_result"
    }
   ],
   "source": [
    "new_data"
   ]
  },
  {
   "cell_type": "code",
   "execution_count": 25,
   "id": "1cd7fd58",
   "metadata": {},
   "outputs": [],
   "source": [
    "new_data['Overall Survival Status'] = new_data['Overall Survival Status'].apply(lambda x: x.replace(\"0:LIVING\", \"0\"))\n",
    "new_data['Overall Survival Status'] = new_data['Overall Survival Status'].apply(lambda x: x.replace(\"1:DECEASED\", \"1\"))\n",
    "new_data['Sex'] = new_data['Sex'].apply(lambda x: x.replace(\"Male\", \"1\"))\n",
    "new_data['Sex'] = new_data['Sex'].apply(lambda x: x.replace(\"Female\", \"0\"))\n",
    "\n",
    "\n"
   ]
  },
  {
   "cell_type": "code",
   "execution_count": 28,
   "id": "d742b23c",
   "metadata": {},
   "outputs": [],
   "source": [
    "new_data.to_csv(\"Lung_new_data.csv\")"
   ]
  }
 ],
 "metadata": {
  "kernelspec": {
   "display_name": "Python 3 (ipykernel)",
   "language": "python",
   "name": "python3"
  },
  "language_info": {
   "codemirror_mode": {
    "name": "ipython",
    "version": 3
   },
   "file_extension": ".py",
   "mimetype": "text/x-python",
   "name": "python",
   "nbconvert_exporter": "python",
   "pygments_lexer": "ipython3",
   "version": "3.9.7"
  }
 },
 "nbformat": 4,
 "nbformat_minor": 5
}
