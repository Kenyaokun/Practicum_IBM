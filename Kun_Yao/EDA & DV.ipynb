{
 "cells": [
  {
   "cell_type": "markdown",
   "id": "f56e52c1",
   "metadata": {},
   "source": [
    "## Lung cancer data analysis - Kun Yao"
   ]
  },
  {
   "cell_type": "code",
   "execution_count": 1,
   "id": "ba23b01b",
   "metadata": {},
   "outputs": [],
   "source": [
    "import pandas as pd\n",
    "import numpy as np"
   ]
  },
  {
   "cell_type": "code",
   "execution_count": 2,
   "id": "ee92a163",
   "metadata": {},
   "outputs": [],
   "source": [
    "df = pd.read_csv(\"sclc_ucologne_2015_clinical_data.tsv\", sep='\\t')"
   ]
  },
  {
   "cell_type": "code",
   "execution_count": 3,
   "id": "b93d1e18",
   "metadata": {},
   "outputs": [
    {
     "data": {
      "text/html": [
       "<div>\n",
       "<style scoped>\n",
       "    .dataframe tbody tr th:only-of-type {\n",
       "        vertical-align: middle;\n",
       "    }\n",
       "\n",
       "    .dataframe tbody tr th {\n",
       "        vertical-align: top;\n",
       "    }\n",
       "\n",
       "    .dataframe thead th {\n",
       "        text-align: right;\n",
       "    }\n",
       "</style>\n",
       "<table border=\"1\" class=\"dataframe\">\n",
       "  <thead>\n",
       "    <tr style=\"text-align: right;\">\n",
       "      <th></th>\n",
       "      <th>Study ID</th>\n",
       "      <th>Patient ID</th>\n",
       "      <th>Sample ID</th>\n",
       "      <th>Diagnosis Age</th>\n",
       "      <th>Cancer Type</th>\n",
       "      <th>Cancer Type Detailed</th>\n",
       "      <th>Chemotherapy</th>\n",
       "      <th>Ethnicity Category</th>\n",
       "      <th>Gene Panel</th>\n",
       "      <th>Metastatic Site</th>\n",
       "      <th>...</th>\n",
       "      <th>Number of Samples Per Patient</th>\n",
       "      <th>Sample Type</th>\n",
       "      <th>Sex</th>\n",
       "      <th>Smoker</th>\n",
       "      <th>Smoking History</th>\n",
       "      <th>Somatic Status</th>\n",
       "      <th>Specimen Preservation Type</th>\n",
       "      <th>TMB (nonsynonymous)</th>\n",
       "      <th>T Stage</th>\n",
       "      <th>UICC Tumor Stage</th>\n",
       "    </tr>\n",
       "  </thead>\n",
       "  <tbody>\n",
       "    <tr>\n",
       "      <th>0</th>\n",
       "      <td>sclc_ucologne_2015</td>\n",
       "      <td>sclc_ucologne_2015_S00022</td>\n",
       "      <td>sclc_ucologne_2015_S00022</td>\n",
       "      <td>47.0</td>\n",
       "      <td>Small Cell Lung Cancer</td>\n",
       "      <td>Small Cell Lung Cancer</td>\n",
       "      <td>Yes</td>\n",
       "      <td>NaN</td>\n",
       "      <td>WGS</td>\n",
       "      <td>NaN</td>\n",
       "      <td>...</td>\n",
       "      <td>1</td>\n",
       "      <td>Primary</td>\n",
       "      <td>Male</td>\n",
       "      <td>Current</td>\n",
       "      <td>NaN</td>\n",
       "      <td>Matched</td>\n",
       "      <td>FF Tissue</td>\n",
       "      <td>6.066667</td>\n",
       "      <td>1</td>\n",
       "      <td>IIIa</td>\n",
       "    </tr>\n",
       "    <tr>\n",
       "      <th>1</th>\n",
       "      <td>sclc_ucologne_2015</td>\n",
       "      <td>sclc_ucologne_2015_S00035</td>\n",
       "      <td>sclc_ucologne_2015_S00035</td>\n",
       "      <td>65.0</td>\n",
       "      <td>Small Cell Lung Cancer</td>\n",
       "      <td>Small Cell Lung Cancer</td>\n",
       "      <td>Yes</td>\n",
       "      <td>NaN</td>\n",
       "      <td>WGS</td>\n",
       "      <td>NaN</td>\n",
       "      <td>...</td>\n",
       "      <td>1</td>\n",
       "      <td>Primary</td>\n",
       "      <td>Female</td>\n",
       "      <td>Former</td>\n",
       "      <td>NaN</td>\n",
       "      <td>Matched</td>\n",
       "      <td>FF Tissue</td>\n",
       "      <td>7.733333</td>\n",
       "      <td>3</td>\n",
       "      <td>IV</td>\n",
       "    </tr>\n",
       "    <tr>\n",
       "      <th>2</th>\n",
       "      <td>sclc_ucologne_2015</td>\n",
       "      <td>sclc_ucologne_2015_S00050</td>\n",
       "      <td>sclc_ucologne_2015_S00050</td>\n",
       "      <td>47.0</td>\n",
       "      <td>Small Cell Lung Cancer</td>\n",
       "      <td>Small Cell Lung Cancer</td>\n",
       "      <td>Yes</td>\n",
       "      <td>NaN</td>\n",
       "      <td>WGS</td>\n",
       "      <td>NaN</td>\n",
       "      <td>...</td>\n",
       "      <td>1</td>\n",
       "      <td>Primary</td>\n",
       "      <td>Male</td>\n",
       "      <td>Current</td>\n",
       "      <td>NaN</td>\n",
       "      <td>Matched</td>\n",
       "      <td>FF Tissue</td>\n",
       "      <td>10.600000</td>\n",
       "      <td>1</td>\n",
       "      <td>Ia</td>\n",
       "    </tr>\n",
       "    <tr>\n",
       "      <th>3</th>\n",
       "      <td>sclc_ucologne_2015</td>\n",
       "      <td>sclc_ucologne_2015_S00213</td>\n",
       "      <td>sclc_ucologne_2015_S00213</td>\n",
       "      <td>65.0</td>\n",
       "      <td>Small Cell Lung Cancer</td>\n",
       "      <td>Small Cell Lung Cancer</td>\n",
       "      <td>NaN</td>\n",
       "      <td>NaN</td>\n",
       "      <td>RNA-seq</td>\n",
       "      <td>NaN</td>\n",
       "      <td>...</td>\n",
       "      <td>1</td>\n",
       "      <td>Primary</td>\n",
       "      <td>Male</td>\n",
       "      <td>NaN</td>\n",
       "      <td>NaN</td>\n",
       "      <td>Unmatched</td>\n",
       "      <td>FF Tissue</td>\n",
       "      <td>0.000000</td>\n",
       "      <td>1</td>\n",
       "      <td>IIIa</td>\n",
       "    </tr>\n",
       "    <tr>\n",
       "      <th>4</th>\n",
       "      <td>sclc_ucologne_2015</td>\n",
       "      <td>sclc_ucologne_2015_S00339</td>\n",
       "      <td>sclc_ucologne_2015_S00339</td>\n",
       "      <td>61.0</td>\n",
       "      <td>Small Cell Lung Cancer</td>\n",
       "      <td>Small Cell Lung Cancer</td>\n",
       "      <td>NaN</td>\n",
       "      <td>NaN</td>\n",
       "      <td>WGS</td>\n",
       "      <td>NaN</td>\n",
       "      <td>...</td>\n",
       "      <td>1</td>\n",
       "      <td>Primary</td>\n",
       "      <td>Male</td>\n",
       "      <td>NaN</td>\n",
       "      <td>NaN</td>\n",
       "      <td>Matched</td>\n",
       "      <td>FF Tissue</td>\n",
       "      <td>2.933333</td>\n",
       "      <td>2</td>\n",
       "      <td>IIIa</td>\n",
       "    </tr>\n",
       "  </tbody>\n",
       "</table>\n",
       "<p>5 rows × 31 columns</p>\n",
       "</div>"
      ],
      "text/plain": [
       "             Study ID                 Patient ID                  Sample ID  \\\n",
       "0  sclc_ucologne_2015  sclc_ucologne_2015_S00022  sclc_ucologne_2015_S00022   \n",
       "1  sclc_ucologne_2015  sclc_ucologne_2015_S00035  sclc_ucologne_2015_S00035   \n",
       "2  sclc_ucologne_2015  sclc_ucologne_2015_S00050  sclc_ucologne_2015_S00050   \n",
       "3  sclc_ucologne_2015  sclc_ucologne_2015_S00213  sclc_ucologne_2015_S00213   \n",
       "4  sclc_ucologne_2015  sclc_ucologne_2015_S00339  sclc_ucologne_2015_S00339   \n",
       "\n",
       "   Diagnosis Age             Cancer Type    Cancer Type Detailed Chemotherapy  \\\n",
       "0           47.0  Small Cell Lung Cancer  Small Cell Lung Cancer          Yes   \n",
       "1           65.0  Small Cell Lung Cancer  Small Cell Lung Cancer          Yes   \n",
       "2           47.0  Small Cell Lung Cancer  Small Cell Lung Cancer          Yes   \n",
       "3           65.0  Small Cell Lung Cancer  Small Cell Lung Cancer          NaN   \n",
       "4           61.0  Small Cell Lung Cancer  Small Cell Lung Cancer          NaN   \n",
       "\n",
       "  Ethnicity Category Gene Panel Metastatic Site  ...  \\\n",
       "0                NaN        WGS             NaN  ...   \n",
       "1                NaN        WGS             NaN  ...   \n",
       "2                NaN        WGS             NaN  ...   \n",
       "3                NaN    RNA-seq             NaN  ...   \n",
       "4                NaN        WGS             NaN  ...   \n",
       "\n",
       "  Number of Samples Per Patient  Sample Type     Sex   Smoker Smoking History  \\\n",
       "0                             1      Primary    Male  Current             NaN   \n",
       "1                             1      Primary  Female   Former             NaN   \n",
       "2                             1      Primary    Male  Current             NaN   \n",
       "3                             1      Primary    Male      NaN             NaN   \n",
       "4                             1      Primary    Male      NaN             NaN   \n",
       "\n",
       "  Somatic Status  Specimen Preservation Type TMB (nonsynonymous)  T Stage  \\\n",
       "0        Matched                   FF Tissue            6.066667        1   \n",
       "1        Matched                   FF Tissue            7.733333        3   \n",
       "2        Matched                   FF Tissue           10.600000        1   \n",
       "3      Unmatched                   FF Tissue            0.000000        1   \n",
       "4        Matched                   FF Tissue            2.933333        2   \n",
       "\n",
       "  UICC Tumor Stage  \n",
       "0             IIIa  \n",
       "1               IV  \n",
       "2               Ia  \n",
       "3             IIIa  \n",
       "4             IIIa  \n",
       "\n",
       "[5 rows x 31 columns]"
      ]
     },
     "execution_count": 3,
     "metadata": {},
     "output_type": "execute_result"
    }
   ],
   "source": [
    "df.head()"
   ]
  },
  {
   "cell_type": "code",
   "execution_count": 8,
   "id": "e63fec0b",
   "metadata": {
    "scrolled": true
   },
   "outputs": [
    {
     "data": {
      "text/html": [
       "<div>\n",
       "<style scoped>\n",
       "    .dataframe tbody tr th:only-of-type {\n",
       "        vertical-align: middle;\n",
       "    }\n",
       "\n",
       "    .dataframe tbody tr th {\n",
       "        vertical-align: top;\n",
       "    }\n",
       "\n",
       "    .dataframe thead th {\n",
       "        text-align: right;\n",
       "    }\n",
       "</style>\n",
       "<table border=\"1\" class=\"dataframe\">\n",
       "  <thead>\n",
       "    <tr style=\"text-align: right;\">\n",
       "      <th></th>\n",
       "      <th>Diagnosis Age</th>\n",
       "      <th>Mutation Count</th>\n",
       "      <th>Overall Survival (Months)</th>\n",
       "      <th>Progress Free Survival (Months)</th>\n",
       "      <th>Number of Samples Per Patient</th>\n",
       "      <th>TMB (nonsynonymous)</th>\n",
       "    </tr>\n",
       "  </thead>\n",
       "  <tbody>\n",
       "    <tr>\n",
       "      <th>count</th>\n",
       "      <td>119.000000</td>\n",
       "      <td>110.000000</td>\n",
       "      <td>110.000000</td>\n",
       "      <td>42.000000</td>\n",
       "      <td>120.0</td>\n",
       "      <td>120.000000</td>\n",
       "    </tr>\n",
       "    <tr>\n",
       "      <th>mean</th>\n",
       "      <td>64.974790</td>\n",
       "      <td>268.336364</td>\n",
       "      <td>30.254545</td>\n",
       "      <td>18.642857</td>\n",
       "      <td>1.0</td>\n",
       "      <td>8.195556</td>\n",
       "    </tr>\n",
       "    <tr>\n",
       "      <th>std</th>\n",
       "      <td>9.091309</td>\n",
       "      <td>140.763141</td>\n",
       "      <td>29.947488</td>\n",
       "      <td>18.916790</td>\n",
       "      <td>0.0</td>\n",
       "      <td>5.129801</td>\n",
       "    </tr>\n",
       "    <tr>\n",
       "      <th>min</th>\n",
       "      <td>33.000000</td>\n",
       "      <td>35.000000</td>\n",
       "      <td>0.000000</td>\n",
       "      <td>0.000000</td>\n",
       "      <td>1.0</td>\n",
       "      <td>0.000000</td>\n",
       "    </tr>\n",
       "    <tr>\n",
       "      <th>25%</th>\n",
       "      <td>59.000000</td>\n",
       "      <td>183.250000</td>\n",
       "      <td>10.000000</td>\n",
       "      <td>7.000000</td>\n",
       "      <td>1.0</td>\n",
       "      <td>5.016667</td>\n",
       "    </tr>\n",
       "    <tr>\n",
       "      <th>50%</th>\n",
       "      <td>65.000000</td>\n",
       "      <td>234.000000</td>\n",
       "      <td>21.500000</td>\n",
       "      <td>11.500000</td>\n",
       "      <td>1.0</td>\n",
       "      <td>7.533333</td>\n",
       "    </tr>\n",
       "    <tr>\n",
       "      <th>75%</th>\n",
       "      <td>71.000000</td>\n",
       "      <td>350.000000</td>\n",
       "      <td>41.250000</td>\n",
       "      <td>22.750000</td>\n",
       "      <td>1.0</td>\n",
       "      <td>11.241667</td>\n",
       "    </tr>\n",
       "    <tr>\n",
       "      <th>max</th>\n",
       "      <td>83.000000</td>\n",
       "      <td>734.000000</td>\n",
       "      <td>164.000000</td>\n",
       "      <td>93.000000</td>\n",
       "      <td>1.0</td>\n",
       "      <td>24.433333</td>\n",
       "    </tr>\n",
       "  </tbody>\n",
       "</table>\n",
       "</div>"
      ],
      "text/plain": [
       "       Diagnosis Age  Mutation Count  Overall Survival (Months)  \\\n",
       "count     119.000000      110.000000                 110.000000   \n",
       "mean       64.974790      268.336364                  30.254545   \n",
       "std         9.091309      140.763141                  29.947488   \n",
       "min        33.000000       35.000000                   0.000000   \n",
       "25%        59.000000      183.250000                  10.000000   \n",
       "50%        65.000000      234.000000                  21.500000   \n",
       "75%        71.000000      350.000000                  41.250000   \n",
       "max        83.000000      734.000000                 164.000000   \n",
       "\n",
       "       Progress Free Survival (Months)  Number of Samples Per Patient  \\\n",
       "count                        42.000000                          120.0   \n",
       "mean                         18.642857                            1.0   \n",
       "std                          18.916790                            0.0   \n",
       "min                           0.000000                            1.0   \n",
       "25%                           7.000000                            1.0   \n",
       "50%                          11.500000                            1.0   \n",
       "75%                          22.750000                            1.0   \n",
       "max                          93.000000                            1.0   \n",
       "\n",
       "       TMB (nonsynonymous)  \n",
       "count           120.000000  \n",
       "mean              8.195556  \n",
       "std               5.129801  \n",
       "min               0.000000  \n",
       "25%               5.016667  \n",
       "50%               7.533333  \n",
       "75%              11.241667  \n",
       "max              24.433333  "
      ]
     },
     "execution_count": 8,
     "metadata": {},
     "output_type": "execute_result"
    }
   ],
   "source": [
    "df.describe()"
   ]
  },
  {
   "cell_type": "code",
   "execution_count": 9,
   "id": "003cf5a8",
   "metadata": {
    "scrolled": true
   },
   "outputs": [
    {
     "name": "stdout",
     "output_type": "stream",
     "text": [
      "<class 'pandas.core.frame.DataFrame'>\n",
      "RangeIndex: 120 entries, 0 to 119\n",
      "Data columns (total 31 columns):\n",
      " #   Column                                                          Non-Null Count  Dtype  \n",
      "---  ------                                                          --------------  -----  \n",
      " 0   Study ID                                                        120 non-null    object \n",
      " 1   Patient ID                                                      120 non-null    object \n",
      " 2   Sample ID                                                       120 non-null    object \n",
      " 3   Diagnosis Age                                                   119 non-null    float64\n",
      " 4   Cancer Type                                                     120 non-null    object \n",
      " 5   Cancer Type Detailed                                            120 non-null    object \n",
      " 6   Chemotherapy                                                    95 non-null     object \n",
      " 7   Ethnicity Category                                              66 non-null     object \n",
      " 8   Gene Panel                                                      120 non-null    object \n",
      " 9   Metastatic Site                                                 3 non-null      object \n",
      " 10  First Pathologic Diagnosis Biospecimen Acquisition Method Type  120 non-null    object \n",
      " 11  Mutation Count                                                  110 non-null    float64\n",
      " 12  M Stage                                                         108 non-null    object \n",
      " 13  Neoadjuvant Chemotherapy                                        107 non-null    object \n",
      " 14  N Stage                                                         108 non-null    object \n",
      " 15  Oncotree Code                                                   120 non-null    object \n",
      " 16  Overall Survival (Months)                                       110 non-null    float64\n",
      " 17  Overall Survival Status                                         111 non-null    object \n",
      " 18  Progress Free Survival (Months)                                 42 non-null     float64\n",
      " 19  Previous Treatment                                              118 non-null    object \n",
      " 20  Radiation Therapy                                               91 non-null     object \n",
      " 21  Number of Samples Per Patient                                   120 non-null    int64  \n",
      " 22  Sample Type                                                     120 non-null    object \n",
      " 23  Sex                                                             120 non-null    object \n",
      " 24  Smoker                                                          106 non-null    object \n",
      " 25  Smoking History                                                 74 non-null     object \n",
      " 26  Somatic Status                                                  120 non-null    object \n",
      " 27  Specimen Preservation Type                                      120 non-null    object \n",
      " 28  TMB (nonsynonymous)                                             120 non-null    float64\n",
      " 29  T Stage                                                         108 non-null    object \n",
      " 30  UICC Tumor Stage                                                118 non-null    object \n",
      "dtypes: float64(5), int64(1), object(25)\n",
      "memory usage: 29.2+ KB\n"
     ]
    }
   ],
   "source": [
    "df.info()"
   ]
  },
  {
   "cell_type": "code",
   "execution_count": 10,
   "id": "77a72873",
   "metadata": {},
   "outputs": [
    {
     "data": {
      "text/plain": [
       "Index(['Study ID', 'Patient ID', 'Sample ID', 'Diagnosis Age', 'Cancer Type',\n",
       "       'Cancer Type Detailed', 'Chemotherapy', 'Ethnicity Category',\n",
       "       'Gene Panel', 'Metastatic Site',\n",
       "       'First Pathologic Diagnosis Biospecimen Acquisition Method Type',\n",
       "       'Mutation Count', 'M Stage', 'Neoadjuvant Chemotherapy', 'N Stage',\n",
       "       'Oncotree Code', 'Overall Survival (Months)', 'Overall Survival Status',\n",
       "       'Progress Free Survival (Months)', 'Previous Treatment',\n",
       "       'Radiation Therapy', 'Number of Samples Per Patient', 'Sample Type',\n",
       "       'Sex', 'Smoker', 'Smoking History', 'Somatic Status',\n",
       "       'Specimen Preservation Type', 'TMB (nonsynonymous)', 'T Stage',\n",
       "       'UICC Tumor Stage'],\n",
       "      dtype='object')"
      ]
     },
     "execution_count": 10,
     "metadata": {},
     "output_type": "execute_result"
    }
   ],
   "source": [
    "df.columns"
   ]
  },
  {
   "cell_type": "code",
   "execution_count": 4,
   "id": "3d6f5a13",
   "metadata": {},
   "outputs": [
    {
     "data": {
      "text/html": [
       "<div>\n",
       "<style scoped>\n",
       "    .dataframe tbody tr th:only-of-type {\n",
       "        vertical-align: middle;\n",
       "    }\n",
       "\n",
       "    .dataframe tbody tr th {\n",
       "        vertical-align: top;\n",
       "    }\n",
       "\n",
       "    .dataframe thead th {\n",
       "        text-align: right;\n",
       "    }\n",
       "</style>\n",
       "<table border=\"1\" class=\"dataframe\">\n",
       "  <thead>\n",
       "    <tr style=\"text-align: right;\">\n",
       "      <th></th>\n",
       "      <th>Study ID</th>\n",
       "      <th>Patient ID</th>\n",
       "      <th>Sample ID</th>\n",
       "      <th>Diagnosis Age</th>\n",
       "      <th>Cancer Type</th>\n",
       "      <th>Cancer Type Detailed</th>\n",
       "      <th>Chemotherapy</th>\n",
       "      <th>Ethnicity Category</th>\n",
       "      <th>Gene Panel</th>\n",
       "      <th>Metastatic Site</th>\n",
       "      <th>...</th>\n",
       "      <th>Radiation Therapy</th>\n",
       "      <th>Number of Samples Per Patient</th>\n",
       "      <th>Sample Type</th>\n",
       "      <th>Smoker</th>\n",
       "      <th>Smoking History</th>\n",
       "      <th>Somatic Status</th>\n",
       "      <th>Specimen Preservation Type</th>\n",
       "      <th>TMB (nonsynonymous)</th>\n",
       "      <th>T Stage</th>\n",
       "      <th>UICC Tumor Stage</th>\n",
       "    </tr>\n",
       "    <tr>\n",
       "      <th>Sex</th>\n",
       "      <th></th>\n",
       "      <th></th>\n",
       "      <th></th>\n",
       "      <th></th>\n",
       "      <th></th>\n",
       "      <th></th>\n",
       "      <th></th>\n",
       "      <th></th>\n",
       "      <th></th>\n",
       "      <th></th>\n",
       "      <th></th>\n",
       "      <th></th>\n",
       "      <th></th>\n",
       "      <th></th>\n",
       "      <th></th>\n",
       "      <th></th>\n",
       "      <th></th>\n",
       "      <th></th>\n",
       "      <th></th>\n",
       "      <th></th>\n",
       "      <th></th>\n",
       "    </tr>\n",
       "  </thead>\n",
       "  <tbody>\n",
       "    <tr>\n",
       "      <th>Female</th>\n",
       "      <td>44</td>\n",
       "      <td>44</td>\n",
       "      <td>44</td>\n",
       "      <td>44</td>\n",
       "      <td>44</td>\n",
       "      <td>44</td>\n",
       "      <td>35</td>\n",
       "      <td>21</td>\n",
       "      <td>44</td>\n",
       "      <td>2</td>\n",
       "      <td>...</td>\n",
       "      <td>35</td>\n",
       "      <td>44</td>\n",
       "      <td>44</td>\n",
       "      <td>38</td>\n",
       "      <td>28</td>\n",
       "      <td>44</td>\n",
       "      <td>44</td>\n",
       "      <td>44</td>\n",
       "      <td>39</td>\n",
       "      <td>43</td>\n",
       "    </tr>\n",
       "    <tr>\n",
       "      <th>Male</th>\n",
       "      <td>76</td>\n",
       "      <td>76</td>\n",
       "      <td>76</td>\n",
       "      <td>75</td>\n",
       "      <td>76</td>\n",
       "      <td>76</td>\n",
       "      <td>60</td>\n",
       "      <td>45</td>\n",
       "      <td>76</td>\n",
       "      <td>1</td>\n",
       "      <td>...</td>\n",
       "      <td>56</td>\n",
       "      <td>76</td>\n",
       "      <td>76</td>\n",
       "      <td>68</td>\n",
       "      <td>46</td>\n",
       "      <td>76</td>\n",
       "      <td>76</td>\n",
       "      <td>76</td>\n",
       "      <td>69</td>\n",
       "      <td>75</td>\n",
       "    </tr>\n",
       "  </tbody>\n",
       "</table>\n",
       "<p>2 rows × 30 columns</p>\n",
       "</div>"
      ],
      "text/plain": [
       "        Study ID  Patient ID  Sample ID  Diagnosis Age  Cancer Type  \\\n",
       "Sex                                                                   \n",
       "Female        44          44         44             44           44   \n",
       "Male          76          76         76             75           76   \n",
       "\n",
       "        Cancer Type Detailed  Chemotherapy  Ethnicity Category  Gene Panel  \\\n",
       "Sex                                                                          \n",
       "Female                    44            35                  21          44   \n",
       "Male                      76            60                  45          76   \n",
       "\n",
       "        Metastatic Site  ...  Radiation Therapy  \\\n",
       "Sex                      ...                      \n",
       "Female                2  ...                 35   \n",
       "Male                  1  ...                 56   \n",
       "\n",
       "        Number of Samples Per Patient  Sample Type  Smoker  Smoking History  \\\n",
       "Sex                                                                           \n",
       "Female                             44           44      38               28   \n",
       "Male                               76           76      68               46   \n",
       "\n",
       "        Somatic Status  Specimen Preservation Type  TMB (nonsynonymous)  \\\n",
       "Sex                                                                       \n",
       "Female              44                          44                   44   \n",
       "Male                76                          76                   76   \n",
       "\n",
       "        T Stage  UICC Tumor Stage  \n",
       "Sex                                \n",
       "Female       39                43  \n",
       "Male         69                75  \n",
       "\n",
       "[2 rows x 30 columns]"
      ]
     },
     "execution_count": 4,
     "metadata": {},
     "output_type": "execute_result"
    }
   ],
   "source": [
    "df.groupby('Sex').count()"
   ]
  },
  {
   "cell_type": "code",
   "execution_count": 5,
   "id": "43f0e45d",
   "metadata": {},
   "outputs": [],
   "source": [
    "import matplotlib.pyplot as plt\n",
    "import seaborn as sns"
   ]
  },
  {
   "cell_type": "code",
   "execution_count": 7,
   "id": "555f284a",
   "metadata": {
    "scrolled": true
   },
   "outputs": [
    {
     "data": {
      "text/plain": [
       "<AxesSubplot:xlabel='Sex', ylabel='count'>"
      ]
     },
     "execution_count": 7,
     "metadata": {},
     "output_type": "execute_result"
    },
    {
     "data": {
      "image/png": "[encoded data removed]",
      "text/plain": [
       "<Figure size 432x288 with 1 Axes>"
      ]
     },
     "metadata": {
      "needs_background": "light"
     },
     "output_type": "display_data"
    }
   ],
   "source": [
    "sns.countplot(df['Sex'])"
   ]
  },
  {
   "cell_type": "code",
   "execution_count": 12,
   "id": "6aaebdeb",
   "metadata": {},
   "outputs": [
    {
     "data": {
      "text/plain": [
       "74"
      ]
     },
     "execution_count": 12,
     "metadata": {},
     "output_type": "execute_result"
    }
   ],
   "source": [
    "df['Smoking History'].count()"
   ]
  },
  {
   "cell_type": "code",
   "execution_count": 11,
   "id": "dafd4005",
   "metadata": {},
   "outputs": [
    {
     "data": {
      "text/plain": [
       "Sex\n",
       "Female    28\n",
       "Male      46\n",
       "Name: Smoking History, dtype: int64"
      ]
     },
     "execution_count": 11,
     "metadata": {},
     "output_type": "execute_result"
    }
   ],
   "source": [
    "df.groupby('Sex')['Smoking History'].count()"
   ]
  },
  {
   "cell_type": "code",
   "execution_count": 14,
   "id": "6cd1dbed",
   "metadata": {},
   "outputs": [
    {
     "name": "stdout",
     "output_type": "stream",
     "text": [
      "0.6166666666666667\n",
      "0.6216216216216216\n",
      "0.3783783783783784\n"
     ]
    }
   ],
   "source": [
    "rate = df['Smoking History'].count()/df['Sex'].count()\n",
    "print(rate)\n",
    "rate_man = 46 / 74\n",
    "print(rate_man)\n",
    "rate_woman = 28 / 74\n",
    "print(rate_woman)"
   ]
  },
  {
   "cell_type": "markdown",
   "id": "d952792e",
   "metadata": {},
   "source": [
    "### Among all the 120 patients, 74 patients smoke, which takes up 61.67%. Among the 74 people, 62.16% male patients smoke and 37.83% female patients smoke. Therefore, we can draw the conclusion that smoking is one of the most important factors which leads to lung cancer."
   ]
  },
  {
   "cell_type": "code",
   "execution_count": 17,
   "id": "a2ca1c67",
   "metadata": {},
   "outputs": [
    {
     "data": {
      "text/plain": [
       "Diagnosis Age\n",
       "33.0    1\n",
       "44.0    1\n",
       "46.0    1\n",
       "47.0    3\n",
       "48.0    1\n",
       "51.0    2\n",
       "52.0    1\n",
       "53.0    3\n",
       "54.0    1\n",
       "55.0    2\n",
       "56.0    1\n",
       "57.0    5\n",
       "58.0    6\n",
       "59.0    3\n",
       "60.0    2\n",
       "61.0    6\n",
       "62.0    3\n",
       "63.0    8\n",
       "64.0    6\n",
       "65.0    4\n",
       "66.0    5\n",
       "67.0    5\n",
       "68.0    6\n",
       "69.0    3\n",
       "70.0    9\n",
       "71.0    5\n",
       "72.0    2\n",
       "73.0    3\n",
       "74.0    3\n",
       "75.0    3\n",
       "76.0    5\n",
       "77.0    2\n",
       "78.0    2\n",
       "80.0    1\n",
       "81.0    1\n",
       "82.0    1\n",
       "83.0    3\n",
       "Name: Diagnosis Age, dtype: int64"
      ]
     },
     "execution_count": 17,
     "metadata": {},
     "output_type": "execute_result"
    }
   ],
   "source": [
    "df.groupby('Diagnosis Age')['Diagnosis Age'].count()"
   ]
  },
  {
   "cell_type": "code",
   "execution_count": 22,
   "id": "34d266ab",
   "metadata": {
    "scrolled": true
   },
   "outputs": [
    {
     "name": "stderr",
     "output_type": "stream",
     "text": [
      "/opt/anaconda3/lib/python3.9/site-packages/seaborn/_decorators.py:36: FutureWarning: Pass the following variable as a keyword arg: x. From version 0.12, the only valid positional argument will be `data`, and passing other arguments without an explicit keyword will result in an error or misinterpretation.\n",
      "  warnings.warn(\n"
     ]
    },
    {
     "data": {
      "text/plain": [
       "(array([ 0,  1,  2,  3,  4,  5,  6,  7,  8,  9, 10, 11, 12, 13, 14, 15, 16,\n",
       "        17, 18, 19, 20, 21, 22, 23, 24, 25, 26, 27, 28, 29, 30, 31, 32, 33,\n",
       "        34, 35, 36]),\n",
       " [Text(0, 0, '33.0'),\n",
       "  Text(1, 0, '44.0'),\n",
       "  Text(2, 0, '46.0'),\n",
       "  Text(3, 0, '47.0'),\n",
       "  Text(4, 0, '48.0'),\n",
       "  Text(5, 0, '51.0'),\n",
       "  Text(6, 0, '52.0'),\n",
       "  Text(7, 0, '53.0'),\n",
       "  Text(8, 0, '54.0'),\n",
       "  Text(9, 0, '55.0'),\n",
       "  Text(10, 0, '56.0'),\n",
       "  Text(11, 0, '57.0'),\n",
       "  Text(12, 0, '58.0'),\n",
       "  Text(13, 0, '59.0'),\n",
       "  Text(14, 0, '60.0'),\n",
       "  Text(15, 0, '61.0'),\n",
       "  Text(16, 0, '62.0'),\n",
       "  Text(17, 0, '63.0'),\n",
       "  Text(18, 0, '64.0'),\n",
       "  Text(19, 0, '65.0'),\n",
       "  Text(20, 0, '66.0'),\n",
       "  Text(21, 0, '67.0'),\n",
       "  Text(22, 0, '68.0'),\n",
       "  Text(23, 0, '69.0'),\n",
       "  Text(24, 0, '70.0'),\n",
       "  Text(25, 0, '71.0'),\n",
       "  Text(26, 0, '72.0'),\n",
       "  Text(27, 0, '73.0'),\n",
       "  Text(28, 0, '74.0'),\n",
       "  Text(29, 0, '75.0'),\n",
       "  Text(30, 0, '76.0'),\n",
       "  Text(31, 0, '77.0'),\n",
       "  Text(32, 0, '78.0'),\n",
       "  Text(33, 0, '80.0'),\n",
       "  Text(34, 0, '81.0'),\n",
       "  Text(35, 0, '82.0'),\n",
       "  Text(36, 0, '83.0')])"
      ]
     },
     "execution_count": 22,
     "metadata": {},
     "output_type": "execute_result"
    },
    {
     "data": {
      "image/png": "[encoded data removed]",
      "text/plain": [
       "<Figure size 432x288 with 1 Axes>"
      ]
     },
     "metadata": {
      "needs_background": "light"
     },
     "output_type": "display_data"
    }
   ],
   "source": [
    "sns.countplot(df['Diagnosis Age'])\n",
    "plt.xticks(rotation=90)"
   ]
  },
  {
   "cell_type": "markdown",
   "id": "addda67c",
   "metadata": {},
   "source": [
    "### Age ranging from 57 to 71 has higher possibility to get lung cancer."
   ]
  },
  {
   "cell_type": "code",
   "execution_count": 33,
   "id": "714a2413",
   "metadata": {},
   "outputs": [
    {
     "data": {
      "text/plain": [
       "Sex\n",
       "Female    63.886364\n",
       "Male      65.613333\n",
       "Name: Diagnosis Age, dtype: float64"
      ]
     },
     "execution_count": 33,
     "metadata": {},
     "output_type": "execute_result"
    }
   ],
   "source": [
    "df.groupby('Sex')['Diagnosis Age'].mean()"
   ]
  },
  {
   "cell_type": "code",
   "execution_count": 36,
   "id": "913f2f01",
   "metadata": {},
   "outputs": [
    {
     "data": {
      "text/plain": [
       "Sex     Overall Survival Status\n",
       "Female  0:LIVING                   16\n",
       "        1:DECEASED                 24\n",
       "Male    0:LIVING                   20\n",
       "        1:DECEASED                 51\n",
       "Name: Overall Survival Status, dtype: int64"
      ]
     },
     "execution_count": 36,
     "metadata": {},
     "output_type": "execute_result"
    }
   ],
   "source": [
    "df.groupby(['Sex', 'Overall Survival Status'])['Overall Survival Status'].count()"
   ]
  },
  {
   "cell_type": "code",
   "execution_count": 40,
   "id": "a08f944b",
   "metadata": {},
   "outputs": [
    {
     "data": {
      "text/plain": [
       "Sex     Radiation Therapy\n",
       "Female  No                   16\n",
       "        Yes                  18\n",
       "Male    No                   30\n",
       "        Yes                  26\n",
       "Name: Overall Survival Status, dtype: int64"
      ]
     },
     "execution_count": 40,
     "metadata": {},
     "output_type": "execute_result"
    }
   ],
   "source": [
    "df.groupby(['Sex', 'Radiation Therapy'])['Overall Survival Status'].count()"
   ]
  },
  {
   "cell_type": "code",
   "execution_count": 41,
   "id": "9dfe65ce",
   "metadata": {},
   "outputs": [
    {
     "data": {
      "text/plain": [
       "Overall Survival Status  Radiation Therapy\n",
       "0:LIVING                 No                   15\n",
       "                         Yes                  18\n",
       "1:DECEASED               No                   31\n",
       "                         Yes                  26\n",
       "Name: Overall Survival Status, dtype: int64"
      ]
     },
     "execution_count": 41,
     "metadata": {},
     "output_type": "execute_result"
    }
   ],
   "source": [
    "df.groupby(['Overall Survival Status', 'Radiation Therapy'])['Overall Survival Status'].count()"
   ]
  },
  {
   "cell_type": "markdown",
   "id": "07e6c12b",
   "metadata": {},
   "source": [
    "### As can be seen from the above analysis, female patients have higher chance to be cured if they get lung cancer. The radiation therapy does not seem to have much help in curing lung cancer."
   ]
  },
  {
   "cell_type": "code",
   "execution_count": 45,
   "id": "f530e30e",
   "metadata": {},
   "outputs": [
    {
     "data": {
      "text/plain": [
       "Sex     Gene Panel                               \n",
       "Female  RNA-seq                                       1\n",
       "        RNA-seq (Peifer et al., 2012; Ref.No. 2)      3\n",
       "        WGS                                          38\n",
       "        WGS (Peifer et al., 2012; Ref.No. 2)          1\n",
       "        WGS (only T)                                  1\n",
       "Male    RNA-seq                                       5\n",
       "        RNA-seq (Seidel et al., 2013; Ref.No. 44)     1\n",
       "        WGS                                          69\n",
       "        WGS (Peifer et al., 2012; Ref.No. 2)          1\n",
       "Name: Gene Panel, dtype: int64"
      ]
     },
     "execution_count": 45,
     "metadata": {},
     "output_type": "execute_result"
    }
   ],
   "source": [
    "df.groupby(['Sex', 'Gene Panel'])['Gene Panel'].count()"
   ]
  },
  {
   "cell_type": "code",
   "execution_count": 46,
   "id": "b41289f6",
   "metadata": {},
   "outputs": [
    {
     "data": {
      "text/plain": [
       "Gene Panel\n",
       "RNA-seq                                        6\n",
       "RNA-seq (Peifer et al., 2012; Ref.No. 2)       3\n",
       "RNA-seq (Seidel et al., 2013; Ref.No. 44)      1\n",
       "WGS                                          107\n",
       "WGS (Peifer et al., 2012; Ref.No. 2)           2\n",
       "WGS (only T)                                   1\n",
       "Name: Gene Panel, dtype: int64"
      ]
     },
     "execution_count": 46,
     "metadata": {},
     "output_type": "execute_result"
    }
   ],
   "source": [
    "df.groupby('Gene Panel')['Gene Panel'].count()"
   ]
  },
  {
   "cell_type": "markdown",
   "id": "de8fd6ac",
   "metadata": {},
   "source": [
    "### Most patients have WGS gene panel."
   ]
  },
  {
   "cell_type": "code",
   "execution_count": 47,
   "id": "39b271ca",
   "metadata": {},
   "outputs": [
    {
     "data": {
      "text/plain": [
       "18.642857142857142"
      ]
     },
     "execution_count": 47,
     "metadata": {},
     "output_type": "execute_result"
    }
   ],
   "source": [
    "df['Progress Free Survival (Months)'].mean()"
   ]
  },
  {
   "cell_type": "markdown",
   "id": "ff23a9e0",
   "metadata": {},
   "source": [
    "### Patients survive around 18.6 more months after they get treatment."
   ]
  },
  {
   "cell_type": "code",
   "execution_count": null,
   "id": "7252facb",
   "metadata": {},
   "outputs": [],
   "source": []
  }
 ],
 "metadata": {
  "kernelspec": {
   "display_name": "Python 3 (ipykernel)",
   "language": "python",
   "name": "python3"
  },
  "language_info": {
   "codemirror_mode": {
    "name": "ipython",
    "version": 3
   },
   "file_extension": ".py",
   "mimetype": "text/x-python",
   "name": "python",
   "nbconvert_exporter": "python",
   "pygments_lexer": "ipython3",
   "version": "3.9.7"
  }
 },
 "nbformat": 4,
 "nbformat_minor": 5
}
