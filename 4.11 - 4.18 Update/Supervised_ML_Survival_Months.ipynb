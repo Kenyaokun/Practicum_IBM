{
  "nbformat": 4,
  "nbformat_minor": 0,
  "metadata": {
    "colab": {
      "name": "Supervised ML-Survival Months.ipynb",
      "provenance": [],
      "collapsed_sections": []
    },
    "kernelspec": {
      "name": "python3",
      "display_name": "Python 3"
    },
    "language_info": {
      "name": "python"
    }
  },
  "cells": [
    {
      "cell_type": "markdown",
      "source": [
        "# Supervised Machine Learning models"
      ],
      "metadata": {
        "id": "gxov-xlKCh7z"
      }
    },
    {
      "cell_type": "markdown",
      "source": [
        "### Prepartion of datasets"
      ],
      "metadata": {
        "id": "JiDJGbG_CxJ6"
      }
    },
    {
      "cell_type": "code",
      "execution_count": 1,
      "metadata": {
        "id": "36MaXAaJ-aH8"
      },
      "outputs": [],
      "source": [
        "import pandas as pd\n",
        "import numpy as np\n",
        "import os\n",
        "import matplotlib.pyplot as plt\n",
        "import seaborn as sns\n",
        "import warnings\n",
        "warnings.filterwarnings('ignore')"
      ]
    },
    {
      "cell_type": "code",
      "source": [
        "df=pd.read_excel('/content/drive/MyDrive/Colab Notebooks/IBM/lung_cancer_all_dummified.xlsx')\n",
        "df"
      ],
      "metadata": {
        "colab": {
          "base_uri": "https://localhost:8080/",
          "height": 463
        },
        "id": "sVQ6Vv2I-j4l",
        "outputId": "7c9d129e-a587-4663-c2fc-b2572a031cc5"
      },
      "execution_count": 2,
      "outputs": [
        {
          "output_type": "execute_result",
          "data": {
            "text/plain": [
              "      Study ID  Cancer Type Detailed  Sex  Age  Smoking Status  \\\n",
              "0            1                     1    0   70               0   \n",
              "1            1                     1    0   81               0   \n",
              "2            1                     1    0   67               0   \n",
              "3            1                     1    1   79               0   \n",
              "4            1                     1    0   68               0   \n",
              "...        ...                   ...  ...  ...             ...   \n",
              "2559         3                     1    1   75               1   \n",
              "2560         3                     1    0   63               1   \n",
              "2561         3                     1    1   71               1   \n",
              "2562         3                     2    1   68               1   \n",
              "2563         3                     1    1   77               1   \n",
              "\n",
              "      Mutation Count  Fraction Genome Altered  Overall Survival Status  \\\n",
              "0                  0                   0.4565                        0   \n",
              "1                  0                   0.0000                        0   \n",
              "2                289                   0.2221                        0   \n",
              "3                  0                   0.2362                        1   \n",
              "4               1272                   0.0854                        0   \n",
              "...              ...                      ...                      ...   \n",
              "2559             211                   0.2382                        1   \n",
              "2560             101                   0.5420                        1   \n",
              "2561             216                   0.4405                        1   \n",
              "2562             109                   0.0598                        0   \n",
              "2563             185                   0.0357                        1   \n",
              "\n",
              "      Overall Survival (Months)  \n",
              "0                          0.00  \n",
              "1                         23.98  \n",
              "2                         50.03  \n",
              "3                          3.98  \n",
              "4                         19.94  \n",
              "...                         ...  \n",
              "2559                      43.91  \n",
              "2560                       8.59  \n",
              "2561                      11.18  \n",
              "2562                       4.00  \n",
              "2563                       0.20  \n",
              "\n",
              "[2564 rows x 9 columns]"
            ],
            "text/html": [
              "\n",
              "  <div id=\"df-0ca39e91-2467-4234-a273-0135d4d950b5\">\n",
              "    <div class=\"colab-df-container\">\n",
              "      <div>\n",
              "<style scoped>\n",
              "    .dataframe tbody tr th:only-of-type {\n",
              "        vertical-align: middle;\n",
              "    }\n",
              "\n",
              "    .dataframe tbody tr th {\n",
              "        vertical-align: top;\n",
              "    }\n",
              "\n",
              "    .dataframe thead th {\n",
              "        text-align: right;\n",
              "    }\n",
              "</style>\n",
              "<table border=\"1\" class=\"dataframe\">\n",
              "  <thead>\n",
              "    <tr style=\"text-align: right;\">\n",
              "      <th></th>\n",
              "      <th>Study ID</th>\n",
              "      <th>Cancer Type Detailed</th>\n",
              "      <th>Sex</th>\n",
              "      <th>Age</th>\n",
              "      <th>Smoking Status</th>\n",
              "      <th>Mutation Count</th>\n",
              "      <th>Fraction Genome Altered</th>\n",
              "      <th>Overall Survival Status</th>\n",
              "      <th>Overall Survival (Months)</th>\n",
              "    </tr>\n",
              "  </thead>\n",
              "  <tbody>\n",
              "    <tr>\n",
              "      <th>0</th>\n",
              "      <td>1</td>\n",
              "      <td>1</td>\n",
              "      <td>0</td>\n",
              "      <td>70</td>\n",
              "      <td>0</td>\n",
              "      <td>0</td>\n",
              "      <td>0.4565</td>\n",
              "      <td>0</td>\n",
              "      <td>0.00</td>\n",
              "    </tr>\n",
              "    <tr>\n",
              "      <th>1</th>\n",
              "      <td>1</td>\n",
              "      <td>1</td>\n",
              "      <td>0</td>\n",
              "      <td>81</td>\n",
              "      <td>0</td>\n",
              "      <td>0</td>\n",
              "      <td>0.0000</td>\n",
              "      <td>0</td>\n",
              "      <td>23.98</td>\n",
              "    </tr>\n",
              "    <tr>\n",
              "      <th>2</th>\n",
              "      <td>1</td>\n",
              "      <td>1</td>\n",
              "      <td>0</td>\n",
              "      <td>67</td>\n",
              "      <td>0</td>\n",
              "      <td>289</td>\n",
              "      <td>0.2221</td>\n",
              "      <td>0</td>\n",
              "      <td>50.03</td>\n",
              "    </tr>\n",
              "    <tr>\n",
              "      <th>3</th>\n",
              "      <td>1</td>\n",
              "      <td>1</td>\n",
              "      <td>1</td>\n",
              "      <td>79</td>\n",
              "      <td>0</td>\n",
              "      <td>0</td>\n",
              "      <td>0.2362</td>\n",
              "      <td>1</td>\n",
              "      <td>3.98</td>\n",
              "    </tr>\n",
              "    <tr>\n",
              "      <th>4</th>\n",
              "      <td>1</td>\n",
              "      <td>1</td>\n",
              "      <td>0</td>\n",
              "      <td>68</td>\n",
              "      <td>0</td>\n",
              "      <td>1272</td>\n",
              "      <td>0.0854</td>\n",
              "      <td>0</td>\n",
              "      <td>19.94</td>\n",
              "    </tr>\n",
              "    <tr>\n",
              "      <th>...</th>\n",
              "      <td>...</td>\n",
              "      <td>...</td>\n",
              "      <td>...</td>\n",
              "      <td>...</td>\n",
              "      <td>...</td>\n",
              "      <td>...</td>\n",
              "      <td>...</td>\n",
              "      <td>...</td>\n",
              "      <td>...</td>\n",
              "    </tr>\n",
              "    <tr>\n",
              "      <th>2559</th>\n",
              "      <td>3</td>\n",
              "      <td>1</td>\n",
              "      <td>1</td>\n",
              "      <td>75</td>\n",
              "      <td>1</td>\n",
              "      <td>211</td>\n",
              "      <td>0.2382</td>\n",
              "      <td>1</td>\n",
              "      <td>43.91</td>\n",
              "    </tr>\n",
              "    <tr>\n",
              "      <th>2560</th>\n",
              "      <td>3</td>\n",
              "      <td>1</td>\n",
              "      <td>0</td>\n",
              "      <td>63</td>\n",
              "      <td>1</td>\n",
              "      <td>101</td>\n",
              "      <td>0.5420</td>\n",
              "      <td>1</td>\n",
              "      <td>8.59</td>\n",
              "    </tr>\n",
              "    <tr>\n",
              "      <th>2561</th>\n",
              "      <td>3</td>\n",
              "      <td>1</td>\n",
              "      <td>1</td>\n",
              "      <td>71</td>\n",
              "      <td>1</td>\n",
              "      <td>216</td>\n",
              "      <td>0.4405</td>\n",
              "      <td>1</td>\n",
              "      <td>11.18</td>\n",
              "    </tr>\n",
              "    <tr>\n",
              "      <th>2562</th>\n",
              "      <td>3</td>\n",
              "      <td>2</td>\n",
              "      <td>1</td>\n",
              "      <td>68</td>\n",
              "      <td>1</td>\n",
              "      <td>109</td>\n",
              "      <td>0.0598</td>\n",
              "      <td>0</td>\n",
              "      <td>4.00</td>\n",
              "    </tr>\n",
              "    <tr>\n",
              "      <th>2563</th>\n",
              "      <td>3</td>\n",
              "      <td>1</td>\n",
              "      <td>1</td>\n",
              "      <td>77</td>\n",
              "      <td>1</td>\n",
              "      <td>185</td>\n",
              "      <td>0.0357</td>\n",
              "      <td>1</td>\n",
              "      <td>0.20</td>\n",
              "    </tr>\n",
              "  </tbody>\n",
              "</table>\n",
              "<p>2564 rows × 9 columns</p>\n",
              "</div>\n",
              "      <button class=\"colab-df-convert\" onclick=\"convertToInteractive('df-0ca39e91-2467-4234-a273-0135d4d950b5')\"\n",
              "              title=\"Convert this dataframe to an interactive table.\"\n",
              "              style=\"display:none;\">\n",
              "        \n",
              "  <svg xmlns=\"http://www.w3.org/2000/svg\" height=\"24px\"viewBox=\"0 0 24 24\"\n",
              "       width=\"24px\">\n",
              "    <path d=\"M0 0h24v24H0V0z\" fill=\"none\"/>\n",
              "    <path d=\"M18.56 5.44l.94 2.06.94-2.06 2.06-.94-2.06-.94-.94-2.06-.94 2.06-2.06.94zm-11 1L8.5 8.5l.94-2.06 2.06-.94-2.06-.94L8.5 2.5l-.94 2.06-2.06.94zm10 10l.94 2.06.94-2.06 2.06-.94-2.06-.94-.94-2.06-.94 2.06-2.06.94z\"/><path d=\"M17.41 7.96l-1.37-1.37c-.4-.4-.92-.59-1.43-.59-.52 0-1.04.2-1.43.59L10.3 9.45l-7.72 7.72c-.78.78-.78 2.05 0 2.83L4 21.41c.39.39.9.59 1.41.59.51 0 1.02-.2 1.41-.59l7.78-7.78 2.81-2.81c.8-.78.8-2.07 0-2.86zM5.41 20L4 18.59l7.72-7.72 1.47 1.35L5.41 20z\"/>\n",
              "  </svg>\n",
              "      </button>\n",
              "      \n",
              "  <style>\n",
              "    .colab-df-container {\n",
              "      display:flex;\n",
              "      flex-wrap:wrap;\n",
              "      gap: 12px;\n",
              "    }\n",
              "\n",
              "    .colab-df-convert {\n",
              "      background-color: #E8F0FE;\n",
              "      border: none;\n",
              "      border-radius: 50%;\n",
              "      cursor: pointer;\n",
              "      display: none;\n",
              "      fill: #1967D2;\n",
              "      height: 32px;\n",
              "      padding: 0 0 0 0;\n",
              "      width: 32px;\n",
              "    }\n",
              "\n",
              "    .colab-df-convert:hover {\n",
              "      background-color: #E2EBFA;\n",
              "      box-shadow: 0px 1px 2px rgba(60, 64, 67, 0.3), 0px 1px 3px 1px rgba(60, 64, 67, 0.15);\n",
              "      fill: #174EA6;\n",
              "    }\n",
              "\n",
              "    [theme=dark] .colab-df-convert {\n",
              "      background-color: #3B4455;\n",
              "      fill: #D2E3FC;\n",
              "    }\n",
              "\n",
              "    [theme=dark] .colab-df-convert:hover {\n",
              "      background-color: #434B5C;\n",
              "      box-shadow: 0px 1px 3px 1px rgba(0, 0, 0, 0.15);\n",
              "      filter: drop-shadow(0px 1px 2px rgba(0, 0, 0, 0.3));\n",
              "      fill: #FFFFFF;\n",
              "    }\n",
              "  </style>\n",
              "\n",
              "      <script>\n",
              "        const buttonEl =\n",
              "          document.querySelector('#df-0ca39e91-2467-4234-a273-0135d4d950b5 button.colab-df-convert');\n",
              "        buttonEl.style.display =\n",
              "          google.colab.kernel.accessAllowed ? 'block' : 'none';\n",
              "\n",
              "        async function convertToInteractive(key) {\n",
              "          const element = document.querySelector('#df-0ca39e91-2467-4234-a273-0135d4d950b5');\n",
              "          const dataTable =\n",
              "            await google.colab.kernel.invokeFunction('convertToInteractive',\n",
              "                                                     [key], {});\n",
              "          if (!dataTable) return;\n",
              "\n",
              "          const docLinkHtml = 'Like what you see? Visit the ' +\n",
              "            '<a target=\"_blank\" href=https://colab.research.google.com/notebooks/data_table.ipynb>data table notebook</a>'\n",
              "            + ' to learn more about interactive tables.';\n",
              "          element.innerHTML = '';\n",
              "          dataTable['output_type'] = 'display_data';\n",
              "          await google.colab.output.renderOutput(dataTable, element);\n",
              "          const docLink = document.createElement('div');\n",
              "          docLink.innerHTML = docLinkHtml;\n",
              "          element.appendChild(docLink);\n",
              "        }\n",
              "      </script>\n",
              "    </div>\n",
              "  </div>\n",
              "  "
            ]
          },
          "metadata": {},
          "execution_count": 2
        }
      ]
    },
    {
      "cell_type": "code",
      "source": [
        "df.columns"
      ],
      "metadata": {
        "colab": {
          "base_uri": "https://localhost:8080/"
        },
        "id": "KyajKbJk_LEO",
        "outputId": "516e444e-0559-41d7-befe-507189adb7f8"
      },
      "execution_count": 4,
      "outputs": [
        {
          "output_type": "execute_result",
          "data": {
            "text/plain": [
              "Index(['Study ID', 'Cancer Type Detailed', 'Sex', 'Age', 'Smoking Status',\n",
              "       'Mutation Count', 'Fraction Genome Altered', 'Overall Survival Status',\n",
              "       'Overall Survival (Months)'],\n",
              "      dtype='object')"
            ]
          },
          "metadata": {},
          "execution_count": 4
        }
      ]
    },
    {
      "cell_type": "markdown",
      "source": [
        "This code uses `Overall Survival Months` as the dependent variable."
      ],
      "metadata": {
        "id": "qtuPc5ORCaAZ"
      }
    },
    {
      "cell_type": "code",
      "source": [
        "#Prepare X and y datasets\n",
        "X=df[['Cancer Type Detailed', 'Sex', 'Age', 'Smoking Status','Mutation Count', 'Fraction Genome Altered']]\n",
        "y=df['Overall Survival (Months)']\n",
        "print(y[0:5])\n",
        "X.head(5)"
      ],
      "metadata": {
        "colab": {
          "base_uri": "https://localhost:8080/",
          "height": 306
        },
        "id": "2JKh5fX5_Mf1",
        "outputId": "23838057-b3a7-4034-d7a0-4213ff26cf56"
      },
      "execution_count": 20,
      "outputs": [
        {
          "output_type": "stream",
          "name": "stdout",
          "text": [
            "0    0\n",
            "1    0\n",
            "2    0\n",
            "3    1\n",
            "4    0\n",
            "Name: Overall Survival Status, dtype: int64\n"
          ]
        },
        {
          "output_type": "execute_result",
          "data": {
            "text/plain": [
              "   Cancer Type Detailed  Sex  Age  Smoking Status  Mutation Count  \\\n",
              "0                     1    0   70               0               0   \n",
              "1                     1    0   81               0               0   \n",
              "2                     1    0   67               0             289   \n",
              "3                     1    1   79               0               0   \n",
              "4                     1    0   68               0            1272   \n",
              "\n",
              "   Fraction Genome Altered  \n",
              "0                   0.4565  \n",
              "1                   0.0000  \n",
              "2                   0.2221  \n",
              "3                   0.2362  \n",
              "4                   0.0854  "
            ],
            "text/html": [
              "\n",
              "  <div id=\"df-157346ca-93ee-449a-b863-82c6d366b11d\">\n",
              "    <div class=\"colab-df-container\">\n",
              "      <div>\n",
              "<style scoped>\n",
              "    .dataframe tbody tr th:only-of-type {\n",
              "        vertical-align: middle;\n",
              "    }\n",
              "\n",
              "    .dataframe tbody tr th {\n",
              "        vertical-align: top;\n",
              "    }\n",
              "\n",
              "    .dataframe thead th {\n",
              "        text-align: right;\n",
              "    }\n",
              "</style>\n",
              "<table border=\"1\" class=\"dataframe\">\n",
              "  <thead>\n",
              "    <tr style=\"text-align: right;\">\n",
              "      <th></th>\n",
              "      <th>Cancer Type Detailed</th>\n",
              "      <th>Sex</th>\n",
              "      <th>Age</th>\n",
              "      <th>Smoking Status</th>\n",
              "      <th>Mutation Count</th>\n",
              "      <th>Fraction Genome Altered</th>\n",
              "    </tr>\n",
              "  </thead>\n",
              "  <tbody>\n",
              "    <tr>\n",
              "      <th>0</th>\n",
              "      <td>1</td>\n",
              "      <td>0</td>\n",
              "      <td>70</td>\n",
              "      <td>0</td>\n",
              "      <td>0</td>\n",
              "      <td>0.4565</td>\n",
              "    </tr>\n",
              "    <tr>\n",
              "      <th>1</th>\n",
              "      <td>1</td>\n",
              "      <td>0</td>\n",
              "      <td>81</td>\n",
              "      <td>0</td>\n",
              "      <td>0</td>\n",
              "      <td>0.0000</td>\n",
              "    </tr>\n",
              "    <tr>\n",
              "      <th>2</th>\n",
              "      <td>1</td>\n",
              "      <td>0</td>\n",
              "      <td>67</td>\n",
              "      <td>0</td>\n",
              "      <td>289</td>\n",
              "      <td>0.2221</td>\n",
              "    </tr>\n",
              "    <tr>\n",
              "      <th>3</th>\n",
              "      <td>1</td>\n",
              "      <td>1</td>\n",
              "      <td>79</td>\n",
              "      <td>0</td>\n",
              "      <td>0</td>\n",
              "      <td>0.2362</td>\n",
              "    </tr>\n",
              "    <tr>\n",
              "      <th>4</th>\n",
              "      <td>1</td>\n",
              "      <td>0</td>\n",
              "      <td>68</td>\n",
              "      <td>0</td>\n",
              "      <td>1272</td>\n",
              "      <td>0.0854</td>\n",
              "    </tr>\n",
              "  </tbody>\n",
              "</table>\n",
              "</div>\n",
              "      <button class=\"colab-df-convert\" onclick=\"convertToInteractive('df-157346ca-93ee-449a-b863-82c6d366b11d')\"\n",
              "              title=\"Convert this dataframe to an interactive table.\"\n",
              "              style=\"display:none;\">\n",
              "        \n",
              "  <svg xmlns=\"http://www.w3.org/2000/svg\" height=\"24px\"viewBox=\"0 0 24 24\"\n",
              "       width=\"24px\">\n",
              "    <path d=\"M0 0h24v24H0V0z\" fill=\"none\"/>\n",
              "    <path d=\"M18.56 5.44l.94 2.06.94-2.06 2.06-.94-2.06-.94-.94-2.06-.94 2.06-2.06.94zm-11 1L8.5 8.5l.94-2.06 2.06-.94-2.06-.94L8.5 2.5l-.94 2.06-2.06.94zm10 10l.94 2.06.94-2.06 2.06-.94-2.06-.94-.94-2.06-.94 2.06-2.06.94z\"/><path d=\"M17.41 7.96l-1.37-1.37c-.4-.4-.92-.59-1.43-.59-.52 0-1.04.2-1.43.59L10.3 9.45l-7.72 7.72c-.78.78-.78 2.05 0 2.83L4 21.41c.39.39.9.59 1.41.59.51 0 1.02-.2 1.41-.59l7.78-7.78 2.81-2.81c.8-.78.8-2.07 0-2.86zM5.41 20L4 18.59l7.72-7.72 1.47 1.35L5.41 20z\"/>\n",
              "  </svg>\n",
              "      </button>\n",
              "      \n",
              "  <style>\n",
              "    .colab-df-container {\n",
              "      display:flex;\n",
              "      flex-wrap:wrap;\n",
              "      gap: 12px;\n",
              "    }\n",
              "\n",
              "    .colab-df-convert {\n",
              "      background-color: #E8F0FE;\n",
              "      border: none;\n",
              "      border-radius: 50%;\n",
              "      cursor: pointer;\n",
              "      display: none;\n",
              "      fill: #1967D2;\n",
              "      height: 32px;\n",
              "      padding: 0 0 0 0;\n",
              "      width: 32px;\n",
              "    }\n",
              "\n",
              "    .colab-df-convert:hover {\n",
              "      background-color: #E2EBFA;\n",
              "      box-shadow: 0px 1px 2px rgba(60, 64, 67, 0.3), 0px 1px 3px 1px rgba(60, 64, 67, 0.15);\n",
              "      fill: #174EA6;\n",
              "    }\n",
              "\n",
              "    [theme=dark] .colab-df-convert {\n",
              "      background-color: #3B4455;\n",
              "      fill: #D2E3FC;\n",
              "    }\n",
              "\n",
              "    [theme=dark] .colab-df-convert:hover {\n",
              "      background-color: #434B5C;\n",
              "      box-shadow: 0px 1px 3px 1px rgba(0, 0, 0, 0.15);\n",
              "      filter: drop-shadow(0px 1px 2px rgba(0, 0, 0, 0.3));\n",
              "      fill: #FFFFFF;\n",
              "    }\n",
              "  </style>\n",
              "\n",
              "      <script>\n",
              "        const buttonEl =\n",
              "          document.querySelector('#df-157346ca-93ee-449a-b863-82c6d366b11d button.colab-df-convert');\n",
              "        buttonEl.style.display =\n",
              "          google.colab.kernel.accessAllowed ? 'block' : 'none';\n",
              "\n",
              "        async function convertToInteractive(key) {\n",
              "          const element = document.querySelector('#df-157346ca-93ee-449a-b863-82c6d366b11d');\n",
              "          const dataTable =\n",
              "            await google.colab.kernel.invokeFunction('convertToInteractive',\n",
              "                                                     [key], {});\n",
              "          if (!dataTable) return;\n",
              "\n",
              "          const docLinkHtml = 'Like what you see? Visit the ' +\n",
              "            '<a target=\"_blank\" href=https://colab.research.google.com/notebooks/data_table.ipynb>data table notebook</a>'\n",
              "            + ' to learn more about interactive tables.';\n",
              "          element.innerHTML = '';\n",
              "          dataTable['output_type'] = 'display_data';\n",
              "          await google.colab.output.renderOutput(dataTable, element);\n",
              "          const docLink = document.createElement('div');\n",
              "          docLink.innerHTML = docLinkHtml;\n",
              "          element.appendChild(docLink);\n",
              "        }\n",
              "      </script>\n",
              "    </div>\n",
              "  </div>\n",
              "  "
            ]
          },
          "metadata": {},
          "execution_count": 20
        }
      ]
    },
    {
      "cell_type": "code",
      "source": [
        "#Train test split\n",
        "from sklearn.model_selection import train_test_split\n",
        "X_train, X_test, y_train, y_test = train_test_split(X, y, random_state=0)\n",
        "X_train.head()"
      ],
      "metadata": {
        "colab": {
          "base_uri": "https://localhost:8080/",
          "height": 204
        },
        "id": "Kp9prWXC_snY",
        "outputId": "8e348271-f4a3-47f2-9516-ba8f64bd2ef6"
      },
      "execution_count": 21,
      "outputs": [
        {
          "output_type": "execute_result",
          "data": {
            "text/plain": [
              "      Cancer Type Detailed  Sex  Age  Smoking Status  Mutation Count  \\\n",
              "254                      1    0   88               1               0   \n",
              "1892                     1    0   63               1             301   \n",
              "1496                     1    1   63               1             346   \n",
              "300                      1    1   42               1               0   \n",
              "2510                     1    0   71               1              83   \n",
              "\n",
              "      Fraction Genome Altered  \n",
              "254                    0.3667  \n",
              "1892                   0.0028  \n",
              "1496                   0.7082  \n",
              "300                    0.4716  \n",
              "2510                   0.4446  "
            ],
            "text/html": [
              "\n",
              "  <div id=\"df-f0b7b8e6-f5f0-4826-bdcc-17d8ca997c2c\">\n",
              "    <div class=\"colab-df-container\">\n",
              "      <div>\n",
              "<style scoped>\n",
              "    .dataframe tbody tr th:only-of-type {\n",
              "        vertical-align: middle;\n",
              "    }\n",
              "\n",
              "    .dataframe tbody tr th {\n",
              "        vertical-align: top;\n",
              "    }\n",
              "\n",
              "    .dataframe thead th {\n",
              "        text-align: right;\n",
              "    }\n",
              "</style>\n",
              "<table border=\"1\" class=\"dataframe\">\n",
              "  <thead>\n",
              "    <tr style=\"text-align: right;\">\n",
              "      <th></th>\n",
              "      <th>Cancer Type Detailed</th>\n",
              "      <th>Sex</th>\n",
              "      <th>Age</th>\n",
              "      <th>Smoking Status</th>\n",
              "      <th>Mutation Count</th>\n",
              "      <th>Fraction Genome Altered</th>\n",
              "    </tr>\n",
              "  </thead>\n",
              "  <tbody>\n",
              "    <tr>\n",
              "      <th>254</th>\n",
              "      <td>1</td>\n",
              "      <td>0</td>\n",
              "      <td>88</td>\n",
              "      <td>1</td>\n",
              "      <td>0</td>\n",
              "      <td>0.3667</td>\n",
              "    </tr>\n",
              "    <tr>\n",
              "      <th>1892</th>\n",
              "      <td>1</td>\n",
              "      <td>0</td>\n",
              "      <td>63</td>\n",
              "      <td>1</td>\n",
              "      <td>301</td>\n",
              "      <td>0.0028</td>\n",
              "    </tr>\n",
              "    <tr>\n",
              "      <th>1496</th>\n",
              "      <td>1</td>\n",
              "      <td>1</td>\n",
              "      <td>63</td>\n",
              "      <td>1</td>\n",
              "      <td>346</td>\n",
              "      <td>0.7082</td>\n",
              "    </tr>\n",
              "    <tr>\n",
              "      <th>300</th>\n",
              "      <td>1</td>\n",
              "      <td>1</td>\n",
              "      <td>42</td>\n",
              "      <td>1</td>\n",
              "      <td>0</td>\n",
              "      <td>0.4716</td>\n",
              "    </tr>\n",
              "    <tr>\n",
              "      <th>2510</th>\n",
              "      <td>1</td>\n",
              "      <td>0</td>\n",
              "      <td>71</td>\n",
              "      <td>1</td>\n",
              "      <td>83</td>\n",
              "      <td>0.4446</td>\n",
              "    </tr>\n",
              "  </tbody>\n",
              "</table>\n",
              "</div>\n",
              "      <button class=\"colab-df-convert\" onclick=\"convertToInteractive('df-f0b7b8e6-f5f0-4826-bdcc-17d8ca997c2c')\"\n",
              "              title=\"Convert this dataframe to an interactive table.\"\n",
              "              style=\"display:none;\">\n",
              "        \n",
              "  <svg xmlns=\"http://www.w3.org/2000/svg\" height=\"24px\"viewBox=\"0 0 24 24\"\n",
              "       width=\"24px\">\n",
              "    <path d=\"M0 0h24v24H0V0z\" fill=\"none\"/>\n",
              "    <path d=\"M18.56 5.44l.94 2.06.94-2.06 2.06-.94-2.06-.94-.94-2.06-.94 2.06-2.06.94zm-11 1L8.5 8.5l.94-2.06 2.06-.94-2.06-.94L8.5 2.5l-.94 2.06-2.06.94zm10 10l.94 2.06.94-2.06 2.06-.94-2.06-.94-.94-2.06-.94 2.06-2.06.94z\"/><path d=\"M17.41 7.96l-1.37-1.37c-.4-.4-.92-.59-1.43-.59-.52 0-1.04.2-1.43.59L10.3 9.45l-7.72 7.72c-.78.78-.78 2.05 0 2.83L4 21.41c.39.39.9.59 1.41.59.51 0 1.02-.2 1.41-.59l7.78-7.78 2.81-2.81c.8-.78.8-2.07 0-2.86zM5.41 20L4 18.59l7.72-7.72 1.47 1.35L5.41 20z\"/>\n",
              "  </svg>\n",
              "      </button>\n",
              "      \n",
              "  <style>\n",
              "    .colab-df-container {\n",
              "      display:flex;\n",
              "      flex-wrap:wrap;\n",
              "      gap: 12px;\n",
              "    }\n",
              "\n",
              "    .colab-df-convert {\n",
              "      background-color: #E8F0FE;\n",
              "      border: none;\n",
              "      border-radius: 50%;\n",
              "      cursor: pointer;\n",
              "      display: none;\n",
              "      fill: #1967D2;\n",
              "      height: 32px;\n",
              "      padding: 0 0 0 0;\n",
              "      width: 32px;\n",
              "    }\n",
              "\n",
              "    .colab-df-convert:hover {\n",
              "      background-color: #E2EBFA;\n",
              "      box-shadow: 0px 1px 2px rgba(60, 64, 67, 0.3), 0px 1px 3px 1px rgba(60, 64, 67, 0.15);\n",
              "      fill: #174EA6;\n",
              "    }\n",
              "\n",
              "    [theme=dark] .colab-df-convert {\n",
              "      background-color: #3B4455;\n",
              "      fill: #D2E3FC;\n",
              "    }\n",
              "\n",
              "    [theme=dark] .colab-df-convert:hover {\n",
              "      background-color: #434B5C;\n",
              "      box-shadow: 0px 1px 3px 1px rgba(0, 0, 0, 0.15);\n",
              "      filter: drop-shadow(0px 1px 2px rgba(0, 0, 0, 0.3));\n",
              "      fill: #FFFFFF;\n",
              "    }\n",
              "  </style>\n",
              "\n",
              "      <script>\n",
              "        const buttonEl =\n",
              "          document.querySelector('#df-f0b7b8e6-f5f0-4826-bdcc-17d8ca997c2c button.colab-df-convert');\n",
              "        buttonEl.style.display =\n",
              "          google.colab.kernel.accessAllowed ? 'block' : 'none';\n",
              "\n",
              "        async function convertToInteractive(key) {\n",
              "          const element = document.querySelector('#df-f0b7b8e6-f5f0-4826-bdcc-17d8ca997c2c');\n",
              "          const dataTable =\n",
              "            await google.colab.kernel.invokeFunction('convertToInteractive',\n",
              "                                                     [key], {});\n",
              "          if (!dataTable) return;\n",
              "\n",
              "          const docLinkHtml = 'Like what you see? Visit the ' +\n",
              "            '<a target=\"_blank\" href=https://colab.research.google.com/notebooks/data_table.ipynb>data table notebook</a>'\n",
              "            + ' to learn more about interactive tables.';\n",
              "          element.innerHTML = '';\n",
              "          dataTable['output_type'] = 'display_data';\n",
              "          await google.colab.output.renderOutput(dataTable, element);\n",
              "          const docLink = document.createElement('div');\n",
              "          docLink.innerHTML = docLinkHtml;\n",
              "          element.appendChild(docLink);\n",
              "        }\n",
              "      </script>\n",
              "    </div>\n",
              "  </div>\n",
              "  "
            ]
          },
          "metadata": {},
          "execution_count": 21
        }
      ]
    },
    {
      "cell_type": "code",
      "source": [
        "#Use StandardScaler to transform data\n",
        "from sklearn import preprocessing\n",
        "scaler=preprocessing.StandardScaler()\n",
        "scaler.fit(X_train)\n",
        "X_train_scaled=scaler.transform(X_train)\n",
        "X_test_scaled=scaler.transform(X_test)\n",
        "X_train_scaled=pd.DataFrame(X_train_scaled, columns=['Cancer Type Detailed', 'Sex', 'Age', 'Smoking Status','Mutation Count', 'Fraction Genome Altered'])\n",
        "X_test_scaled=pd.DataFrame(X_test_scaled, columns=['Cancer Type Detailed', 'Sex', 'Age', 'Smoking Status','Mutation Count', 'Fraction Genome Altered'])"
      ],
      "metadata": {
        "id": "kBdqXhVY_5Cv"
      },
      "execution_count": 9,
      "outputs": []
    },
    {
      "cell_type": "code",
      "source": [
        "#Plot the difference before and after scaling\n",
        "import seaborn as sns\n",
        "fig3=plt.figure(figsize=(20,8))\n",
        "ax1=fig3.add_subplot(121)\n",
        "ax1.set_title('Before Scaling')\n",
        "sns.kdeplot(X_train['Cancer Type Detailed'])\n",
        "sns.kdeplot(X_train['Sex'])\n",
        "sns.kdeplot(X_train['Age'])\n",
        "sns.kdeplot(X_train['Smoking Status'])\n",
        "sns.kdeplot(X_train['Mutation Count'])\n",
        "sns.kdeplot(X_train['Fraction Genome Altered'])\n",
        "plt.xlabel(\" \")\n",
        "ax2=fig3.add_subplot(122)\n",
        "ax2.set_title('After Scaling')\n",
        "sns.kdeplot(X_train_scaled['Cancer Type Detailed'])\n",
        "sns.kdeplot(X_train_scaled['Sex'])\n",
        "sns.kdeplot(X_train_scaled['Age'])\n",
        "sns.kdeplot(X_train_scaled['Smoking Status'])\n",
        "sns.kdeplot(X_train_scaled['Mutation Count'])\n",
        "sns.kdeplot(X_train_scaled['Fraction Genome Altered'])\n",
        "plt.xlabel(\" \")\n",
        "plt.show()"
      ],
      "metadata": {
        "colab": {
          "base_uri": "https://localhost:8080/",
          "height": 513
        },
        "id": "4_khrYixAIf9",
        "outputId": "99a3be8d-9a93-47fb-c70d-7c5023d0393a"
      },
      "execution_count": 10,
      "outputs": [
        {
          "output_type": "display_data",
          "data": {
            "text/plain": [
              "<Figure size 1440x576 with 2 Axes>"
            ],
            "image/png": "[encoded data removed]"
          },
          "metadata": {
            "needs_background": "light"
          }
        }
      ]
    },
    {
      "cell_type": "markdown",
      "source": [
        "Looking at the graphs, scaling is necessary."
      ],
      "metadata": {
        "id": "xqdqeCUACsbv"
      }
    },
    {
      "cell_type": "markdown",
      "source": [
        "### Models and cross validation"
      ],
      "metadata": {
        "id": "B7h1f5zHCvIm"
      }
    },
    {
      "cell_type": "code",
      "source": [
        "#Import cross validation functions\n",
        "from sklearn.model_selection import cross_val_score\n",
        "from sklearn.model_selection import KFold\n",
        "kfold=KFold(n_splits=5)\n",
        "from sklearn.model_selection import RepeatedKFold\n",
        "rkf=RepeatedKFold(n_splits=5, n_repeats=5)"
      ],
      "metadata": {
        "id": "H3AGTiJR_1ex"
      },
      "execution_count": 7,
      "outputs": []
    },
    {
      "cell_type": "code",
      "source": [
        "#KNN Regressor\n",
        "from sklearn.neighbors import KNeighborsRegressor\n",
        "knn=KNeighborsRegressor()\n",
        "knn.fit(X_train_scaled, y_train)\n",
        "print(\"Training set score: {:.2f}\".format(knn.score(X_train_scaled, y_train)))\n",
        "print(\"Test set score: {:.2f}\".format(knn.score(X_test_scaled, y_test)))\n",
        "print(\"KNN Cross Validation Kfold Scores:{}\".format(np.mean((cross_val_score(KNeighborsRegressor(), X_train_scaled, y_train, cv=kfold)))))\n",
        "print(\"KNN Cross Validation Repeatedkfold Scores:{}\".format(np.mean((cross_val_score(KNeighborsRegressor(), X_train_scaled, y_train, cv=rkf)))))"
      ],
      "metadata": {
        "colab": {
          "base_uri": "https://localhost:8080/"
        },
        "id": "rJtbMGffAZsW",
        "outputId": "4664bf75-a863-4664-8287-d706853ea6c1"
      },
      "execution_count": 22,
      "outputs": [
        {
          "output_type": "stream",
          "name": "stdout",
          "text": [
            "Training set score: 0.34\n",
            "Test set score: -0.01\n",
            "KNN Cross Validation Kfold Scores:-0.08266969992626283\n",
            "KNN Cross Validation Repeatedkfold Scores:-0.0457949704458616\n"
          ]
        }
      ]
    },
    {
      "cell_type": "code",
      "source": [
        "#KNN Regressor+GridSearchCV\n",
        "from sklearn.model_selection import GridSearchCV\n",
        "param_grid={'n_neighbors': range(1, 30, 2)}\n",
        "grid=GridSearchCV(KNeighborsRegressor(), param_grid, cv=rkf)\n",
        "grid.fit(X_train_scaled, y_train)\n",
        "print(\"Best mean cross-validation score: {}\".format(grid.best_score_))\n",
        "print(\"Best parameters: {}\".format(grid.best_params_))\n",
        "print(\"Test set score: {:.2f}\".format(grid.score(X_test_scaled, y_test)))"
      ],
      "metadata": {
        "colab": {
          "base_uri": "https://localhost:8080/"
        },
        "id": "kgNIIGtcBn-S",
        "outputId": "894325ad-f521-4e38-db8a-7f95ef0df118"
      },
      "execution_count": 19,
      "outputs": [
        {
          "output_type": "stream",
          "name": "stdout",
          "text": [
            "Best mean cross-validation score: -0.031850679524860405\n",
            "Best parameters: {'n_neighbors': 29}\n",
            "Test set score: -0.02\n"
          ]
        }
      ]
    },
    {
      "cell_type": "code",
      "source": [
        "#Linear Regression\n",
        "from sklearn.linear_model import LinearRegression\n",
        "lr=LinearRegression()\n",
        "lr.fit(X_train_scaled, y_train)\n",
        "print(\"Training set score: {:.2f}\".format(lr.score(X_train_scaled, y_train)))\n",
        "print(\"Test set score: {:.2f}\".format(lr.score(X_test_scaled, y_test)))\n",
        "print(\"Linear Regression Cross Validation Kfold Scores:{}\".format(np.mean((cross_val_score(LinearRegression(), X_train_scaled, y_train, cv=kfold)))))\n",
        "print(\"Linear Regression Cross Validation Repeatedkfold Scores:{}\".format(np.mean((cross_val_score(LinearRegression(), X_train_scaled, y_train, cv=rkf)))))"
      ],
      "metadata": {
        "colab": {
          "base_uri": "https://localhost:8080/"
        },
        "id": "JTjtfqFgA59J",
        "outputId": "d6a1768b-af96-43d6-e140-9a62698a0292"
      },
      "execution_count": 15,
      "outputs": [
        {
          "output_type": "stream",
          "name": "stdout",
          "text": [
            "Training set score: 0.01\n",
            "Test set score: -0.00\n",
            "Linear Regression Cross Validation Kfold Scores:0.004673756046832178\n",
            "Linear Regression Cross Validation Repeatedkfold Scores:0.004165539344789435\n"
          ]
        }
      ]
    },
    {
      "cell_type": "code",
      "source": [
        "#Ridge\n",
        "from sklearn.linear_model import Ridge\n",
        "ridge=Ridge()\n",
        "ridge.fit(X_train_scaled, y_train)\n",
        "print(\"Training set score: {:.2f}\".format(ridge.score(X_train_scaled, y_train)))\n",
        "print(\"Test set score: {:.2f}\".format((ridge.score(X_test_scaled, y_test))))\n",
        "print(\"Ridge Cross Validation Kfold Scores:{}\".format(np.mean((cross_val_score(Ridge(), X_train_scaled, y_train, cv=kfold)))))\n",
        "print(\"Ridge Cross Validation Repeatedkfold Scores:{}\".format(np.mean((cross_val_score(Ridge(), X_train_scaled, y_train, cv=rkf)))))"
      ],
      "metadata": {
        "colab": {
          "base_uri": "https://localhost:8080/"
        },
        "id": "sLVXKkVhBCm4",
        "outputId": "b1665fef-9413-495b-88b3-572f0bd768e5"
      },
      "execution_count": 17,
      "outputs": [
        {
          "output_type": "stream",
          "name": "stdout",
          "text": [
            "Training set score: 0.01\n",
            "Test set score: -0.00\n",
            "Ridge Cross Validation Kfold Scores:0.004680121439756357\n",
            "Ridge Cross Validation Repeatedkfold Scores:0.0026577872210687926\n"
          ]
        }
      ]
    },
    {
      "cell_type": "code",
      "source": [
        "#Ridge+GridSearchCV\n",
        "param_grid={'alpha': [0.01, 0.05, 0.1, 0.2, 0.5, 1, 3, 5, 100]}\n",
        "gridridge=GridSearchCV(Ridge(), param_grid, cv=rkf)\n",
        "gridridge.fit(X_train_scaled, y_train)\n",
        "print(\"Best mean cross-validation score: {}\".format(gridridge.best_score_))\n",
        "print(\"Best parameters: {}\".format(gridridge.best_params_))\n",
        "print(\"Test set score: {:.2f}\".format(gridridge.score(X_test_scaled, y_test)))"
      ],
      "metadata": {
        "colab": {
          "base_uri": "https://localhost:8080/"
        },
        "id": "hBib7tPLCOZ_",
        "outputId": "59d8c2f2-5bdc-4971-a130-23b6a012a888"
      },
      "execution_count": 23,
      "outputs": [
        {
          "output_type": "stream",
          "name": "stdout",
          "text": [
            "Best mean cross-validation score: 0.050023408806932096\n",
            "Best parameters: {'alpha': 100}\n",
            "Test set score: 0.03\n"
          ]
        }
      ]
    },
    {
      "cell_type": "code",
      "source": [
        "#Lasso\n",
        "from sklearn.linear_model import Lasso\n",
        "lasso=Lasso()\n",
        "lasso.fit(X_train_scaled, y_train)\n",
        "print(\"Training set score: {:.2f}\".format(lasso.score(X_train_scaled, y_train))) \n",
        "print(\"Test set score: {:.2f}\".format(lasso.score(X_test_scaled, y_test))) \n",
        "print(\"Number of features used: {}\".format(np.sum(lasso.coef_!= 0)))\n",
        "print(\"Lasso Cross Validation Kfold Scores:{}\".format(np.mean((cross_val_score(Lasso(), X_train_scaled, y_train, cv=kfold)))))\n",
        "print(\"Lasso Cross Validation Repeatedkfold Scores:{}\".format(np.mean((cross_val_score(Lasso(), X_train_scaled, y_train, cv=rkf)))))"
      ],
      "metadata": {
        "colab": {
          "base_uri": "https://localhost:8080/"
        },
        "id": "nKbtH9wkBW8v",
        "outputId": "91987efa-cfd9-4319-e744-5321825827e4"
      },
      "execution_count": 18,
      "outputs": [
        {
          "output_type": "stream",
          "name": "stdout",
          "text": [
            "Training set score: 0.01\n",
            "Test set score: 0.00\n",
            "Number of features used: 3\n",
            "Lasso Cross Validation Kfold Scores:0.001359928509111219\n",
            "Lasso Cross Validation Repeatedkfold Scores:0.0018923441713842902\n"
          ]
        }
      ]
    },
    {
      "cell_type": "code",
      "source": [
        "#Lasso+GridSearchCV\n",
        "param_grid={'alpha': [0.01, 0.05, 0.1, 0.2, 0.5, 1, 3, 5, 100]}\n",
        "gridlasso=GridSearchCV(Lasso(max_iter=100000), param_grid, cv=rkf)\n",
        "gridlasso.fit(X_train_scaled, y_train)\n",
        "print(\"Best mean cross-validation score: {}\".format(gridlasso.best_score_))\n",
        "print(\"Best parameters: {}\".format(gridlasso.best_params_))\n",
        "print(\"Test set score: {:.2f}\".format(gridlasso.score(X_test_scaled, y_test)))"
      ],
      "metadata": {
        "colab": {
          "base_uri": "https://localhost:8080/"
        },
        "id": "N-vScC5xCPig",
        "outputId": "d0af06d4-35c5-424e-a316-20ffa6154b15"
      },
      "execution_count": 24,
      "outputs": [
        {
          "output_type": "stream",
          "name": "stdout",
          "text": [
            "Best mean cross-validation score: 0.04849095393508987\n",
            "Best parameters: {'alpha': 0.01}\n",
            "Test set score: 0.03\n"
          ]
        }
      ]
    },
    {
      "cell_type": "code",
      "source": [
        "#Random Forest\n",
        "from sklearn.ensemble import RandomForestRegressor\n",
        "forest=RandomForestRegressor()\n",
        "forest.fit(X_train_scaled, y_train)\n",
        "print(\"Training set score: {:.2f}\".format(forest.score(X_train_scaled, y_train))) \n",
        "print(\"Test set score: {:.2f}\".format(forest.score(X_test_scaled, y_test))) \n",
        "print(\"Lasso Cross Validation Kfold Scores:{}\".format(np.mean((cross_val_score(RandomForestRegressor(), X_train_scaled, y_train, cv=kfold)))))\n",
        "print(\"Lasso Cross Validation Repeatedkfold Scores:{}\".format(np.mean((cross_val_score(RandomForestRegressor(), X_train_scaled, y_train, cv=rkf)))))"
      ],
      "metadata": {
        "colab": {
          "base_uri": "https://localhost:8080/"
        },
        "id": "uWFVeScTF4oR",
        "outputId": "e2945349-152e-4d8c-fc60-eb3e5219c13d"
      },
      "execution_count": 39,
      "outputs": [
        {
          "output_type": "stream",
          "name": "stdout",
          "text": [
            "Training set score: 0.91\n",
            "Test set score: 0.45\n",
            "Lasso Cross Validation Kfold Scores:0.2246485569600928\n",
            "Lasso Cross Validation Repeatedkfold Scores:0.2557202552989382\n"
          ]
        }
      ]
    },
    {
      "cell_type": "code",
      "source": [
        "#Random Forest+GridSearchCV\n",
        "forest_param_grid={'n_estimators': [1, 5, 10, 15, 20, 50, 100, 200], 'max_depth':[50, 100, 150, 200]}\n",
        "forest_grid=GridSearchCV(RandomForestRegressor(), forest_param_grid).fit(X_train_scaled, y_train)\n",
        "print(\"Best mean cross-validation score: {}\".format(forest_grid.best_score_))\n",
        "print(\"Best Parameter: {}\".format(forest_grid.best_params_))\n",
        "print(\"Test Set Score: {:.2f}\".format(forest_grid.score(X_test_scaled, y_test)))"
      ],
      "metadata": {
        "colab": {
          "base_uri": "https://localhost:8080/"
        },
        "id": "Way2Qw5CFZGk",
        "outputId": "f1a06a73-080f-4ad7-eb4b-d37d77d06c6c"
      },
      "execution_count": 37,
      "outputs": [
        {
          "output_type": "stream",
          "name": "stdout",
          "text": [
            "Best mean cross-validation score: 0.2376118409579898\n",
            "Best Parameter: {'max_depth': 100, 'n_estimators': 100}\n",
            "Test Set Score: 0.44\n"
          ]
        }
      ]
    },
    {
      "cell_type": "markdown",
      "source": [
        "I would think that the model results are not that well based on the models I've tested. Similar results are for the Overall Survial Status as well.\n",
        "\n",
        "I read one of the files other teammembers have created, and it seems that all other columns except Status is included as independent variables, and I think Overall Survival Status and Time length are highly correlated, so we probably need to choose one in the analysis and omit the other. "
      ],
      "metadata": {
        "id": "hEsmVaw9EnjA"
      }
    }
  ]
}