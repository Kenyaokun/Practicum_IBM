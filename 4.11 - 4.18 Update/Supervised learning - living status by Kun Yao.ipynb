{
 "cells": [
  {
   "cell_type": "markdown",
   "id": "9c44ef73",
   "metadata": {},
   "source": [
    "# Supervised learning predicting living status"
   ]
  },
  {
   "cell_type": "code",
   "execution_count": 1,
   "id": "d5d2c080",
   "metadata": {},
   "outputs": [],
   "source": [
    "import warnings\n",
    "warnings.filterwarnings('ignore')\n",
    "import pandas as pd\n",
    "import numpy as np"
   ]
  },
  {
   "cell_type": "code",
   "execution_count": 2,
   "id": "d5dd8150",
   "metadata": {},
   "outputs": [],
   "source": [
    "lung_cancer = pd.read_csv('lung_cancer_all_dummified.csv')"
   ]
  },
  {
   "cell_type": "code",
   "execution_count": 3,
   "id": "fe53be9f",
   "metadata": {},
   "outputs": [
    {
     "name": "stdout",
     "output_type": "stream",
     "text": [
      "<class 'pandas.core.frame.DataFrame'>\n",
      "RangeIndex: 2564 entries, 0 to 2563\n",
      "Data columns (total 9 columns):\n",
      " #   Column                     Non-Null Count  Dtype  \n",
      "---  ------                     --------------  -----  \n",
      " 0   Study ID                   2564 non-null   int64  \n",
      " 1   Cancer Type Detailed       2564 non-null   int64  \n",
      " 2   Sex                        2564 non-null   int64  \n",
      " 3   Age                        2564 non-null   int64  \n",
      " 4   Smoking Status             2564 non-null   int64  \n",
      " 5   Mutation Count             2564 non-null   int64  \n",
      " 6   Fraction Genome Altered    2564 non-null   float64\n",
      " 7   Overall Survival Status    2564 non-null   int64  \n",
      " 8   Overall Survival (Months)  2564 non-null   float64\n",
      "dtypes: float64(2), int64(7)\n",
      "memory usage: 180.4 KB\n"
     ]
    }
   ],
   "source": [
    "lung_cancer.info()"
   ]
  },
  {
   "cell_type": "code",
   "execution_count": 4,
   "id": "fd554137",
   "metadata": {},
   "outputs": [
    {
     "data": {
      "text/html": [
       "<div>\n",
       "<style scoped>\n",
       "    .dataframe tbody tr th:only-of-type {\n",
       "        vertical-align: middle;\n",
       "    }\n",
       "\n",
       "    .dataframe tbody tr th {\n",
       "        vertical-align: top;\n",
       "    }\n",
       "\n",
       "    .dataframe thead th {\n",
       "        text-align: right;\n",
       "    }\n",
       "</style>\n",
       "<table border=\"1\" class=\"dataframe\">\n",
       "  <thead>\n",
       "    <tr style=\"text-align: right;\">\n",
       "      <th></th>\n",
       "      <th>Study ID</th>\n",
       "      <th>Cancer Type Detailed</th>\n",
       "      <th>Sex</th>\n",
       "      <th>Age</th>\n",
       "      <th>Smoking Status</th>\n",
       "      <th>Mutation Count</th>\n",
       "      <th>Fraction Genome Altered</th>\n",
       "      <th>Overall Survival Status</th>\n",
       "      <th>Overall Survival (Months)</th>\n",
       "    </tr>\n",
       "  </thead>\n",
       "  <tbody>\n",
       "    <tr>\n",
       "      <th>0</th>\n",
       "      <td>1</td>\n",
       "      <td>1</td>\n",
       "      <td>0</td>\n",
       "      <td>70</td>\n",
       "      <td>0</td>\n",
       "      <td>0</td>\n",
       "      <td>0.4565</td>\n",
       "      <td>0</td>\n",
       "      <td>0.00</td>\n",
       "    </tr>\n",
       "    <tr>\n",
       "      <th>1</th>\n",
       "      <td>1</td>\n",
       "      <td>1</td>\n",
       "      <td>0</td>\n",
       "      <td>81</td>\n",
       "      <td>0</td>\n",
       "      <td>0</td>\n",
       "      <td>0.0000</td>\n",
       "      <td>0</td>\n",
       "      <td>23.98</td>\n",
       "    </tr>\n",
       "    <tr>\n",
       "      <th>2</th>\n",
       "      <td>1</td>\n",
       "      <td>1</td>\n",
       "      <td>0</td>\n",
       "      <td>67</td>\n",
       "      <td>0</td>\n",
       "      <td>289</td>\n",
       "      <td>0.2221</td>\n",
       "      <td>0</td>\n",
       "      <td>50.03</td>\n",
       "    </tr>\n",
       "    <tr>\n",
       "      <th>3</th>\n",
       "      <td>1</td>\n",
       "      <td>1</td>\n",
       "      <td>1</td>\n",
       "      <td>79</td>\n",
       "      <td>0</td>\n",
       "      <td>0</td>\n",
       "      <td>0.2362</td>\n",
       "      <td>1</td>\n",
       "      <td>3.98</td>\n",
       "    </tr>\n",
       "    <tr>\n",
       "      <th>4</th>\n",
       "      <td>1</td>\n",
       "      <td>1</td>\n",
       "      <td>0</td>\n",
       "      <td>68</td>\n",
       "      <td>0</td>\n",
       "      <td>1272</td>\n",
       "      <td>0.0854</td>\n",
       "      <td>0</td>\n",
       "      <td>19.94</td>\n",
       "    </tr>\n",
       "  </tbody>\n",
       "</table>\n",
       "</div>"
      ],
      "text/plain": [
       "   Study ID  Cancer Type Detailed  Sex  Age  Smoking Status  Mutation Count  \\\n",
       "0         1                     1    0   70               0               0   \n",
       "1         1                     1    0   81               0               0   \n",
       "2         1                     1    0   67               0             289   \n",
       "3         1                     1    1   79               0               0   \n",
       "4         1                     1    0   68               0            1272   \n",
       "\n",
       "   Fraction Genome Altered  Overall Survival Status  Overall Survival (Months)  \n",
       "0                   0.4565                        0                       0.00  \n",
       "1                   0.0000                        0                      23.98  \n",
       "2                   0.2221                        0                      50.03  \n",
       "3                   0.2362                        1                       3.98  \n",
       "4                   0.0854                        0                      19.94  "
      ]
     },
     "execution_count": 4,
     "metadata": {},
     "output_type": "execute_result"
    }
   ],
   "source": [
    "lung_cancer.head()"
   ]
  },
  {
   "cell_type": "markdown",
   "id": "ef940a1d",
   "metadata": {},
   "source": [
    "### Supervised learning on living status"
   ]
  },
  {
   "cell_type": "markdown",
   "id": "a4a1a7eb",
   "metadata": {},
   "source": [
    "- Logistic regression\n",
    "- SVM\n",
    "- Decision Tree\n",
    "- Random Forest"
   ]
  },
  {
   "cell_type": "markdown",
   "id": "02a8de94",
   "metadata": {},
   "source": [
    "##### preprocess the data"
   ]
  },
  {
   "cell_type": "code",
   "execution_count": 7,
   "id": "ee5977c6",
   "metadata": {},
   "outputs": [],
   "source": [
    "lung_cancer_new = lung_cancer.drop(columns = ['Study ID'])"
   ]
  },
  {
   "cell_type": "code",
   "execution_count": 9,
   "id": "2dfbad88",
   "metadata": {},
   "outputs": [],
   "source": [
    "X = lung_cancer_new.iloc[:, lung_cancer_new.columns != 'Overall Survival Status']\n",
    "y = lung_cancer_new['Overall Survival Status']"
   ]
  },
  {
   "cell_type": "code",
   "execution_count": 10,
   "id": "fd7da524",
   "metadata": {},
   "outputs": [],
   "source": [
    "#Logistic Regression\n",
    "# Set up function parameters for different cross validation strategies\n",
    "from sklearn.model_selection import RepeatedKFold\n",
    "from sklearn.model_selection import StratifiedKFold\n",
    "from sklearn.model_selection import KFold\n",
    "from sklearn.model_selection import cross_val_score\n",
    "\n",
    "kfold = KFold(n_splits=5)\n",
    "skfold = StratifiedKFold(n_splits=5, shuffle=True) \n",
    "rkf = RepeatedKFold(n_splits=5, n_repeats=10, random_state=1)"
   ]
  },
  {
   "cell_type": "code",
   "execution_count": 11,
   "id": "6a4d107e",
   "metadata": {},
   "outputs": [],
   "source": [
    "#Step 1: Split the data into training and testing set\n",
    "from sklearn.model_selection import train_test_split\n",
    "\n",
    "# randomly assign some data to the test-set and the rest to the training-set\n",
    "X_train, X_test, y_train, y_test = train_test_split(X, y, random_state = 42) \n"
   ]
  },
  {
   "cell_type": "code",
   "execution_count": 13,
   "id": "01eb8377",
   "metadata": {},
   "outputs": [],
   "source": [
    "#StandardScaler\n",
    "from sklearn.preprocessing import StandardScaler\n",
    "scaler = StandardScaler().fit(X_train)\n",
    "X_train_scaled = scaler.transform(X_train)\n",
    "X_test_scaled = scaler.transform(X_test)"
   ]
  },
  {
   "cell_type": "markdown",
   "id": "2a883008",
   "metadata": {},
   "source": [
    "#### Logistic regression"
   ]
  },
  {
   "cell_type": "code",
   "execution_count": 15,
   "id": "bcd59110",
   "metadata": {},
   "outputs": [
    {
     "name": "stdout",
     "output_type": "stream",
     "text": [
      "Training set score: 0.74\n",
      "Test set score: 0.74\n",
      "Mean Cross Validation, KFold: 0.74\n"
     ]
    }
   ],
   "source": [
    "from sklearn.linear_model import LogisticRegression\n",
    "\n",
    "logreg = LogisticRegression().fit(X_train_scaled, y_train)\n",
    "\n",
    "print(\"Training set score: {:.2f}\".format(logreg.score(X_train_scaled, y_train)))\n",
    "print(\"Test set score: {:.2f}\".format(logreg.score(X_test_scaled, y_test))) \n",
    "\n",
    "# Kfold Cross Validation\n",
    "print(\"Mean Cross Validation, KFold: {:.2f}\".format(np.mean(cross_val_score(logreg, X_train_scaled, y_train, cv=kfold))))\n",
    "\n",
    "# Wine type prediction from test set (I'll use this later)\n",
    "logreg_predicted_vals = logreg.predict(X_test_scaled)\n"
   ]
  },
  {
   "cell_type": "code",
   "execution_count": 16,
   "id": "c5d55dd0",
   "metadata": {},
   "outputs": [
    {
     "name": "stdout",
     "output_type": "stream",
     "text": [
      "Test set Score: 0.74\n",
      "Best Parameter: {'logisticregression__C': 1.0}\n"
     ]
    }
   ],
   "source": [
    "# GridSearchCV\n",
    "from sklearn.pipeline import make_pipeline\n",
    "from sklearn.model_selection import GridSearchCV\n",
    "from sklearn.preprocessing import StandardScaler\n",
    "\n",
    "logreg_pipe = make_pipeline(StandardScaler(), LogisticRegression())\n",
    "#print(logreg_pipe.steps) \n",
    "# Name of step = 'logisticregression' + __ + C\n",
    "\n",
    "logreg_param_grid = {'logisticregression__C': np.linspace(1, 100, 100)}\n",
    "logreg_grid = GridSearchCV(logreg_pipe, logreg_param_grid).fit(X_train_scaled, y_train)\n",
    "\n",
    "print(\"Test set Score: {:.2f}\".format(logreg_grid.score(X_test_scaled, y_test)))\n",
    "print(\"Best Parameter: {}\".format(logreg_grid.best_params_))"
   ]
  },
  {
   "cell_type": "markdown",
   "id": "e0ab66d3",
   "metadata": {},
   "source": [
    "#### SVM"
   ]
  },
  {
   "cell_type": "code",
   "execution_count": 17,
   "id": "fc369f76",
   "metadata": {},
   "outputs": [
    {
     "name": "stdout",
     "output_type": "stream",
     "text": [
      "Training set score: 0.75\n",
      "Test set score: 0.74\n",
      "Mean Cross-Validation, Kfold: -0.33\n"
     ]
    }
   ],
   "source": [
    "from sklearn import svm\n",
    "\n",
    "svc = svm.SVC()\n",
    "svc.fit(X_train, y_train)\n",
    "print(\"Training set score: {:.2f}\".format(svc.score(X_train_scaled, y_train)))\n",
    "print(\"Test set score: {:.2f}\".format(svc.score(X_test_scaled, y_test)))\n",
    "\n",
    "# Kfold cross validation\n",
    "print(\"Mean Cross-Validation, Kfold: {:.2f}\".format(np.mean(cross_val_score(svc, X_train_scaled, y_train, scoring='r2', cv=kfold))))\n",
    "svc_unscaled = np.mean(cross_val_score(svc, X_train_scaled, y_train, scoring='r2', cv=kfold))"
   ]
  },
  {
   "cell_type": "markdown",
   "id": "cc5c3d1a",
   "metadata": {},
   "source": [
    "#### Decision Tree"
   ]
  },
  {
   "cell_type": "code",
   "execution_count": 18,
   "id": "27618dea",
   "metadata": {},
   "outputs": [
    {
     "data": {
      "text/plain": [
       "0.8034321372854915"
      ]
     },
     "execution_count": 18,
     "metadata": {},
     "output_type": "execute_result"
    }
   ],
   "source": [
    "from sklearn.tree import DecisionTreeClassifier\n",
    "\n",
    "tree_class = DecisionTreeClassifier(random_state=0)\n",
    "tree_class.fit(X_train_scaled, y_train)\n",
    "tree_class.score(X_test_scaled, y_test)"
   ]
  },
  {
   "cell_type": "code",
   "execution_count": 19,
   "id": "3f0890b2",
   "metadata": {},
   "outputs": [
    {
     "name": "stdout",
     "output_type": "stream",
     "text": [
      "Decision Tree Model KFold cross validation average score is: 0.796\n",
      "Best mean cross-validation score of decision tree: 0.816\n",
      "Best parameter of decision tree: {'max_depth': 18}\n"
     ]
    }
   ],
   "source": [
    "from sklearn.model_selection import KFold\n",
    "from sklearn.model_selection import cross_val_score\n",
    "from sklearn.model_selection import GridSearchCV\n",
    "\n",
    "kfold = KFold(n_splits = 10, shuffle = True, random_state = 5)\n",
    "max_depth = {'max_depth': np.arange(1, 20, 1)}\n",
    "tree = DecisionTreeClassifier()\n",
    "grid_dec_tree = GridSearchCV(tree, param_grid = max_depth, cv = kfold)\n",
    "grid_dec_tree.fit(X_train_scaled, y_train)\n",
    "cv_dec_tree = cross_val_score(grid_dec_tree, X_train_scaled, y_train)\n",
    "\n",
    "print(\"Decision Tree Model KFold cross validation average score is: {:.3f}\".format(np.mean(cv_dec_tree)))\n",
    "print(\"Best mean cross-validation score of decision tree: {:.3f}\".format(grid_dec_tree.best_score_))\n",
    "print(\"Best parameter of decision tree: {}\".format(grid_dec_tree.best_params_))"
   ]
  },
  {
   "cell_type": "markdown",
   "id": "9003715b",
   "metadata": {},
   "source": [
    "#### Random Forest"
   ]
  },
  {
   "cell_type": "code",
   "execution_count": 21,
   "id": "7d00c716",
   "metadata": {},
   "outputs": [
    {
     "data": {
      "text/plain": [
       "0.8673946957878315"
      ]
     },
     "execution_count": 21,
     "metadata": {},
     "output_type": "execute_result"
    }
   ],
   "source": [
    "from sklearn.ensemble import RandomForestClassifier\n",
    "\n",
    "forest_classifier = RandomForestClassifier(random_state=0)\n",
    "forest_classifier.fit(X_train_scaled, y_train)\n",
    "forest_classifier.score(X_test_scaled, y_test)"
   ]
  },
  {
   "cell_type": "code",
   "execution_count": 25,
   "id": "71004e6f",
   "metadata": {},
   "outputs": [
    {
     "name": "stdout",
     "output_type": "stream",
     "text": [
      "Random Forest Model KFold cross validation average score is: 0.771\n",
      "Best mean cross-validation score of Random Forest: 0.858\n",
      "Best parameter of Random Forest: {'max_depth': 19}\n"
     ]
    }
   ],
   "source": [
    "from sklearn.model_selection import KFold\n",
    "from sklearn.model_selection import cross_val_score\n",
    "from sklearn.model_selection import GridSearchCV\n",
    "\n",
    "kfold = KFold(n_splits = 10, shuffle = True, random_state = 5)\n",
    "max_depth = {'max_depth': np.arange(1, 20, 1)}\n",
    "forest = RandomForestClassifier()\n",
    "grid_forest = GridSearchCV(forest, param_grid = max_depth, cv = kfold)\n",
    "grid_forest.fit(X_train_scaled, y_train)\n",
    "cv_forest = cross_val_score(grid_forest, X_test_scaled, y_test)\n",
    "\n",
    "print(\"Random Forest Model KFold cross validation average score is: {:.3f}\".format(np.mean(cv_forest)))\n",
    "print(\"Best mean cross-validation score of Random Forest: {:.3f}\".format(grid_forest.best_score_))\n",
    "print(\"Best parameter of Random Forest: {}\".format(grid_forest.best_params_))"
   ]
  },
  {
   "cell_type": "markdown",
   "id": "04d46b43",
   "metadata": {},
   "source": [
    "**Conclusion:**\n",
    "- Random Forest has the highest score using the original model.\n",
    "- The best parameter for random forest is when the max depth equals to 19.\n",
    "- I just eliminated 'Study ID' and kept 'Cancer Type Detailed' to independent variables. I think Cancer Type may affect survival status. So I keep this variable."
   ]
  },
  {
   "cell_type": "markdown",
   "id": "4a2cc193",
   "metadata": {},
   "source": [
    "#### Model Evaluation"
   ]
  },
  {
   "cell_type": "code",
   "execution_count": 29,
   "id": "6a03cc79",
   "metadata": {},
   "outputs": [
    {
     "name": "stdout",
     "output_type": "stream",
     "text": [
      "Training accuracy:  1.0\n",
      "Testing  accuracy:  0.859594383775351\n",
      "[[451  21]\n",
      " [ 69 100]]\n"
     ]
    }
   ],
   "source": [
    "from sklearn.metrics import confusion_matrix\n",
    "test_pred_model_1 = grid_forest.predict(X_test_scaled) #model_1 test data predictions go here\n",
    "cfm_model_1 = confusion_matrix(y_test, test_pred_model_1) #model_1 confusion matrix on test data goes here\n",
    "train_acc_model_1 = grid_forest.score(X_train_scaled,y_train)\n",
    "test_acc_model_1 = grid_forest.score(X_test_scaled,y_test)\n",
    "print(\"Training accuracy: \",train_acc_model_1)\n",
    "print(\"Testing  accuracy: \",test_acc_model_1)\n",
    "print(cfm_model_1)"
   ]
  },
  {
   "cell_type": "code",
   "execution_count": 30,
   "id": "fedd1543",
   "metadata": {},
   "outputs": [
    {
     "name": "stdout",
     "output_type": "stream",
     "text": [
      "precision:  0.591715976331361\n",
      "recall:  0.8264462809917356\n",
      "f1 score:  0.6896551724137931\n"
     ]
    }
   ],
   "source": [
    "from sklearn.metrics import f1_score,recall_score,precision_score\n",
    "import warnings\n",
    "warnings.filterwarnings('ignore')\n",
    "\n",
    "f1_model_1 = f1_score(y_test, test_pred_model_1)#model_1 f1 score on test data goes here\n",
    "precision_model_1 = recall_score(y_test, test_pred_model_1)#model_1 precision score on test data goes here\n",
    "recall_model_1 = precision_score(y_test, test_pred_model_1)#model_1 recall score on test data goes here\n",
    "\n",
    "print(\"precision: \",precision_model_1)\n",
    "print(\"recall: \",recall_model_1)\n",
    "print(\"f1 score: \",f1_model_1)"
   ]
  },
  {
   "cell_type": "code",
   "execution_count": 32,
   "id": "3c09074f",
   "metadata": {},
   "outputs": [],
   "source": [
    "from sklearn.metrics import precision_recall_curve\n",
    "from sklearn.model_selection import cross_val_predict\n",
    "#clf = SGDClassifier(random_state=42,max_iter=100)\n",
    "y_train_pred = cross_val_predict(grid_forest, X_train_scaled, y_train,cv=3)\n",
    "precision,recall,thresholds = precision_recall_curve(y_train, y_train_pred)"
   ]
  },
  {
   "cell_type": "code",
   "execution_count": 33,
   "id": "6ddd4a24",
   "metadata": {
    "scrolled": true
   },
   "outputs": [
    {
     "data": {
      "text/plain": [
       "<matplotlib.legend.Legend at 0x7fd942da9790>"
      ]
     },
     "execution_count": 33,
     "metadata": {},
     "output_type": "execute_result"
    },
    {
     "data": {
      "image/png": "[encoded data removed]",
      "text/plain": [
       "<Figure size 432x288 with 1 Axes>"
      ]
     },
     "metadata": {
      "needs_background": "light"
     },
     "output_type": "display_data"
    }
   ],
   "source": [
    "import matplotlib.pyplot as plt\n",
    "plt.plot(thresholds,precision[:-1],label=\"precision\")\n",
    "plt.plot(thresholds,recall[:-1],label=\"recall\")\n",
    "plt.legend([\"precision\",\"recall\"],loc=\"upper right\")"
   ]
  },
  {
   "cell_type": "markdown",
   "id": "3a0cba81",
   "metadata": {},
   "source": [
    "- if precision is our focus, then, at around 60% we don't improve precision much but recall keeps dropping\n",
    "- we could look for a threshold of around 0.75\n",
    "- Boolean mask y_train_pred at around 0.75, i.e., predict 4 for values greater than 0.75 and not 4 for values less than 0.75"
   ]
  },
  {
   "cell_type": "code",
   "execution_count": 35,
   "id": "b4b1b0a1",
   "metadata": {},
   "outputs": [
    {
     "name": "stdout",
     "output_type": "stream",
     "text": [
      "0.6936026936026936\n",
      "0.42650103519668736\n"
     ]
    }
   ],
   "source": [
    "from sklearn.metrics import precision_score,recall_score\n",
    "y_pred = y_train_pred > 0.75\n",
    "print(precision_score(y_train, y_pred)) #originally 59%\n",
    "print(recall_score(y_train, y_pred)) #originally 82%"
   ]
  },
  {
   "cell_type": "markdown",
   "id": "24f7cc23",
   "metadata": {},
   "source": [
    "- this gives us a precision of about 69%. That means that 69% of what we predicted as a 4 was actually a 4\n",
    "- but we get a lower recal of less than 50%. Or, we correctly found less than 50% of all the 4s"
   ]
  },
  {
   "cell_type": "code",
   "execution_count": null,
   "id": "4e95879d",
   "metadata": {},
   "outputs": [],
   "source": []
  }
 ],
 "metadata": {
  "kernelspec": {
   "display_name": "Python 3 (ipykernel)",
   "language": "python",
   "name": "python3"
  },
  "language_info": {
   "codemirror_mode": {
    "name": "ipython",
    "version": 3
   },
   "file_extension": ".py",
   "mimetype": "text/x-python",
   "name": "python",
   "nbconvert_exporter": "python",
   "pygments_lexer": "ipython3",
   "version": "3.9.7"
  }
 },
 "nbformat": 4,
 "nbformat_minor": 5
}
