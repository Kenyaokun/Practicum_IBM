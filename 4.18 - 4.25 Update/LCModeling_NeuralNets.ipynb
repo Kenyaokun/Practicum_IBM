{
  "nbformat": 4,
  "nbformat_minor": 0,
  "metadata": {
    "colab": {
      "name": "LCModeling- NeuralNets.ipynb",
      "provenance": [],
      "collapsed_sections": []
    },
    "kernelspec": {
      "name": "python3",
      "display_name": "Python 3"
    },
    "language_info": {
      "name": "python"
    }
  },
  "cells": [
    {
      "cell_type": "markdown",
      "source": [
        "# Data and Setup"
      ],
      "metadata": {
        "id": "UdYVn4nRdvMY"
      }
    },
    {
      "cell_type": "code",
      "execution_count": 1,
      "metadata": {
        "id": "6zMDNNDbREIo"
      },
      "outputs": [],
      "source": [
        "%%capture\n",
        "# Importing required libraries\n",
        "import pandas as pd\n",
        "import numpy as np\n",
        "\n",
        "# Viz libraries and style setting\n",
        "import seaborn as sns\n",
        "import matplotlib.pyplot as plt\n",
        "plt.style.use('ggplot')\n",
        "\n",
        "# Set the palette to the \"pastel\" default palette:\n",
        "sns.set_palette(\"pastel\")"
      ]
    },
    {
      "cell_type": "code",
      "source": [
        "lgCan = pd.read_csv('https://raw.githubusercontent.com/Kenyaokun/Practicum_IBM/main/3.28%20-%204.04%20Update/lung_cancer_all_dummified.csv')"
      ],
      "metadata": {
        "id": "utQsYmTXfWyE"
      },
      "execution_count": 2,
      "outputs": []
    },
    {
      "cell_type": "code",
      "source": [
        "lgCan"
      ],
      "metadata": {
        "colab": {
          "base_uri": "https://localhost:8080/",
          "height": 467
        },
        "id": "EMmW4Fktgs7J",
        "outputId": "e40579f4-de35-4faf-a37f-391b553190a8"
      },
      "execution_count": 3,
      "outputs": [
        {
          "output_type": "execute_result",
          "data": {
            "text/plain": [
              "      Study ID  Cancer Type Detailed  Sex  Age  Smoking Status  \\\n",
              "0            1                     1    0   70               0   \n",
              "1            1                     1    0   81               0   \n",
              "2            1                     1    0   67               0   \n",
              "3            1                     1    1   79               0   \n",
              "4            1                     1    0   68               0   \n",
              "...        ...                   ...  ...  ...             ...   \n",
              "2559         3                     1    1   75               1   \n",
              "2560         3                     1    0   63               1   \n",
              "2561         3                     1    1   71               1   \n",
              "2562         3                     2    1   68               1   \n",
              "2563         3                     1    1   77               1   \n",
              "\n",
              "      Mutation Count  Fraction Genome Altered  Overall Survival Status  \\\n",
              "0                  0                   0.4565                        0   \n",
              "1                  0                   0.0000                        0   \n",
              "2                289                   0.2221                        0   \n",
              "3                  0                   0.2362                        1   \n",
              "4               1272                   0.0854                        0   \n",
              "...              ...                      ...                      ...   \n",
              "2559             211                   0.2382                        1   \n",
              "2560             101                   0.5420                        1   \n",
              "2561             216                   0.4405                        1   \n",
              "2562             109                   0.0598                        0   \n",
              "2563             185                   0.0357                        1   \n",
              "\n",
              "      Overall Survival (Months)  \n",
              "0                          0.00  \n",
              "1                         23.98  \n",
              "2                         50.03  \n",
              "3                          3.98  \n",
              "4                         19.94  \n",
              "...                         ...  \n",
              "2559                      43.91  \n",
              "2560                       8.59  \n",
              "2561                      11.18  \n",
              "2562                       4.00  \n",
              "2563                       0.20  \n",
              "\n",
              "[2564 rows x 9 columns]"
            ],
            "text/html": [
              "\n",
              "  <div id=\"df-42e05e80-a1f1-42f7-83fb-2fb2b797c875\">\n",
              "    <div class=\"colab-df-container\">\n",
              "      <div>\n",
              "<style scoped>\n",
              "    .dataframe tbody tr th:only-of-type {\n",
              "        vertical-align: middle;\n",
              "    }\n",
              "\n",
              "    .dataframe tbody tr th {\n",
              "        vertical-align: top;\n",
              "    }\n",
              "\n",
              "    .dataframe thead th {\n",
              "        text-align: right;\n",
              "    }\n",
              "</style>\n",
              "<table border=\"1\" class=\"dataframe\">\n",
              "  <thead>\n",
              "    <tr style=\"text-align: right;\">\n",
              "      <th></th>\n",
              "      <th>Study ID</th>\n",
              "      <th>Cancer Type Detailed</th>\n",
              "      <th>Sex</th>\n",
              "      <th>Age</th>\n",
              "      <th>Smoking Status</th>\n",
              "      <th>Mutation Count</th>\n",
              "      <th>Fraction Genome Altered</th>\n",
              "      <th>Overall Survival Status</th>\n",
              "      <th>Overall Survival (Months)</th>\n",
              "    </tr>\n",
              "  </thead>\n",
              "  <tbody>\n",
              "    <tr>\n",
              "      <th>0</th>\n",
              "      <td>1</td>\n",
              "      <td>1</td>\n",
              "      <td>0</td>\n",
              "      <td>70</td>\n",
              "      <td>0</td>\n",
              "      <td>0</td>\n",
              "      <td>0.4565</td>\n",
              "      <td>0</td>\n",
              "      <td>0.00</td>\n",
              "    </tr>\n",
              "    <tr>\n",
              "      <th>1</th>\n",
              "      <td>1</td>\n",
              "      <td>1</td>\n",
              "      <td>0</td>\n",
              "      <td>81</td>\n",
              "      <td>0</td>\n",
              "      <td>0</td>\n",
              "      <td>0.0000</td>\n",
              "      <td>0</td>\n",
              "      <td>23.98</td>\n",
              "    </tr>\n",
              "    <tr>\n",
              "      <th>2</th>\n",
              "      <td>1</td>\n",
              "      <td>1</td>\n",
              "      <td>0</td>\n",
              "      <td>67</td>\n",
              "      <td>0</td>\n",
              "      <td>289</td>\n",
              "      <td>0.2221</td>\n",
              "      <td>0</td>\n",
              "      <td>50.03</td>\n",
              "    </tr>\n",
              "    <tr>\n",
              "      <th>3</th>\n",
              "      <td>1</td>\n",
              "      <td>1</td>\n",
              "      <td>1</td>\n",
              "      <td>79</td>\n",
              "      <td>0</td>\n",
              "      <td>0</td>\n",
              "      <td>0.2362</td>\n",
              "      <td>1</td>\n",
              "      <td>3.98</td>\n",
              "    </tr>\n",
              "    <tr>\n",
              "      <th>4</th>\n",
              "      <td>1</td>\n",
              "      <td>1</td>\n",
              "      <td>0</td>\n",
              "      <td>68</td>\n",
              "      <td>0</td>\n",
              "      <td>1272</td>\n",
              "      <td>0.0854</td>\n",
              "      <td>0</td>\n",
              "      <td>19.94</td>\n",
              "    </tr>\n",
              "    <tr>\n",
              "      <th>...</th>\n",
              "      <td>...</td>\n",
              "      <td>...</td>\n",
              "      <td>...</td>\n",
              "      <td>...</td>\n",
              "      <td>...</td>\n",
              "      <td>...</td>\n",
              "      <td>...</td>\n",
              "      <td>...</td>\n",
              "      <td>...</td>\n",
              "    </tr>\n",
              "    <tr>\n",
              "      <th>2559</th>\n",
              "      <td>3</td>\n",
              "      <td>1</td>\n",
              "      <td>1</td>\n",
              "      <td>75</td>\n",
              "      <td>1</td>\n",
              "      <td>211</td>\n",
              "      <td>0.2382</td>\n",
              "      <td>1</td>\n",
              "      <td>43.91</td>\n",
              "    </tr>\n",
              "    <tr>\n",
              "      <th>2560</th>\n",
              "      <td>3</td>\n",
              "      <td>1</td>\n",
              "      <td>0</td>\n",
              "      <td>63</td>\n",
              "      <td>1</td>\n",
              "      <td>101</td>\n",
              "      <td>0.5420</td>\n",
              "      <td>1</td>\n",
              "      <td>8.59</td>\n",
              "    </tr>\n",
              "    <tr>\n",
              "      <th>2561</th>\n",
              "      <td>3</td>\n",
              "      <td>1</td>\n",
              "      <td>1</td>\n",
              "      <td>71</td>\n",
              "      <td>1</td>\n",
              "      <td>216</td>\n",
              "      <td>0.4405</td>\n",
              "      <td>1</td>\n",
              "      <td>11.18</td>\n",
              "    </tr>\n",
              "    <tr>\n",
              "      <th>2562</th>\n",
              "      <td>3</td>\n",
              "      <td>2</td>\n",
              "      <td>1</td>\n",
              "      <td>68</td>\n",
              "      <td>1</td>\n",
              "      <td>109</td>\n",
              "      <td>0.0598</td>\n",
              "      <td>0</td>\n",
              "      <td>4.00</td>\n",
              "    </tr>\n",
              "    <tr>\n",
              "      <th>2563</th>\n",
              "      <td>3</td>\n",
              "      <td>1</td>\n",
              "      <td>1</td>\n",
              "      <td>77</td>\n",
              "      <td>1</td>\n",
              "      <td>185</td>\n",
              "      <td>0.0357</td>\n",
              "      <td>1</td>\n",
              "      <td>0.20</td>\n",
              "    </tr>\n",
              "  </tbody>\n",
              "</table>\n",
              "<p>2564 rows × 9 columns</p>\n",
              "</div>\n",
              "      <button class=\"colab-df-convert\" onclick=\"convertToInteractive('df-42e05e80-a1f1-42f7-83fb-2fb2b797c875')\"\n",
              "              title=\"Convert this dataframe to an interactive table.\"\n",
              "              style=\"display:none;\">\n",
              "        \n",
              "  <svg xmlns=\"http://www.w3.org/2000/svg\" height=\"24px\"viewBox=\"0 0 24 24\"\n",
              "       width=\"24px\">\n",
              "    <path d=\"M0 0h24v24H0V0z\" fill=\"none\"/>\n",
              "    <path d=\"M18.56 5.44l.94 2.06.94-2.06 2.06-.94-2.06-.94-.94-2.06-.94 2.06-2.06.94zm-11 1L8.5 8.5l.94-2.06 2.06-.94-2.06-.94L8.5 2.5l-.94 2.06-2.06.94zm10 10l.94 2.06.94-2.06 2.06-.94-2.06-.94-.94-2.06-.94 2.06-2.06.94z\"/><path d=\"M17.41 7.96l-1.37-1.37c-.4-.4-.92-.59-1.43-.59-.52 0-1.04.2-1.43.59L10.3 9.45l-7.72 7.72c-.78.78-.78 2.05 0 2.83L4 21.41c.39.39.9.59 1.41.59.51 0 1.02-.2 1.41-.59l7.78-7.78 2.81-2.81c.8-.78.8-2.07 0-2.86zM5.41 20L4 18.59l7.72-7.72 1.47 1.35L5.41 20z\"/>\n",
              "  </svg>\n",
              "      </button>\n",
              "      \n",
              "  <style>\n",
              "    .colab-df-container {\n",
              "      display:flex;\n",
              "      flex-wrap:wrap;\n",
              "      gap: 12px;\n",
              "    }\n",
              "\n",
              "    .colab-df-convert {\n",
              "      background-color: #E8F0FE;\n",
              "      border: none;\n",
              "      border-radius: 50%;\n",
              "      cursor: pointer;\n",
              "      display: none;\n",
              "      fill: #1967D2;\n",
              "      height: 32px;\n",
              "      padding: 0 0 0 0;\n",
              "      width: 32px;\n",
              "    }\n",
              "\n",
              "    .colab-df-convert:hover {\n",
              "      background-color: #E2EBFA;\n",
              "      box-shadow: 0px 1px 2px rgba(60, 64, 67, 0.3), 0px 1px 3px 1px rgba(60, 64, 67, 0.15);\n",
              "      fill: #174EA6;\n",
              "    }\n",
              "\n",
              "    [theme=dark] .colab-df-convert {\n",
              "      background-color: #3B4455;\n",
              "      fill: #D2E3FC;\n",
              "    }\n",
              "\n",
              "    [theme=dark] .colab-df-convert:hover {\n",
              "      background-color: #434B5C;\n",
              "      box-shadow: 0px 1px 3px 1px rgba(0, 0, 0, 0.15);\n",
              "      filter: drop-shadow(0px 1px 2px rgba(0, 0, 0, 0.3));\n",
              "      fill: #FFFFFF;\n",
              "    }\n",
              "  </style>\n",
              "\n",
              "      <script>\n",
              "        const buttonEl =\n",
              "          document.querySelector('#df-42e05e80-a1f1-42f7-83fb-2fb2b797c875 button.colab-df-convert');\n",
              "        buttonEl.style.display =\n",
              "          google.colab.kernel.accessAllowed ? 'block' : 'none';\n",
              "\n",
              "        async function convertToInteractive(key) {\n",
              "          const element = document.querySelector('#df-42e05e80-a1f1-42f7-83fb-2fb2b797c875');\n",
              "          const dataTable =\n",
              "            await google.colab.kernel.invokeFunction('convertToInteractive',\n",
              "                                                     [key], {});\n",
              "          if (!dataTable) return;\n",
              "\n",
              "          const docLinkHtml = 'Like what you see? Visit the ' +\n",
              "            '<a target=\"_blank\" href=https://colab.research.google.com/notebooks/data_table.ipynb>data table notebook</a>'\n",
              "            + ' to learn more about interactive tables.';\n",
              "          element.innerHTML = '';\n",
              "          dataTable['output_type'] = 'display_data';\n",
              "          await google.colab.output.renderOutput(dataTable, element);\n",
              "          const docLink = document.createElement('div');\n",
              "          docLink.innerHTML = docLinkHtml;\n",
              "          element.appendChild(docLink);\n",
              "        }\n",
              "      </script>\n",
              "    </div>\n",
              "  </div>\n",
              "  "
            ]
          },
          "metadata": {},
          "execution_count": 3
        }
      ]
    },
    {
      "cell_type": "markdown",
      "source": [
        "# Preparing Data "
      ],
      "metadata": {
        "id": "pRu_xjlhdnjX"
      }
    },
    {
      "cell_type": "code",
      "source": [
        "# Standardizing Column names\n",
        "lgCan.columns = lgCan.columns.str.replace(' ', '_') # replacing spaces (' ') with  underscore.\n",
        "lgCan.columns = lgCan.columns.str.replace('-', '_') # replacing hyphens ('-') with underscore\n",
        "lgCan.columns = lgCan.columns.str.replace('(', '') # Removing '('\n",
        "lgCan.columns = lgCan.columns.str.replace(')', '') # Removing ')'\n",
        "lgCan.columns= lgCan.columns.str.lower() # converting column names to lower case"
      ],
      "metadata": {
        "colab": {
          "base_uri": "https://localhost:8080/"
        },
        "id": "Pnb-OQfqg4ve",
        "outputId": "608e61a8-e42a-4578-e037-858bb279ff72"
      },
      "execution_count": 4,
      "outputs": [
        {
          "output_type": "stream",
          "name": "stderr",
          "text": [
            "/usr/local/lib/python3.7/dist-packages/ipykernel_launcher.py:4: FutureWarning: The default value of regex will change from True to False in a future version. In addition, single character regular expressions will *not* be treated as literal strings when regex=True.\n",
            "  after removing the cwd from sys.path.\n",
            "/usr/local/lib/python3.7/dist-packages/ipykernel_launcher.py:5: FutureWarning: The default value of regex will change from True to False in a future version. In addition, single character regular expressions will *not* be treated as literal strings when regex=True.\n",
            "  \"\"\"\n"
          ]
        }
      ]
    },
    {
      "cell_type": "code",
      "source": [
        "# Dropping unwanted columns - Creating data for Survival Classification \n",
        "lgCanClf = lgCan.drop(['study_id','overall_survival_months'], axis = 1)\n",
        "\n",
        "# Dropping unwanted columns - Creating data for Survival Time prediction  \n",
        "lgCanReg = lgCan.drop(['study_id','overall_survival_status'], axis = 1)"
      ],
      "metadata": {
        "id": "_bU1sVUbhKri"
      },
      "execution_count": 5,
      "outputs": []
    },
    {
      "cell_type": "markdown",
      "source": [
        "# Neural network"
      ],
      "metadata": {
        "id": "AtBKn6CNlhH2"
      }
    },
    {
      "cell_type": "code",
      "source": [
        "from sklearn.metrics import accuracy_score\n",
        "import tensorflow as tf\n",
        "\n",
        "from tensorflow.python.keras.utils import np_utils\n",
        "from tensorflow.keras.models import Sequential, Model\n",
        "from tensorflow.keras.layers import Dense, Dropout, Flatten, Activation, BatchNormalization, GlobalAveragePooling2D\n",
        "from tensorflow.python.keras.layers.convolutional import Conv2D, MaxPooling2D \n",
        "from tensorflow.keras.preprocessing.image import ImageDataGenerator\n",
        "from tensorflow.keras.optimizers import Adam,SGD,Adagrad,Adadelta,RMSprop\n",
        "from tensorflow.keras.applications import VGG19, ResNet50, InceptionV3, Xception\n",
        "from keras.models import Sequential\n",
        "from keras.layers import Dense\n",
        "from keras.wrappers.scikit_learn import KerasClassifier\n",
        "from sklearn.model_selection import cross_val_score\n",
        "from sklearn.preprocessing import LabelEncoder\n",
        "from sklearn.model_selection import StratifiedKFold\n",
        "from sklearn.preprocessing import StandardScaler\n",
        "from sklearn.pipeline import Pipeline"
      ],
      "metadata": {
        "id": "THZLOsPell6S"
      },
      "execution_count": 6,
      "outputs": []
    },
    {
      "cell_type": "code",
      "source": [
        "from sklearn.model_selection import train_test_split\n",
        "\n",
        "y = lgCanClf['overall_survival_status'] \n",
        "X = lgCanClf.loc[:, lgCanClf.columns != 'overall_survival_status']\n",
        "\n",
        "# Splitting Data into train and test\n",
        "X_train, X_test, y_train, y_test = train_test_split(X, y, test_size = 0.3, random_state=42)\n",
        "\n",
        "# Setting parameters\n",
        "n_features = X_train.shape[1]\n",
        "n_class = len(np.unique(y))"
      ],
      "metadata": {
        "id": "-YqWJ2MrnB-w"
      },
      "execution_count": 7,
      "outputs": []
    },
    {
      "cell_type": "code",
      "source": [
        "n_class"
      ],
      "metadata": {
        "colab": {
          "base_uri": "https://localhost:8080/"
        },
        "id": "5MNjRHZ3aFgt",
        "outputId": "15646e84-8185-44a5-fc95-5961ae71df49"
      },
      "execution_count": 10,
      "outputs": [
        {
          "output_type": "execute_result",
          "data": {
            "text/plain": [
              "2"
            ]
          },
          "metadata": {},
          "execution_count": 10
        }
      ]
    },
    {
      "cell_type": "markdown",
      "source": [
        "# Model 1"
      ],
      "metadata": {
        "id": "vSjA5ti2msje"
      }
    },
    {
      "cell_type": "code",
      "source": [
        "# define the keras model\n",
        "model = Sequential()\n",
        "model.add(Dense(2056, input_dim=n_features, activation='relu', kernel_initializer='he_normal'))\n",
        "model.add(Dense(1028, activation='relu'))\n",
        "model.add(Dense(514, activation='relu'))\n",
        "model.add(Dense(256, activation='relu'))\n",
        "model.add(Dense(128, activation='relu'))\n",
        "model.add(Dense(64, activation='relu'))\n",
        "model.add(Dense(32, activation='relu'))\n",
        "model.add(Dense(16, activation='relu'))\n",
        "model.add(Dense(8, activation='relu'))\n",
        "model.add(Dense(2, activation='softmax'))\n",
        "\n",
        "# compile the keras model\n",
        "model.compile(loss='sparse_categorical_crossentropy', optimizer='adam')\n",
        "\n",
        "# fit the keras model on the dataset\n",
        "model.fit(X_train, y_train, epochs=30, batch_size=32, verbose=2)\n",
        "\n",
        "# evaluate on test set\n",
        "yhat = model.predict(X_test)\n",
        "yhat = np.argmax(yhat, axis=-1).astype('int')\n",
        "acc = accuracy_score(y_test, yhat)\n",
        "print('Accuracy: %.3f' % acc)"
      ],
      "metadata": {
        "colab": {
          "base_uri": "https://localhost:8080/"
        },
        "id": "iv40PBJ7lmPo",
        "outputId": "4d9bddfb-c025-4713-ebdf-8b469586b775"
      },
      "execution_count": 38,
      "outputs": [
        {
          "output_type": "stream",
          "name": "stdout",
          "text": [
            "Epoch 1/30\n",
            "57/57 - 3s - loss: 8.8597 - 3s/epoch - 55ms/step\n",
            "Epoch 2/30\n",
            "57/57 - 2s - loss: 0.6662 - 2s/epoch - 26ms/step\n",
            "Epoch 3/30\n",
            "57/57 - 2s - loss: 0.9826 - 2s/epoch - 27ms/step\n",
            "Epoch 4/30\n",
            "57/57 - 2s - loss: 0.5716 - 2s/epoch - 26ms/step\n",
            "Epoch 5/30\n",
            "57/57 - 2s - loss: 0.5773 - 2s/epoch - 26ms/step\n",
            "Epoch 6/30\n",
            "57/57 - 2s - loss: 0.5718 - 2s/epoch - 27ms/step\n",
            "Epoch 7/30\n",
            "57/57 - 2s - loss: 0.5644 - 2s/epoch - 27ms/step\n",
            "Epoch 8/30\n",
            "57/57 - 2s - loss: 0.5664 - 2s/epoch - 26ms/step\n",
            "Epoch 9/30\n",
            "57/57 - 2s - loss: 0.5710 - 2s/epoch - 27ms/step\n",
            "Epoch 10/30\n",
            "57/57 - 2s - loss: 0.5582 - 2s/epoch - 27ms/step\n",
            "Epoch 11/30\n",
            "57/57 - 2s - loss: 0.5762 - 2s/epoch - 27ms/step\n",
            "Epoch 12/30\n",
            "57/57 - 2s - loss: 0.5653 - 2s/epoch - 27ms/step\n",
            "Epoch 13/30\n",
            "57/57 - 2s - loss: 0.5626 - 2s/epoch - 27ms/step\n",
            "Epoch 14/30\n",
            "57/57 - 2s - loss: 0.5577 - 2s/epoch - 26ms/step\n",
            "Epoch 15/30\n",
            "57/57 - 2s - loss: 0.5859 - 2s/epoch - 27ms/step\n",
            "Epoch 16/30\n",
            "57/57 - 2s - loss: 0.5663 - 2s/epoch - 26ms/step\n",
            "Epoch 17/30\n",
            "57/57 - 2s - loss: 0.5542 - 2s/epoch - 27ms/step\n",
            "Epoch 18/30\n",
            "57/57 - 2s - loss: 0.5530 - 2s/epoch - 27ms/step\n",
            "Epoch 19/30\n",
            "57/57 - 2s - loss: 0.5535 - 2s/epoch - 27ms/step\n",
            "Epoch 20/30\n",
            "57/57 - 2s - loss: 0.5506 - 2s/epoch - 27ms/step\n",
            "Epoch 21/30\n",
            "57/57 - 2s - loss: 0.5549 - 2s/epoch - 27ms/step\n",
            "Epoch 22/30\n",
            "57/57 - 2s - loss: 0.5532 - 2s/epoch - 27ms/step\n",
            "Epoch 23/30\n",
            "57/57 - 2s - loss: 0.5565 - 2s/epoch - 26ms/step\n",
            "Epoch 24/30\n",
            "57/57 - 2s - loss: 0.5482 - 2s/epoch - 26ms/step\n",
            "Epoch 25/30\n",
            "57/57 - 2s - loss: 0.5499 - 2s/epoch - 27ms/step\n",
            "Epoch 26/30\n",
            "57/57 - 2s - loss: 0.5489 - 2s/epoch - 27ms/step\n",
            "Epoch 27/30\n",
            "57/57 - 1s - loss: 0.5469 - 1s/epoch - 26ms/step\n",
            "Epoch 28/30\n",
            "57/57 - 2s - loss: 0.5580 - 2s/epoch - 27ms/step\n",
            "Epoch 29/30\n",
            "57/57 - 2s - loss: 0.5516 - 2s/epoch - 27ms/step\n",
            "Epoch 30/30\n",
            "57/57 - 2s - loss: 0.5508 - 2s/epoch - 27ms/step\n",
            "Accuracy: 0.732\n"
          ]
        }
      ]
    },
    {
      "cell_type": "markdown",
      "source": [
        "# Model 2"
      ],
      "metadata": {
        "id": "uaDVJK2zmz0e"
      }
    },
    {
      "cell_type": "code",
      "source": [
        "from tensorflow import keras\n",
        "\n",
        "model_2 = keras.Sequential([\n",
        "    keras.layers.Flatten(input_shape=(6,)),\n",
        "    keras.layers.Dense(16, activation=tf.nn.relu),\n",
        "\tkeras.layers.Dense(16, activation=tf.nn.relu),\n",
        "    keras.layers.Dense(1, activation=tf.nn.sigmoid),\n",
        "])\n",
        "\n",
        "model_2.compile(optimizer='adam',\n",
        "              loss='binary_crossentropy',\n",
        "              metrics=['accuracy'])\n",
        "\n",
        "model_2.fit(X_train, y_train, epochs=30, batch_size=1)\n",
        "test_loss, test_acc = model_2.evaluate(X_test, y_test)"
      ],
      "metadata": {
        "colab": {
          "base_uri": "https://localhost:8080/"
        },
        "id": "WcYrqH84m2by",
        "outputId": "8f371850-2904-4e5b-b4f3-cab8eb3149c9"
      },
      "execution_count": 48,
      "outputs": [
        {
          "output_type": "stream",
          "name": "stdout",
          "text": [
            "Epoch 1/30\n",
            "1794/1794 [==============================] - 3s 1ms/step - loss: 1.2599 - accuracy: 0.6784\n",
            "Epoch 2/30\n",
            "1794/1794 [==============================] - 2s 1ms/step - loss: 0.8207 - accuracy: 0.6895\n",
            "Epoch 3/30\n",
            "1794/1794 [==============================] - 2s 1ms/step - loss: 0.7416 - accuracy: 0.6884\n",
            "Epoch 4/30\n",
            "1794/1794 [==============================] - 2s 1ms/step - loss: 0.7168 - accuracy: 0.7057\n",
            "Epoch 5/30\n",
            "1794/1794 [==============================] - 2s 1ms/step - loss: 0.6866 - accuracy: 0.7090\n",
            "Epoch 6/30\n",
            "1794/1794 [==============================] - 2s 1ms/step - loss: 0.6221 - accuracy: 0.7140\n",
            "Epoch 7/30\n",
            "1794/1794 [==============================] - 2s 1ms/step - loss: 0.6386 - accuracy: 0.7168\n",
            "Epoch 8/30\n",
            "1794/1794 [==============================] - 2s 1ms/step - loss: 0.5799 - accuracy: 0.7263\n",
            "Epoch 9/30\n",
            "1794/1794 [==============================] - 2s 1ms/step - loss: 0.5877 - accuracy: 0.7163\n",
            "Epoch 10/30\n",
            "1794/1794 [==============================] - 2s 1ms/step - loss: 0.5796 - accuracy: 0.7352\n",
            "Epoch 11/30\n",
            "1794/1794 [==============================] - 3s 1ms/step - loss: 0.5703 - accuracy: 0.7341\n",
            "Epoch 12/30\n",
            "1794/1794 [==============================] - 2s 1ms/step - loss: 0.5596 - accuracy: 0.7414\n",
            "Epoch 13/30\n",
            "1794/1794 [==============================] - 2s 1ms/step - loss: 0.5547 - accuracy: 0.7391\n",
            "Epoch 14/30\n",
            "1794/1794 [==============================] - 2s 1ms/step - loss: 0.5506 - accuracy: 0.7425\n",
            "Epoch 15/30\n",
            "1794/1794 [==============================] - 2s 1ms/step - loss: 0.5468 - accuracy: 0.7447\n",
            "Epoch 16/30\n",
            "1794/1794 [==============================] - 2s 1ms/step - loss: 0.5493 - accuracy: 0.7486\n",
            "Epoch 17/30\n",
            "1794/1794 [==============================] - 2s 1ms/step - loss: 0.5437 - accuracy: 0.7486\n",
            "Epoch 18/30\n",
            "1794/1794 [==============================] - 2s 1ms/step - loss: 0.5399 - accuracy: 0.7503\n",
            "Epoch 19/30\n",
            "1794/1794 [==============================] - 2s 1ms/step - loss: 0.5397 - accuracy: 0.7503\n",
            "Epoch 20/30\n",
            "1794/1794 [==============================] - 2s 1ms/step - loss: 0.5376 - accuracy: 0.7480\n",
            "Epoch 21/30\n",
            "1794/1794 [==============================] - 2s 1ms/step - loss: 0.5398 - accuracy: 0.7503\n",
            "Epoch 22/30\n",
            "1794/1794 [==============================] - 3s 1ms/step - loss: 0.5358 - accuracy: 0.7480\n",
            "Epoch 23/30\n",
            "1794/1794 [==============================] - 2s 1ms/step - loss: 0.5398 - accuracy: 0.7486\n",
            "Epoch 24/30\n",
            "1794/1794 [==============================] - 2s 1ms/step - loss: 0.5392 - accuracy: 0.7508\n",
            "Epoch 25/30\n",
            "1794/1794 [==============================] - 2s 1ms/step - loss: 0.5360 - accuracy: 0.7492\n",
            "Epoch 26/30\n",
            "1794/1794 [==============================] - 2s 1ms/step - loss: 0.5345 - accuracy: 0.7514\n",
            "Epoch 27/30\n",
            "1794/1794 [==============================] - 3s 1ms/step - loss: 0.5343 - accuracy: 0.7486\n",
            "Epoch 28/30\n",
            "1794/1794 [==============================] - 2s 1ms/step - loss: 0.5344 - accuracy: 0.7520\n",
            "Epoch 29/30\n",
            "1794/1794 [==============================] - 2s 1ms/step - loss: 0.5344 - accuracy: 0.7486\n",
            "Epoch 30/30\n",
            "1794/1794 [==============================] - 3s 1ms/step - loss: 0.5342 - accuracy: 0.7503\n",
            "25/25 [==============================] - 0s 2ms/step - loss: 0.5986 - accuracy: 0.7325\n"
          ]
        }
      ]
    },
    {
      "cell_type": "markdown",
      "source": [
        "# Model Evaluation  - Tuned RF model\n",
        "\n",
        "Reference-  [Link](https://www.ritchieng.com/machine-learning-evaluate-classification-model/)"
      ],
      "metadata": {
        "id": "u7NAdA14CxmW"
      }
    },
    {
      "cell_type": "code",
      "source": [
        "# store the predicted probabilities for class 1\n",
        "y_pred_prob=model_2.predict(X_test)\n",
        "\n",
        "# make class predictions for the testing set\n",
        "y_pred_class=np.argmax(y_pred_prob,axis=1)"
      ],
      "metadata": {
        "id": "8Auh_J5-EXoM"
      },
      "execution_count": 43,
      "outputs": []
    },
    {
      "cell_type": "code",
      "source": [
        "# histogram of predicted probabilities\n",
        "\n",
        "# 8 bins\n",
        "plt.hist(y_pred_prob, bins=8)\n",
        "\n",
        "# x-axis limit from 0 to 1\n",
        "plt.xlim(0,1)\n",
        "plt.title('Histogram of predicted probabilities')\n",
        "plt.xlabel('Predicted probability of Survival with Lung Cancer')\n",
        "plt.ylabel('Frequency')"
      ],
      "metadata": {
        "colab": {
          "base_uri": "https://localhost:8080/",
          "height": 317
        },
        "id": "Nx9PhuURCOID",
        "outputId": "44a4ea65-34be-4cf2-a9cf-556e9cb6bed9"
      },
      "execution_count": 45,
      "outputs": [
        {
          "output_type": "execute_result",
          "data": {
            "text/plain": [
              "Text(0, 0.5, 'Frequency')"
            ]
          },
          "metadata": {},
          "execution_count": 45
        },
        {
          "output_type": "display_data",
          "data": {
            "text/plain": [
              "<Figure size 432x288 with 1 Axes>"
            ],
            "image/png": "[encoded data removed]"
          },
          "metadata": {
            "needs_background": "light"
          }
        }
      ]
    },
    {
      "cell_type": "code",
      "source": [
        "from sklearn import metrics\n",
        "# IMPORTANT: first argument is true values, second argument is predicted probabilities\n",
        "\n",
        "# we pass y_test and y_pred_prob\n",
        "# we do not use y_pred_class, because it will give incorrect results without generating an error\n",
        "# roc_curve returns 3 objects fpr, tpr, thresholds\n",
        "# fpr: false positive rate\n",
        "# tpr: true positive rate\n",
        "fpr, tpr, thresholds = metrics.roc_curve(y_test, y_pred_prob)\n",
        "\n",
        "plt.plot(fpr, tpr)\n",
        "plt.xlim([0.0, 1.0])\n",
        "plt.ylim([0.0, 1.0])\n",
        "plt.rcParams['font.size'] = 12\n",
        "plt.title('ROC curve for Survival classifier')\n",
        "plt.xlabel('False Positive Rate (1 - Specificity)')\n",
        "plt.ylabel('True Positive Rate (Sensitivity)')\n",
        "plt.grid(True)"
      ],
      "metadata": {
        "colab": {
          "base_uri": "https://localhost:8080/",
          "height": 302
        },
        "id": "n-kwHCfOB_MU",
        "outputId": "f5f25833-7ab3-4d99-80d2-1c4f834c844a"
      },
      "execution_count": 46,
      "outputs": [
        {
          "output_type": "display_data",
          "data": {
            "text/plain": [
              "<Figure size 432x288 with 1 Axes>"
            ],
            "image/png": "[encoded data removed]"
          },
          "metadata": {
            "needs_background": "light"
          }
        }
      ]
    },
    {
      "cell_type": "code",
      "source": [
        "# IMPORTANT: first argument is true values, second argument is predicted values\n",
        "# this produces a 2x2 numpy array (matrix)\n",
        "print(metrics.confusion_matrix(y_test, y_pred_class))"
      ],
      "metadata": {
        "colab": {
          "base_uri": "https://localhost:8080/"
        },
        "id": "lSsoZvyXERTG",
        "outputId": "42356b34-ee62-4a89-e87a-75ce37d930b9"
      },
      "execution_count": null,
      "outputs": [
        {
          "output_type": "stream",
          "name": "stdout",
          "text": [
            "[[539  25]\n",
            " [ 98 108]]\n"
          ]
        }
      ]
    },
    {
      "cell_type": "code",
      "source": [
        "print(\"Precision score on the Test set: {:.3f}\".format(metrics.precision_score(y_test, y_pred_class)))"
      ],
      "metadata": {
        "colab": {
          "base_uri": "https://localhost:8080/"
        },
        "id": "f-fGZsALFUDQ",
        "outputId": "2eee044f-4527-4f61-f0d0-ead784bec2fb"
      },
      "execution_count": null,
      "outputs": [
        {
          "output_type": "stream",
          "name": "stdout",
          "text": [
            "Precision score on the Test set: 0.812\n"
          ]
        }
      ]
    },
    {
      "cell_type": "code",
      "source": [
        "precisions, recalls, thresholds = metrics.precision_recall_curve(y_test, y_pred_class)\n",
        "\n",
        "plt.plot(thresholds, precisions[:-1], \"b--\", label=\"Precision\")\n",
        "\n",
        "plt.plot(thresholds, recalls[:-1], \"g-\", label=\"Recall\")\n",
        "plt.show()\n"
      ],
      "metadata": {
        "colab": {
          "base_uri": "https://localhost:8080/",
          "height": 268
        },
        "id": "wmc-GsINEszj",
        "outputId": "94f8ba6e-8b00-4b10-8467-d28304d9fe29"
      },
      "execution_count": null,
      "outputs": [
        {
          "output_type": "display_data",
          "data": {
            "text/plain": [
              "<Figure size 432x288 with 1 Axes>"
            ],
            "image/png": "[encoded data removed]"
          },
          "metadata": {
            "needs_background": "light"
          }
        }
      ]
    }
  ]
}