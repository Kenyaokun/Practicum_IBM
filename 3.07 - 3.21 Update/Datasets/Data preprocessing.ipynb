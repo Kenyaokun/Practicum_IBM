{
 "cells": [
  {
   "cell_type": "code",
   "execution_count": 1,
   "id": "165b899e",
   "metadata": {},
   "outputs": [],
   "source": [
    "import pandas as pd"
   ]
  },
  {
   "cell_type": "code",
   "execution_count": 3,
   "id": "09174aae",
   "metadata": {},
   "outputs": [],
   "source": [
    "table1 = pd.read_csv(\"lung_2020.tsv\", sep='\\t')\n",
    "table2 = pd.read_csv(\"lung_2021.tsv\", sep='\\t')"
   ]
  },
  {
   "cell_type": "code",
   "execution_count": 14,
   "id": "033a7310",
   "metadata": {},
   "outputs": [
    {
     "data": {
      "text/plain": [
       "29"
      ]
     },
     "execution_count": 14,
     "metadata": {},
     "output_type": "execute_result"
    }
   ],
   "source": [
    "table1.shape[1]"
   ]
  },
  {
   "cell_type": "code",
   "execution_count": 5,
   "id": "a3d1dc14",
   "metadata": {},
   "outputs": [
    {
     "data": {
      "text/plain": [
       "Index(['Study ID', 'Patient ID', 'Sample ID', 'Diagnosis Age',\n",
       "       'Age at Which Sequencing was Reported (Years)', 'Patient Current Age',\n",
       "       'Archer Panel', 'Cancer Type', 'Cancer Type Detailed', 'CRDB_ADJ_TXT',\n",
       "       'CRDB_BASIC_COMMENTS', 'CRDB_BRAINMET', 'CRDB_CONSENT_DATE_DAYS',\n",
       "       'CRDB_ECOG', 'CRDB_NOSYSTXT', 'CRDB_OFF_STUDY_DAYS', 'CRDB_PRIOR_RX',\n",
       "       'CRDB_SURVEY_COMMENTS', 'CRDB_SURVIVAL_STATUS',\n",
       "       'CRDB_TREATMENT_END_DAYS', 'Date added to cBioPortal',\n",
       "       'Disease Free (Months)', 'Disease Free Status', 'Ethnicity Category',\n",
       "       'Fraction Genome Altered', 'Gene Panel',\n",
       "       'Neoplasm Histologic Type Name', 'Institute Source', 'Metastatic Site',\n",
       "       'MGMT Status', 'Month added to cBioPortal', 'MSI Comment', 'MSI Score',\n",
       "       'MSI Type', 'MSK Slide ID', 'Mutation Count', 'Oncotree Code',\n",
       "       'Overall Survival (Months)', 'Overall Survival Months Reported by DMT',\n",
       "       'Overall Survival Status', 'Overall Status Reported by DMT',\n",
       "       'Other Patient ID', '12-245 Part A Consented',\n",
       "       '12-245 Part C Consented', 'MSK Pathology Slide Available',\n",
       "       'Pediatric Case Indicator', 'Primary Tumor Site', 'Race Category',\n",
       "       'Religion', 'Sample Class', 'Number of Samples Per Patient',\n",
       "       'Sample coverage', 'Sample Type', 'Sex', 'Sex Reported by DMT',\n",
       "       'Somatic Status', 'SO comments', 'TMB (nonsynonymous)', 'Tumor Purity',\n",
       "       'Week added to cBioPortal', 'WHO Grade'],\n",
       "      dtype='object')"
      ]
     },
     "execution_count": 5,
     "metadata": {},
     "output_type": "execute_result"
    }
   ],
   "source": [
    "table2.columns"
   ]
  },
  {
   "cell_type": "code",
   "execution_count": 7,
   "id": "9e7769bf",
   "metadata": {},
   "outputs": [],
   "source": [
    "table = pd.concat([table1, table2])"
   ]
  },
  {
   "cell_type": "code",
   "execution_count": 11,
   "id": "825f786d",
   "metadata": {},
   "outputs": [
    {
     "data": {
      "text/html": [
       "<div>\n",
       "<style scoped>\n",
       "    .dataframe tbody tr th:only-of-type {\n",
       "        vertical-align: middle;\n",
       "    }\n",
       "\n",
       "    .dataframe tbody tr th {\n",
       "        vertical-align: top;\n",
       "    }\n",
       "\n",
       "    .dataframe thead th {\n",
       "        text-align: right;\n",
       "    }\n",
       "</style>\n",
       "<table border=\"1\" class=\"dataframe\">\n",
       "  <thead>\n",
       "    <tr style=\"text-align: right;\">\n",
       "      <th></th>\n",
       "      <th>Study ID</th>\n",
       "      <th>Patient ID</th>\n",
       "      <th>Sample ID</th>\n",
       "      <th>Age At Surgery</th>\n",
       "      <th>Cancer Type</th>\n",
       "      <th>Cancer Type Detailed</th>\n",
       "      <th>Clinical Nodal Status</th>\n",
       "      <th>CT Size</th>\n",
       "      <th>Diffusion lung capacity for carbon monoxide</th>\n",
       "      <th>FEV1</th>\n",
       "      <th>...</th>\n",
       "      <th>Religion</th>\n",
       "      <th>Sample Class</th>\n",
       "      <th>Sample coverage</th>\n",
       "      <th>Sample Type</th>\n",
       "      <th>Sex Reported by DMT</th>\n",
       "      <th>Somatic Status</th>\n",
       "      <th>SO comments</th>\n",
       "      <th>Tumor Purity</th>\n",
       "      <th>Week added to cBioPortal</th>\n",
       "      <th>WHO Grade</th>\n",
       "    </tr>\n",
       "  </thead>\n",
       "  <tbody>\n",
       "  </tbody>\n",
       "</table>\n",
       "<p>0 rows × 77 columns</p>\n",
       "</div>"
      ],
      "text/plain": [
       "Empty DataFrame\n",
       "Columns: [Study ID, Patient ID, Sample ID, Age At Surgery, Cancer Type, Cancer Type Detailed, Clinical Nodal Status, CT Size, Diffusion lung capacity for carbon monoxide, FEV1, FGA Facets, Fraction Genome Altered, Mutation Count, Oncotree Code, Overall Survival (Months), Overall Survival Status, Pathologic Stage, Pathologic Nodal Status, Predominant Histologic Subtype, Relapse Free Status (Months), Relapse Free Status, Number of Samples Per Patient, Sex, Smoking History, Person Cigarette Smoking History Pack Year Value, Subtype Group, Standardized uptake values , Tumor Mutation Burden, TMB (nonsynonymous), Diagnosis Age, Age at Which Sequencing was Reported (Years), Patient Current Age, Archer Panel, CRDB_ADJ_TXT, CRDB_BASIC_COMMENTS, CRDB_BRAINMET, CRDB_CONSENT_DATE_DAYS, CRDB_ECOG, CRDB_NOSYSTXT, CRDB_OFF_STUDY_DAYS, CRDB_PRIOR_RX, CRDB_SURVEY_COMMENTS, CRDB_SURVIVAL_STATUS, CRDB_TREATMENT_END_DAYS, Date added to cBioPortal, Disease Free (Months), Disease Free Status, Ethnicity Category, Gene Panel, Neoplasm Histologic Type Name, Institute Source, Metastatic Site, MGMT Status, Month added to cBioPortal, MSI Comment, MSI Score, MSI Type, MSK Slide ID, Overall Survival Months Reported by DMT, Overall Status Reported by DMT, Other Patient ID, 12-245 Part A Consented, 12-245 Part C Consented, MSK Pathology Slide Available, Pediatric Case Indicator, Primary Tumor Site, Race Category, Religion, Sample Class, Sample coverage, Sample Type, Sex Reported by DMT, Somatic Status, SO comments, Tumor Purity, Week added to cBioPortal, WHO Grade]\n",
       "Index: []\n",
       "\n",
       "[0 rows x 77 columns]"
      ]
     },
     "execution_count": 11,
     "metadata": {},
     "output_type": "execute_result"
    }
   ],
   "source": [
    "ta b le"
   ]
  },
  {
   "cell_type": "code",
   "execution_count": 16,
   "id": "ea5bcbfb",
   "metadata": {},
   "outputs": [],
   "source": [
    "tcga1 = pd.read_csv(\"TCGA1.tsv\", sep='\\t')\n",
    "tcga2 = pd.read_csv(\"TCGA2.tsv\", sep='\\t')"
   ]
  },
  {
   "cell_type": "code",
   "execution_count": 41,
   "id": "ae728f81",
   "metadata": {},
   "outputs": [],
   "source": [
    "tcga = pd.concat([tcga1, tcga2], axis=0, ignore_index=True)"
   ]
  },
  {
   "cell_type": "code",
   "execution_count": 44,
   "id": "b85e3ae6",
   "metadata": {},
   "outputs": [
    {
     "data": {
      "text/plain": [
       "Index(['Study ID', 'Patient ID', 'Sample ID', 'Diagnosis Age',\n",
       "       'Neoplasm Disease Stage American Joint Committee on Cancer Code',\n",
       "       'American Joint Committee on Cancer Publication Version Type',\n",
       "       'Aneuploidy Score', 'Buffa Hypoxia Score', 'Cancer Type',\n",
       "       'TCGA PanCanAtlas Cancer Type Acronym', 'Cancer Type Detailed',\n",
       "       'Last Communication Contact from Initial Pathologic Diagnosis Date',\n",
       "       'Birth from Initial Pathologic Diagnosis Date',\n",
       "       'Last Alive Less Initial Pathologic Diagnosis Date Calculated Day Value',\n",
       "       'Disease Free (Months)', 'Disease Free Status',\n",
       "       'Months of disease-specific survival',\n",
       "       'Disease-specific Survival status', 'Ethnicity Category',\n",
       "       'Form completion date', 'Fraction Genome Altered',\n",
       "       'Neoplasm Histologic Grade',\n",
       "       'Neoadjuvant Therapy Type Administered Prior To Resection Text',\n",
       "       'ICD-10 Classification',\n",
       "       'International Classification of Diseases for Oncology, Third Edition ICD-O-3 Histology Code',\n",
       "       'International Classification of Diseases for Oncology, Third Edition ICD-O-3 Site Code',\n",
       "       'Informed consent verified', 'In PanCan Pathway Analysis',\n",
       "       'MSI MANTIS Score', 'MSIsensor Score', 'Mutation Count',\n",
       "       'New Neoplasm Event Post Initial Therapy Indicator', 'Oncotree Code',\n",
       "       'Overall Survival (Months)', 'Overall Survival Status',\n",
       "       'Other Patient ID',\n",
       "       'American Joint Committee on Cancer Metastasis Stage Code',\n",
       "       'Neoplasm Disease Lymph Node Stage American Joint Committee on Cancer Code',\n",
       "       'American Joint Committee on Cancer Tumor Stage Code',\n",
       "       'Person Neoplasm Cancer Status', 'Progress Free Survival (Months)',\n",
       "       'Progression Free Status', 'Primary Lymph Node Presentation Assessment',\n",
       "       'Prior Diagnosis', 'Race Category', 'Radiation Therapy',\n",
       "       'Ragnum Hypoxia Score', 'Number of Samples Per Patient', 'Sample Type',\n",
       "       'Sex', 'Somatic Status', 'Subtype',\n",
       "       'Tissue Prospective Collection Indicator',\n",
       "       'Tissue Retrospective Collection Indicator', 'Tissue Source Site',\n",
       "       'Tissue Source Site Code', 'TMB (nonsynonymous)',\n",
       "       'Tumor Disease Anatomic Site', 'Tumor Type', 'Patient Weight',\n",
       "       'Winter Hypoxia Score'],\n",
       "      dtype='object')"
      ]
     },
     "execution_count": 44,
     "metadata": {},
     "output_type": "execute_result"
    }
   ],
   "source": [
    "tcga.columns"
   ]
  },
  {
   "cell_type": "code",
   "execution_count": 54,
   "id": "963e0eab",
   "metadata": {},
   "outputs": [
    {
     "data": {
      "text/html": [
       "<div>\n",
       "<style scoped>\n",
       "    .dataframe tbody tr th:only-of-type {\n",
       "        vertical-align: middle;\n",
       "    }\n",
       "\n",
       "    .dataframe tbody tr th {\n",
       "        vertical-align: top;\n",
       "    }\n",
       "\n",
       "    .dataframe thead th {\n",
       "        text-align: right;\n",
       "    }\n",
       "</style>\n",
       "<table border=\"1\" class=\"dataframe\">\n",
       "  <thead>\n",
       "    <tr style=\"text-align: right;\">\n",
       "      <th></th>\n",
       "      <th>Tissue Source Site Code</th>\n",
       "      <th>TMB (nonsynonymous)</th>\n",
       "      <th>Tumor Disease Anatomic Site</th>\n",
       "      <th>Tumor Type</th>\n",
       "      <th>Patient Weight</th>\n",
       "      <th>Winter Hypoxia Score</th>\n",
       "    </tr>\n",
       "  </thead>\n",
       "  <tbody>\n",
       "    <tr>\n",
       "      <th>0</th>\n",
       "      <td>5</td>\n",
       "      <td>6.400000</td>\n",
       "      <td>Lung</td>\n",
       "      <td>Lung Adenocarcinoma (NOS)</td>\n",
       "      <td>NaN</td>\n",
       "      <td>20.0</td>\n",
       "    </tr>\n",
       "    <tr>\n",
       "      <th>1</th>\n",
       "      <td>5</td>\n",
       "      <td>10.000000</td>\n",
       "      <td>Lung</td>\n",
       "      <td>Lung Adenocarcinoma (NOS)</td>\n",
       "      <td>NaN</td>\n",
       "      <td>-26.0</td>\n",
       "    </tr>\n",
       "    <tr>\n",
       "      <th>2</th>\n",
       "      <td>5</td>\n",
       "      <td>10.500000</td>\n",
       "      <td>Lung</td>\n",
       "      <td>Lung Adenocarcinoma (NOS)</td>\n",
       "      <td>NaN</td>\n",
       "      <td>32.0</td>\n",
       "    </tr>\n",
       "    <tr>\n",
       "      <th>3</th>\n",
       "      <td>5</td>\n",
       "      <td>51.733333</td>\n",
       "      <td>Lung</td>\n",
       "      <td>Lung Adenocarcinoma, Mixed Subtype</td>\n",
       "      <td>NaN</td>\n",
       "      <td>34.0</td>\n",
       "    </tr>\n",
       "    <tr>\n",
       "      <th>4</th>\n",
       "      <td>5</td>\n",
       "      <td>3.966667</td>\n",
       "      <td>Lung</td>\n",
       "      <td>Lung Adenocarcinoma, Mixed Subtype</td>\n",
       "      <td>NaN</td>\n",
       "      <td>-24.0</td>\n",
       "    </tr>\n",
       "    <tr>\n",
       "      <th>...</th>\n",
       "      <td>...</td>\n",
       "      <td>...</td>\n",
       "      <td>...</td>\n",
       "      <td>...</td>\n",
       "      <td>...</td>\n",
       "      <td>...</td>\n",
       "    </tr>\n",
       "    <tr>\n",
       "      <th>1048</th>\n",
       "      <td>O2</td>\n",
       "      <td>11.066667</td>\n",
       "      <td>Lung</td>\n",
       "      <td>Lung Squamous Cell Carcinoma (NOS)</td>\n",
       "      <td>NaN</td>\n",
       "      <td>28.0</td>\n",
       "    </tr>\n",
       "    <tr>\n",
       "      <th>1049</th>\n",
       "      <td>O2</td>\n",
       "      <td>7.333333</td>\n",
       "      <td>Lung</td>\n",
       "      <td>Lung Squamous Cell Carcinoma (NOS)</td>\n",
       "      <td>NaN</td>\n",
       "      <td>60.0</td>\n",
       "    </tr>\n",
       "    <tr>\n",
       "      <th>1050</th>\n",
       "      <td>O2</td>\n",
       "      <td>3.633333</td>\n",
       "      <td>Lung</td>\n",
       "      <td>Lung Squamous Cell Carcinoma (NOS)</td>\n",
       "      <td>NaN</td>\n",
       "      <td>46.0</td>\n",
       "    </tr>\n",
       "    <tr>\n",
       "      <th>1051</th>\n",
       "      <td>O2</td>\n",
       "      <td>7.533333</td>\n",
       "      <td>Lung</td>\n",
       "      <td>Lung Squamous Cell Carcinoma (NOS)</td>\n",
       "      <td>NaN</td>\n",
       "      <td>22.0</td>\n",
       "    </tr>\n",
       "    <tr>\n",
       "      <th>1052</th>\n",
       "      <td>XC</td>\n",
       "      <td>5.400000</td>\n",
       "      <td>Lung</td>\n",
       "      <td>Lung Squamous Cell Carcinoma (NOS)</td>\n",
       "      <td>NaN</td>\n",
       "      <td>28.0</td>\n",
       "    </tr>\n",
       "  </tbody>\n",
       "</table>\n",
       "<p>1053 rows × 6 columns</p>\n",
       "</div>"
      ],
      "text/plain": [
       "     Tissue Source Site Code  TMB (nonsynonymous) Tumor Disease Anatomic Site  \\\n",
       "0                          5             6.400000                        Lung   \n",
       "1                          5            10.000000                        Lung   \n",
       "2                          5            10.500000                        Lung   \n",
       "3                          5            51.733333                        Lung   \n",
       "4                          5             3.966667                        Lung   \n",
       "...                      ...                  ...                         ...   \n",
       "1048                      O2            11.066667                        Lung   \n",
       "1049                      O2             7.333333                        Lung   \n",
       "1050                      O2             3.633333                        Lung   \n",
       "1051                      O2             7.533333                        Lung   \n",
       "1052                      XC             5.400000                        Lung   \n",
       "\n",
       "                              Tumor Type  Patient Weight  Winter Hypoxia Score  \n",
       "0              Lung Adenocarcinoma (NOS)             NaN                  20.0  \n",
       "1              Lung Adenocarcinoma (NOS)             NaN                 -26.0  \n",
       "2              Lung Adenocarcinoma (NOS)             NaN                  32.0  \n",
       "3     Lung Adenocarcinoma, Mixed Subtype             NaN                  34.0  \n",
       "4     Lung Adenocarcinoma, Mixed Subtype             NaN                 -24.0  \n",
       "...                                  ...             ...                   ...  \n",
       "1048  Lung Squamous Cell Carcinoma (NOS)             NaN                  28.0  \n",
       "1049  Lung Squamous Cell Carcinoma (NOS)             NaN                  60.0  \n",
       "1050  Lung Squamous Cell Carcinoma (NOS)             NaN                  46.0  \n",
       "1051  Lung Squamous Cell Carcinoma (NOS)             NaN                  22.0  \n",
       "1052  Lung Squamous Cell Carcinoma (NOS)             NaN                  28.0  \n",
       "\n",
       "[1053 rows x 6 columns]"
      ]
     },
     "execution_count": 54,
     "metadata": {},
     "output_type": "execute_result"
    }
   ],
   "source": [
    "tcga[['Tissue Source Site Code', 'TMB (nonsynonymous)',\n",
    "       'Tumor Disease Anatomic Site', 'Tumor Type', 'Patient Weight',\n",
    "       'Winter Hypoxia Score']]"
   ]
  },
  {
   "cell_type": "code",
   "execution_count": 63,
   "id": "00a3e867",
   "metadata": {},
   "outputs": [],
   "source": [
    "Lung_Adenocarcinoma_Data =  tcga.drop(columns = ['Study ID', 'Sample ID', 'Last Alive Less Initial Pathologic Diagnosis Date Calculated Day Value','Neoplasm Histologic Grade', 'Neoadjuvant Therapy Type Administered Prior To Resection Text', 'Informed consent verified','In PanCan Pathway Analysis', 'Oncotree Code', 'Primary Lymph Node Presentation Assessment', 'Race Category', 'Subtype', 'Tissue Prospective Collection Indicator', \n",
    "                                                 'Tissue Retrospective Collection Indicator', 'Tissue Source Site', 'Other Patient ID', 'Tissue Source Site Code', 'Tumor Disease Anatomic Site','Patient Weight','International Classification of Diseases for Oncology, Third Edition ICD-O-3 Histology Code',\n",
    "                                                 'International Classification of Diseases for Oncology, Third Edition ICD-O-3 Site Code', 'Neoplasm Disease Stage American Joint Committee on Cancer Code',\n",
    "                                                 'American Joint Committee on Cancer Publication Version Type', 'American Joint Committee on Cancer Tumor Stage Code'])"
   ]
  },
  {
   "cell_type": "code",
   "execution_count": 66,
   "id": "0290ad2f",
   "metadata": {
    "scrolled": true
   },
   "outputs": [],
   "source": [
    "Lung_Adenocarcinoma_Data.to_csv(\"Lung_Adenocarcinoma_Data\")"
   ]
  },
  {
   "cell_type": "code",
   "execution_count": null,
   "id": "53fb8992",
   "metadata": {},
   "outputs": [],
   "source": []
  }
 ],
 "metadata": {
  "kernelspec": {
   "display_name": "Python 3 (ipykernel)",
   "language": "python",
   "name": "python3"
  },
  "language_info": {
   "codemirror_mode": {
    "name": "ipython",
    "version": 3
   },
   "file_extension": ".py",
   "mimetype": "text/x-python",
   "name": "python",
   "nbconvert_exporter": "python",
   "pygments_lexer": "ipython3",
   "version": "3.9.7"
  }
 },
 "nbformat": 4,
 "nbformat_minor": 5
}
